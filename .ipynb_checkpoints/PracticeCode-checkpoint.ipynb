{
 "cells": [
  {
   "cell_type": "markdown",
   "metadata": {},
   "source": [
    "# <font color=red face=\"Barriecito\" size=14> Sort </font>"
   ]
  },
  {
   "cell_type": "markdown",
   "metadata": {},
   "source": [
    "## Qsort "
   ]
  },
  {
   "cell_type": "code",
   "execution_count": 142,
   "metadata": {},
   "outputs": [
    {
     "data": {
      "text/plain": [
       "array([21, 76, 90, 98, 93, 76, 28, 85, 14, 20, 63])"
      ]
     },
     "execution_count": 142,
     "metadata": {},
     "output_type": "execute_result"
    }
   ],
   "source": [
    "import numpy as np\n",
    "arr1 = np.random.randint(0,100,11)\n",
    "arr1"
   ]
  },
  {
   "cell_type": "markdown",
   "metadata": {},
   "source": [
    "### Make filter funciton and use to filter built-in function."
   ]
  },
  {
   "cell_type": "code",
   "execution_count": 166,
   "metadata": {},
   "outputs": [
    {
     "name": "stdout",
     "output_type": "stream",
     "text": [
      "[14, 20]\n",
      "[76, 90, 98, 93, 76, 28, 85, 63]\n"
     ]
    }
   ],
   "source": [
    "def ltpivot(x):\n",
    "    if x < pivot:\n",
    "        return True\n",
    "    return False\n",
    "def rtpivot(x):\n",
    "    if x > pivot:\n",
    "        return True\n",
    "    return False\n",
    "\n",
    "pivot = arr1[0]\n",
    "print list(filter(ltpivot, arr1))\n",
    "print list(filter(rtpivot, arr1))\n"
   ]
  },
  {
   "cell_type": "markdown",
   "metadata": {},
   "source": [
    "### Smart Way to use lambda function"
   ]
  },
  {
   "cell_type": "code",
   "execution_count": 136,
   "metadata": {},
   "outputs": [],
   "source": [
    "def Qsort(arr):\n",
    "    if len(arr) <= 1:\n",
    "        return arr\n",
    "    pivot = arr[0]\n",
    "    left = list(filter(lambda x: (x < pivot), arr))\n",
    "    right = list(filter(lambda x: (x >= pivot), arr))\n",
    "    if (pivot == right[0]): # get rid of duplication for pivot value\n",
    "        right.pop(0)\n",
    "\n",
    "    leftsorted = Qsort(left)\n",
    "    rightsorted = Qsort(right)\n",
    "    \n",
    "    leftsorted.append(pivot)\n",
    "    return leftsorted+rightsorted"
   ]
  },
  {
   "cell_type": "code",
   "execution_count": 137,
   "metadata": {},
   "outputs": [
    {
     "name": "stdout",
     "output_type": "stream",
     "text": [
      "[81 33 69 49 67 93 64  4 80 32]\n",
      "[4, 32, 33, 49, 64, 67, 69, 80, 81, 93]\n"
     ]
    }
   ],
   "source": [
    "res = Qsort(arr1)\n",
    "\n",
    "print arr1\n",
    "print res"
   ]
  },
  {
   "cell_type": "markdown",
   "metadata": {},
   "source": [
    "# Msort"
   ]
  },
  {
   "cell_type": "code",
   "execution_count": 164,
   "metadata": {},
   "outputs": [
    {
     "data": {
      "text/plain": [
       "[67, 3, 50, 29, 99, 26, 3, 72, 91, 99]"
      ]
     },
     "execution_count": 164,
     "metadata": {},
     "output_type": "execute_result"
    }
   ],
   "source": [
    "arrm = list(np.random.randint(0,100,10))\n",
    "arrm"
   ]
  },
  {
   "cell_type": "code",
   "execution_count": 162,
   "metadata": {},
   "outputs": [],
   "source": [
    "def Msort(arr):\n",
    "    if len(arr) <= 1:\n",
    "        return arr\n",
    "    left = Msort(arr[:len(arr)/2])\n",
    "    right = Msort(arr[len(arr)/2:])\n",
    "    arr = Merge(left, right)\n",
    "    return arr\n",
    "\n",
    "def Merge(left, right):\n",
    "    result = []\n",
    "    while ( (len(left)>0) and (len(right)>0) ):\n",
    "        if (left[0] < right[0]):\n",
    "            result.append(left.pop(0))\n",
    "        else:\n",
    "            result.append(right.pop(0))\n",
    "    if (len(left) == 0):\n",
    "        result += right\n",
    "    elif (len(right) == 0):\n",
    "        result += left\n",
    "    return result"
   ]
  },
  {
   "cell_type": "code",
   "execution_count": 165,
   "metadata": {
    "scrolled": true
   },
   "outputs": [
    {
     "name": "stdout",
     "output_type": "stream",
     "text": [
      "[3, 3, 26, 29, 50, 67, 72, 91, 99, 99]\n"
     ]
    }
   ],
   "source": [
    "res = Msort(arrm)\n",
    "print res"
   ]
  },
  {
   "cell_type": "markdown",
   "metadata": {},
   "source": [
    "# <font color=red face=\"Barriecito\" size=14> Array </font> "
   ]
  },
  {
   "cell_type": "markdown",
   "metadata": {},
   "source": [
    "## Find the pair with given sum in the array"
   ]
  },
  {
   "cell_type": "markdown",
   "metadata": {},
   "source": [
    "### (1) Naive Approch with any 2 combinations"
   ]
  },
  {
   "cell_type": "code",
   "execution_count": 206,
   "metadata": {
    "scrolled": true
   },
   "outputs": [
    {
     "data": {
      "text/plain": [
       "array([1, 7, 6, 5, 4, 0, 9, 9])"
      ]
     },
     "execution_count": 206,
     "metadata": {},
     "output_type": "execute_result"
    }
   ],
   "source": [
    "arr = np.random.randint(0,10,8)\n",
    "arr"
   ]
  },
  {
   "cell_type": "code",
   "execution_count": 187,
   "metadata": {
    "scrolled": true
   },
   "outputs": [
    {
     "name": "stdout",
     "output_type": "stream",
     "text": [
      "1 3 3 5\n",
      "6 7 4 4\n"
     ]
    }
   ],
   "source": [
    "gsum = 8\n",
    "for i in range(len(arr)):\n",
    "    for j in range(i+1, len(arr)):\n",
    "        if arr[i] + arr[j] == gsum:\n",
    "            print i, j, arr[i], arr[j]\n",
    "            "
   ]
  },
  {
   "cell_type": "markdown",
   "metadata": {},
   "source": [
    "### (2) Smart Way"
   ]
  },
  {
   "cell_type": "code",
   "execution_count": 222,
   "metadata": {},
   "outputs": [
    {
     "name": "stdout",
     "output_type": "stream",
     "text": [
      "[0, 1, 4, 5, 6, 7, 9, 9]\n",
      "7\n",
      "1 6 1 9\n",
      "1 7 1 9\n",
      "2 4 4 6\n"
     ]
    }
   ],
   "source": [
    "# Sort First\n",
    "\n",
    "def Qsort(arr):\n",
    "    if ( len(arr) <= 1):\n",
    "        return arr\n",
    "    pivot = arr[0]\n",
    "    left = list(filter(lambda x: (x<pivot), arr))\n",
    "    right = list(filter( lambda x: (x>=pivot), arr))\n",
    "    if (pivot == right[0]):\n",
    "        right.pop(0)\n",
    "        \n",
    "    left = Qsort(left)\n",
    "    right = Qsort(right)\n",
    "    left.append(pivot)\n",
    "    return left+right\n",
    "\n",
    "result = Qsort(arr)\n",
    "print result\n",
    "\n",
    "gsum = 10\n",
    "# find the position that less than the given sum value.\n",
    "for i in range(len(result)-1,0,-1):\n",
    "    if result[i] < gsum:\n",
    "        pos = i\n",
    "        break\n",
    "print pos\n",
    "\n",
    "for i in range(pos+1):\n",
    "    for j in range(i+1, pos+1):\n",
    "        if result[i] + result[j] == gsum:\n",
    "            print i, j, result[i], result[j]"
   ]
  }
 ],
 "metadata": {
  "kernelspec": {
   "display_name": "Python 2",
   "language": "python",
   "name": "python2"
  },
  "language_info": {
   "codemirror_mode": {
    "name": "ipython",
    "version": 2
   },
   "file_extension": ".py",
   "mimetype": "text/x-python",
   "name": "python",
   "nbconvert_exporter": "python",
   "pygments_lexer": "ipython2",
   "version": "2.7.15"
  }
 },
 "nbformat": 4,
 "nbformat_minor": 2
}
