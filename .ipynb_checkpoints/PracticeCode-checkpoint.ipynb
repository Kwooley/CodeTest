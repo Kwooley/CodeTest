{
 "cells": [
  {
   "cell_type": "markdown",
   "metadata": {},
   "source": [
    "# <font color=red face=\"Barriecito\" size=14> Sort </font>"
   ]
  },
  {
   "cell_type": "markdown",
   "metadata": {},
   "source": [
    "<font face=\"Roboto\" size=6> Qsort </font>"
   ]
  },
  {
   "cell_type": "code",
   "execution_count": 142,
   "metadata": {},
   "outputs": [
    {
     "data": {
      "text/plain": [
       "array([21, 76, 90, 98, 93, 76, 28, 85, 14, 20, 63])"
      ]
     },
     "execution_count": 142,
     "metadata": {},
     "output_type": "execute_result"
    }
   ],
   "source": [
    "import numpy as np\n",
    "arr1 = np.random.randint(0,100,11)\n",
    "arr1"
   ]
  },
  {
   "cell_type": "markdown",
   "metadata": {},
   "source": [
    "### Make filter funciton and use to filter built-in function."
   ]
  },
  {
   "cell_type": "code",
   "execution_count": 166,
   "metadata": {},
   "outputs": [
    {
     "name": "stdout",
     "output_type": "stream",
     "text": [
      "[14, 20]\n",
      "[76, 90, 98, 93, 76, 28, 85, 63]\n"
     ]
    }
   ],
   "source": [
    "def ltpivot(x):\n",
    "    if x < pivot:\n",
    "        return True\n",
    "    return False\n",
    "def rtpivot(x):\n",
    "    if x > pivot:\n",
    "        return True\n",
    "    return False\n",
    "\n",
    "pivot = arr1[0]\n",
    "print list(filter(ltpivot, arr1))\n",
    "print list(filter(rtpivot, arr1))\n"
   ]
  },
  {
   "cell_type": "markdown",
   "metadata": {},
   "source": [
    "### Smart Way to use lambda function"
   ]
  },
  {
   "cell_type": "code",
   "execution_count": 136,
   "metadata": {},
   "outputs": [],
   "source": [
    "def Qsort(arr):\n",
    "    if len(arr) <= 1:\n",
    "        return arr\n",
    "    pivot = arr[0]\n",
    "    left = list(filter(lambda x: (x < pivot), arr))\n",
    "    right = list(filter(lambda x: (x >= pivot), arr))\n",
    "    if (pivot == right[0]): # get rid of duplication for pivot value\n",
    "        right.pop(0)\n",
    "\n",
    "    leftsorted = Qsort(left)\n",
    "    rightsorted = Qsort(right)\n",
    "    \n",
    "    leftsorted.append(pivot)\n",
    "    return leftsorted+rightsorted"
   ]
  },
  {
   "cell_type": "code",
   "execution_count": 137,
   "metadata": {},
   "outputs": [
    {
     "name": "stdout",
     "output_type": "stream",
     "text": [
      "[81 33 69 49 67 93 64  4 80 32]\n",
      "[4, 32, 33, 49, 64, 67, 69, 80, 81, 93]\n"
     ]
    }
   ],
   "source": [
    "res = Qsort(arr1)\n",
    "\n",
    "print arr1\n",
    "print res"
   ]
  },
  {
   "cell_type": "markdown",
   "metadata": {},
   "source": [
    "<font face=\"Roboto\" size=6> Msort </font>"
   ]
  },
  {
   "cell_type": "code",
   "execution_count": 164,
   "metadata": {},
   "outputs": [
    {
     "data": {
      "text/plain": [
       "[67, 3, 50, 29, 99, 26, 3, 72, 91, 99]"
      ]
     },
     "execution_count": 164,
     "metadata": {},
     "output_type": "execute_result"
    }
   ],
   "source": [
    "arrm = list(np.random.randint(0,100,10))\n",
    "arrm"
   ]
  },
  {
   "cell_type": "code",
   "execution_count": 162,
   "metadata": {},
   "outputs": [],
   "source": [
    "def Msort(arr):\n",
    "    if len(arr) <= 1:\n",
    "        return arr\n",
    "    left = Msort(arr[:len(arr)/2])\n",
    "    right = Msort(arr[len(arr)/2:])\n",
    "    arr = Merge(left, right)\n",
    "    return arr\n",
    "\n",
    "def Merge(left, right):\n",
    "    result = []\n",
    "    while ( (len(left)>0) and (len(right)>0) ):\n",
    "        if (left[0] < right[0]):\n",
    "            result.append(left.pop(0))\n",
    "        else:\n",
    "            result.append(right.pop(0))\n",
    "    if (len(left) == 0):\n",
    "        result += right\n",
    "    elif (len(right) == 0):\n",
    "        result += left\n",
    "    return result"
   ]
  },
  {
   "cell_type": "code",
   "execution_count": 165,
   "metadata": {
    "scrolled": true
   },
   "outputs": [
    {
     "name": "stdout",
     "output_type": "stream",
     "text": [
      "[3, 3, 26, 29, 50, 67, 72, 91, 99, 99]\n"
     ]
    }
   ],
   "source": [
    "res = Msort(arrm)\n",
    "print res"
   ]
  },
  {
   "cell_type": "markdown",
   "metadata": {},
   "source": [
    "# <font color=red face=\"Barriecito\" size=14> Array </font> "
   ]
  },
  {
   "cell_type": "markdown",
   "metadata": {},
   "source": [
    "<font face=\"Adobe\" size=5> [1] Find the pair with given sum in the array </font>"
   ]
  },
  {
   "cell_type": "markdown",
   "metadata": {},
   "source": [
    "<font face=\"Sans Serif\" size=3> (1) Naive Approch with any 2 combinations </font>"
   ]
  },
  {
   "cell_type": "code",
   "execution_count": 206,
   "metadata": {
    "scrolled": true
   },
   "outputs": [
    {
     "data": {
      "text/plain": [
       "array([1, 7, 6, 5, 4, 0, 9, 9])"
      ]
     },
     "execution_count": 206,
     "metadata": {},
     "output_type": "execute_result"
    }
   ],
   "source": [
    "arr = np.random.randint(0,10,8)\n",
    "arr"
   ]
  },
  {
   "cell_type": "code",
   "execution_count": 187,
   "metadata": {
    "scrolled": true
   },
   "outputs": [
    {
     "name": "stdout",
     "output_type": "stream",
     "text": [
      "1 3 3 5\n",
      "6 7 4 4\n"
     ]
    }
   ],
   "source": [
    "gsum = 8\n",
    "for i in range(len(arr)):\n",
    "    for j in range(i+1, len(arr)):\n",
    "        if arr[i] + arr[j] == gsum:\n",
    "            print i, j, arr[i], arr[j]\n",
    "            "
   ]
  },
  {
   "cell_type": "markdown",
   "metadata": {},
   "source": [
    "<font face=\"Sans Serif\" size=3> (2) Smart Way </font>"
   ]
  },
  {
   "cell_type": "code",
   "execution_count": 222,
   "metadata": {
    "scrolled": true
   },
   "outputs": [
    {
     "name": "stdout",
     "output_type": "stream",
     "text": [
      "[0, 1, 4, 5, 6, 7, 9, 9]\n",
      "7\n",
      "1 6 1 9\n",
      "1 7 1 9\n",
      "2 4 4 6\n"
     ]
    }
   ],
   "source": [
    "# Sort First\n",
    "\n",
    "def Qsort(arr):\n",
    "    if ( len(arr) <= 1):\n",
    "        return arr\n",
    "    pivot = arr[0]\n",
    "    left = list(filter(lambda x: (x<pivot), arr))\n",
    "    right = list(filter( lambda x: (x>=pivot), arr))\n",
    "    if (pivot == right[0]):\n",
    "        right.pop(0)\n",
    "        \n",
    "    left = Qsort(left)\n",
    "    right = Qsort(right)\n",
    "    left.append(pivot)\n",
    "    return left+right\n",
    "\n",
    "result = Qsort(arr)\n",
    "print result\n",
    "\n",
    "gsum = 10\n",
    "# find the position that less than the given sum value.\n",
    "for i in range(len(result)-1,0,-1):\n",
    "    if result[i] < gsum:\n",
    "        pos = i\n",
    "        break\n",
    "print pos\n",
    "\n",
    "for i in range(pos+1):\n",
    "    for j in range(i+1, pos+1):\n",
    "        if result[i] + result[j] == gsum:\n",
    "            print i, j, result[i], result[j]"
   ]
  },
  {
   "cell_type": "markdown",
   "metadata": {},
   "source": [
    "<font face=\"Adobe\" size=5> [2] Check if the subarry with 0 sum is exist or not </font>"
   ]
  },
  {
   "cell_type": "code",
   "execution_count": 279,
   "metadata": {},
   "outputs": [
    {
     "data": {
      "text/plain": [
       "[-6, 8, -4, -3, 6, -6, 5, -4, -10, 7, 5, -2, -8, 5, 9, 4]"
      ]
     },
     "execution_count": 279,
     "metadata": {},
     "output_type": "execute_result"
    }
   ],
   "source": [
    "l = list(np.random.randint(-10,10,16))\n",
    "l"
   ]
  },
  {
   "cell_type": "code",
   "execution_count": 531,
   "metadata": {},
   "outputs": [
    {
     "name": "stdout",
     "output_type": "stream",
     "text": [
      "[4, 5, 5, 5, 6, 7, 8, 9]\n",
      "[-2, -3, -4, -4, -6, -6, -8, -10]\n",
      "0 2 exist 4 -4\n",
      "0 3 exist 4 -4\n",
      "4 4 exist 6 -6\n",
      "4 5 exist 6 -6\n",
      "6 6 exist 8 -8\n",
      "1 5 exist 5\n",
      "2 5 exist 5\n",
      "3 5 exist 5\n",
      "7 9 exist 9\n"
     ]
    }
   ],
   "source": [
    "# make sorted positive array as parr\n",
    "# make sorted negative array as narr\n",
    "\n",
    "# test if parr[i] == narr[j0] + narr[j1] +.. + narr[jn] such that parr[i] > abs(narr[ji]).\n",
    "\n",
    "zero = [v for v in l if v ==0]\n",
    "if len(zero) > 0: \n",
    "    print \"Zero Array Exist\"\n",
    "parr = [v for v in l if v>0]\n",
    "narr = [v for v in l if v<0]\n",
    "\n",
    "parr.sort()\n",
    "print parr\n",
    "narr.sort(reverse=True)\n",
    "print narr\n",
    "\n",
    "for i in range(len(parr)):\n",
    "    for j in range(len(narr)):\n",
    "        if parr[i] == abs(narr[j]):\n",
    "            print i,j, \"exist\", parr[i], narr[j]\n",
    "\n",
    "for i in range(len(parr)):\n",
    "    j = 0; suma=0\n",
    "    while( (j < len(narr)) and (abs(narr[j]) < parr[i]) ):\n",
    "        suma += abs(narr[j])\n",
    "        if parr[i] == suma:\n",
    "            print i, parr[i], \"exist\", suma\n",
    "        j += 1\n"
   ]
  },
  {
   "cell_type": "markdown",
   "metadata": {},
   "source": [
    "<font face=\"Adobe\" size=5> [3] Find all sub-array with sum = 0 </font>"
   ]
  },
  {
   "cell_type": "markdown",
   "metadata": {},
   "source": [
    "<font face=\"Helevetica\" size=3> (1) Naive Approach </font>"
   ]
  },
  {
   "cell_type": "code",
   "execution_count": 283,
   "metadata": {},
   "outputs": [
    {
     "name": "stdout",
     "output_type": "stream",
     "text": [
      "[5, -3, -8, 5, 2, -6, 6, 5, -6, 8]\n"
     ]
    }
   ],
   "source": [
    "li = list(np.random.randint(-10,10,10))\n",
    "\n",
    "print li"
   ]
  },
  {
   "cell_type": "code",
   "execution_count": 364,
   "metadata": {},
   "outputs": [
    {
     "name": "stdout",
     "output_type": "stream",
     "text": [
      "[-3, -5, 6, -1, -3, 7, -3, -6, -10, 8]\n"
     ]
    }
   ],
   "source": [
    "import random\n",
    "\n",
    "li = []\n",
    "for i in range(10):\n",
    "    li.append(random.randrange(-10,10))\n",
    "    \n",
    "print li"
   ]
  },
  {
   "cell_type": "code",
   "execution_count": 367,
   "metadata": {},
   "outputs": [
    {
     "name": "stdout",
     "output_type": "stream",
     "text": [
      "0 sum exist 1 3\n",
      "-5 6 -1\n",
      "0 sum exist 2 7\n",
      "6 -1 -3 7 -3 -6\n",
      "0 sum exist 3 6\n",
      "-1 -3 7 -3\n"
     ]
    }
   ],
   "source": [
    "Num = len(li)\n",
    "\n",
    "for i in range(Num):\n",
    "    sum = li[i]\n",
    "    for j in range(i+1, Num):\n",
    "        sum += li[j]\n",
    "        if sum == 0:\n",
    "            print \"0 sum exist\", i, j\n",
    "            \n",
    "            for k in range(i,j+1):\n",
    "                print li[k],\n",
    "            print\n",
    "        "
   ]
  },
  {
   "cell_type": "markdown",
   "metadata": {},
   "source": [
    "\n",
    "<font face=\"Helevetica\" size=3> (2) More Efficient Way"
   ]
  },
  {
   "cell_type": "code",
   "execution_count": 373,
   "metadata": {},
   "outputs": [
    {
     "name": "stdout",
     "output_type": "stream",
     "text": [
      "[-3, -5, 6, -1, -3, 7, -3, -6, -10, 8]\n",
      "sum = 0 -5 6 -1\n",
      "sum = 0 6 -1 -3 7 -3 -6\n",
      "sum = 0 -1 -3 7 -3\n"
     ]
    }
   ],
   "source": [
    "print li\n",
    "\n",
    "for i in range(len(li)):\n",
    "    sum = 0\n",
    "    tmp = []\n",
    "    for v in li[i:]:\n",
    "        sum += v\n",
    "        tmp.append(v)\n",
    "        if ( sum == 0 ):\n",
    "            print 'sum = 0', \n",
    "            for t in tmp:\n",
    "                print t,\n",
    "            print \n",
    "    "
   ]
  },
  {
   "cell_type": "markdown",
   "metadata": {},
   "source": [
    "<font face=\"Adobe\" size=5> [4] Find the duplicate elements in array. </font>"
   ]
  },
  {
   "cell_type": "markdown",
   "metadata": {},
   "source": [
    "<font face=\"Helevetica\" size=3> (1) Naive Approach </font>"
   ]
  },
  {
   "cell_type": "code",
   "execution_count": 375,
   "metadata": {},
   "outputs": [
    {
     "name": "stdout",
     "output_type": "stream",
     "text": [
      "[2, 5, 9, 1, 1, 1, 9, 8, 2, 4]\n"
     ]
    }
   ],
   "source": [
    "li = list(np.random.randint(0,10,10))\n",
    "print li"
   ]
  },
  {
   "cell_type": "code",
   "execution_count": 377,
   "metadata": {
    "scrolled": true
   },
   "outputs": [
    {
     "name": "stdout",
     "output_type": "stream",
     "text": [
      "DUP 0 8 2 2\n",
      "DUP 2 6 9 9\n",
      "DUP 3 4 1 1\n",
      "DUP 3 5 1 1\n",
      "DUP 4 5 1 1\n"
     ]
    }
   ],
   "source": [
    "def checkdup(arr,N):\n",
    "    for i in range(N):\n",
    "        for j in range(i+1, N):\n",
    "            if ( arr[i] == arr[j]):\n",
    "                print 'DUP', i,j, arr[i], arr[j]\n",
    "\n",
    "checkdup(li, len(li))"
   ]
  },
  {
   "cell_type": "markdown",
   "metadata": {},
   "source": [
    "<font face=\"Helevetica\" size=3> (2) Hash Approach </font>"
   ]
  },
  {
   "cell_type": "markdown",
   "metadata": {},
   "source": [
    "<font face=\"Helevetica\" size=3> By using Dict </font>"
   ]
  },
  {
   "cell_type": "code",
   "execution_count": 416,
   "metadata": {},
   "outputs": [
    {
     "name": "stdout",
     "output_type": "stream",
     "text": [
      "Duplicate 1\n",
      "Duplicate 1\n",
      "Duplicate 9\n",
      "Duplicate 2\n"
     ]
    }
   ],
   "source": [
    "hsdict = {}\n",
    "for v in li:\n",
    "    if ( v in hsdict.keys()):\n",
    "        print 'Duplicate', v\n",
    "    else:\n",
    "        hsdict[v] = True\n"
   ]
  },
  {
   "cell_type": "code",
   "execution_count": 417,
   "metadata": {},
   "outputs": [
    {
     "data": {
      "text/plain": [
       "{1: True, 2: True, 4: True, 5: True, 8: True, 9: True}"
      ]
     },
     "execution_count": 417,
     "metadata": {},
     "output_type": "execute_result"
    }
   ],
   "source": [
    "hsdict"
   ]
  },
  {
   "cell_type": "markdown",
   "metadata": {},
   "source": [
    "<font face=\"Helevetica\" size=3> By using List </font>"
   ]
  },
  {
   "cell_type": "code",
   "execution_count": 418,
   "metadata": {
    "scrolled": true
   },
   "outputs": [
    {
     "name": "stdout",
     "output_type": "stream",
     "text": [
      "Duplicate : 1\n",
      "Duplicate : 1\n",
      "Duplicate : 9\n",
      "Duplicate : 2\n"
     ]
    }
   ],
   "source": [
    "seen = []\n",
    "for v in li:\n",
    "    if v in seen:\n",
    "        print 'Duplicate :', v\n",
    "    else:\n",
    "        seen.append(v)\n"
   ]
  },
  {
   "cell_type": "markdown",
   "metadata": {},
   "source": [
    "<font face=\"Adobe\" size=5> [5] Find the largest sub-arry formed by consecutive integers </font>"
   ]
  },
  {
   "cell_type": "code",
   "execution_count": 494,
   "metadata": {},
   "outputs": [
    {
     "name": "stdout",
     "output_type": "stream",
     "text": [
      "[1, 2, 3, 4, 5, 6, 4, 8]\n",
      "1 2 3 4 5 6\n"
     ]
    }
   ],
   "source": [
    "li = list(np.random.randint(0,5,19))\n",
    "li = [1,2,3,4,5,6,4,8]\n",
    "\n",
    "print li\n",
    "\n",
    "maxlen = 0; ms = -1 ; me = -1\n",
    "check = False\n",
    "for i in range(1,len(li)):\n",
    "    if ( abs(li[i-1] - li[i]) == 1) :\n",
    "        if not check:\n",
    "            start = i-1\n",
    "            end = i\n",
    "            check = True\n",
    "        else:\n",
    "            end = i\n",
    "    else:\n",
    "        if (check):\n",
    "            check = False\n",
    "            if maxlen < (end-start+1):\n",
    "                maxlen = end-start+1\n",
    "                ms = start; me = end\n",
    "\n",
    "if (check):\n",
    "        check = False\n",
    "        if maxlen < (end-start+1):\n",
    "            maxlen = end-start+1\n",
    "            ms = start\n",
    "            me = end\n",
    "\n",
    "for i in range(ms, me+1):\n",
    "    print li[i],\n",
    "print\n"
   ]
  },
  {
   "cell_type": "markdown",
   "metadata": {},
   "source": [
    "<font face=\"Adobe\" size=5> [5] Find the largest sub-arry formed by consecutive integers (array elements are not consecutive in their physical order) </font>"
   ]
  },
  {
   "cell_type": "code",
   "execution_count": 497,
   "metadata": {
    "scrolled": false
   },
   "outputs": [
    {
     "name": "stdout",
     "output_type": "stream",
     "text": [
      "[9, 2, 3, 4, 5, 6, 7, 8]\n",
      "max 7 0 8 9\n",
      "7\n"
     ]
    }
   ],
   "source": [
    "li = [9,2,3,4,5,6,7,8]\n",
    "def isConsecutive(arr, i, j):\n",
    "    set1 = set()\n",
    "    for idx in range(i,j+1):\n",
    "        if arr[idx] not in set1:\n",
    "            set1.add(arr[idx])\n",
    "        else:\n",
    "            return False\n",
    "    maxval = max(set1)\n",
    "    minval = min(set1)\n",
    "    if ( (j-i) == (maxval-minval)):\n",
    "        return True\n",
    "    return False\n",
    "\n",
    "print li\n",
    "maxlen = 0\n",
    "for i in range(len(li)):\n",
    "    for j in range(i,len(li)):\n",
    "        if (isConsecutive(li,i,j)):\n",
    "            lencons = j-i\n",
    "            if maxlen < lencons:\n",
    "                maxlen = lencons\n",
    "                print 'max', j,i, li[j], li[i]\n",
    "        \n",
    "print maxlen\n",
    "\n",
    "            "
   ]
  },
  {
   "cell_type": "markdown",
   "metadata": {},
   "source": [
    "### 2nd "
   ]
  },
  {
   "cell_type": "code",
   "execution_count": 526,
   "metadata": {},
   "outputs": [
    {
     "name": "stdout",
     "output_type": "stream",
     "text": [
      "[2, 0, 9, 3, 6, 0, 0, 1, 2, 3, 8, 0, 7, 8, 5, 3, 2, 2, 3, 5]\n"
     ]
    }
   ],
   "source": [
    "li = list(np.random.randint(0,10,20))\n",
    "print li\n"
   ]
  },
  {
   "cell_type": "code",
   "execution_count": 527,
   "metadata": {
    "scrolled": true
   },
   "outputs": [
    {
     "name": "stdout",
     "output_type": "stream",
     "text": [
      "max subarray 4 6 9\n",
      "0 1 2 3\n"
     ]
    }
   ],
   "source": [
    "def isConsecutive(arr,i,j):\n",
    "    seen = []\n",
    "    for idx in range(i,j+1):\n",
    "        if arr[idx] not in seen:\n",
    "            seen.append(arr[idx])\n",
    "        else:\n",
    "            return False\n",
    "    maxl = max(arr[i:j+1])\n",
    "    minl = min(arr[i:j+1])\n",
    "    if ( maxl-minl == j-i):\n",
    "        return True\n",
    "    return False\n",
    "\n",
    "maxlen = 0\n",
    "for i in range(len(li)):\n",
    "    for j in range(i+1, len(li)):\n",
    "        if (isConsecutive(li,i,j)):\n",
    "            ijlen = j-i+1\n",
    "            if ( maxlen < ijlen): \n",
    "                maxlen = ijlen\n",
    "                ms = i\n",
    "                me = j\n",
    "print \"max subarray\", maxlen, ms, me\n",
    "\n",
    "for i in range(ms,me+1):\n",
    "    print li[i],\n",
    "print"
   ]
  },
  {
   "cell_type": "markdown",
   "metadata": {},
   "source": [
    "<font face=\"Adobe\" size=5> [6] Find the maximun length sub-array having given sum<font size=3>(the elm. can be negaive) </font>"
   ]
  },
  {
   "cell_type": "code",
   "execution_count": 537,
   "metadata": {},
   "outputs": [
    {
     "name": "stdout",
     "output_type": "stream",
     "text": [
      "[2, 0, 9, 3, 6, 0, 0, 1, 2, 3, 8, 0, 7, 8, 5, 3, 2, 2, 3, 5]\n"
     ]
    }
   ],
   "source": [
    "print li\n"
   ]
  },
  {
   "cell_type": "code",
   "execution_count": 542,
   "metadata": {
    "scrolled": true
   },
   "outputs": [
    {
     "name": "stdout",
     "output_type": "stream",
     "text": [
      "i j 4 5\n",
      "i j 4 6\n",
      "i j 5 9\n",
      "i j 6 9\n",
      "i j 7 9\n",
      "maxlen 5\n",
      "0 0 1 2 3\n"
     ]
    }
   ],
   "source": [
    "maxlen = 0\n",
    "givensum = 6\n",
    "\n",
    "def sumcheck(arr,i,j):\n",
    "    arrsum = sum(arr[i:j+1])\n",
    "    if ( arrsum == givensum):\n",
    "        return True\n",
    "    return False\n",
    "\n",
    "for i in range(len(li)):\n",
    "    for j in range(i+1, len(li)):\n",
    "        if sumcheck(li, i, j):\n",
    "            if maxlen < j-i+1:\n",
    "                maxlen = j-i+1\n",
    "                ms = i; me = j\n",
    "print 'maxlen', maxlen\n",
    "for i in range(ms, me+1):\n",
    "    print li[i],\n",
    "print"
   ]
  },
  {
   "cell_type": "code",
   "execution_count": 550,
   "metadata": {},
   "outputs": [
    {
     "name": "stdout",
     "output_type": "stream",
     "text": [
      "[2, 0, 9, 3, 6, 0, 0, 1, 2, 3, 8, 0, 7, 8, 5, 3, 2, 2, 3, 5]\n"
     ]
    }
   ],
   "source": [
    "print li"
   ]
  },
  {
   "cell_type": "code",
   "execution_count": null,
   "metadata": {},
   "outputs": [],
   "source": [
    "1,2,3,8,7\n",
    "1,3,6,14,21\n",
    "    \n"
   ]
  }
 ],
 "metadata": {
  "kernelspec": {
   "display_name": "Python 2",
   "language": "python",
   "name": "python2"
  },
  "language_info": {
   "codemirror_mode": {
    "name": "ipython",
    "version": 2
   },
   "file_extension": ".py",
   "mimetype": "text/x-python",
   "name": "python",
   "nbconvert_exporter": "python",
   "pygments_lexer": "ipython2",
   "version": "2.7.15"
  }
 },
 "nbformat": 4,
 "nbformat_minor": 2
}
