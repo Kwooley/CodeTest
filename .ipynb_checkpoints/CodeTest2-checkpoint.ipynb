{
 "cells": [
  {
   "cell_type": "markdown",
   "metadata": {},
   "source": [
    "# Matrix Sort"
   ]
  },
  {
   "cell_type": "code",
   "execution_count": 1,
   "metadata": {},
   "outputs": [],
   "source": [
    "import numpy as np\n"
   ]
  },
  {
   "cell_type": "code",
   "execution_count": 17,
   "metadata": {
    "scrolled": true
   },
   "outputs": [
    {
     "data": {
      "text/plain": [
       "array([[83, 76, 61, 52, 29, 42, 51, 31, 14, 55],\n",
       "       [71, 60, 26, 88, 77, 89, 98, 59, 41, 84],\n",
       "       [84, 62, 65, 43,  9, 65, 86, 74, 78, 22],\n",
       "       [66, 23, 57, 28, 30, 87, 64, 20, 56, 75],\n",
       "       [97, 70, 11,  9, 23, 76,  4, 39, 26, 51],\n",
       "       [22, 69, 98, 32, 49, 60, 85, 77, 68, 59],\n",
       "       [18, 64, 93, 18, 82, 11, 14, 90, 81,  3],\n",
       "       [12,  7, 96, 78, 65, 39, 88, 23, 24, 30],\n",
       "       [86, 27, 94, 19,  5, 45,  3, 78, 28, 29],\n",
       "       [97, 54, 43, 18, 30, 95, 52, 79, 92, 43]])"
      ]
     },
     "execution_count": 17,
     "metadata": {},
     "output_type": "execute_result"
    }
   ],
   "source": [
    "mat = np.random.randint(0, 100, [10,10])\n",
    "mat"
   ]
  },
  {
   "cell_type": "code",
   "execution_count": 4,
   "metadata": {},
   "outputs": [
    {
     "name": "stdout",
     "output_type": "stream",
     "text": [
      "max num 98\n",
      "min num 0\n"
     ]
    }
   ],
   "source": [
    "print ('max num', mat.max())\n",
    "print ('min num', mat.min())"
   ]
  },
  {
   "cell_type": "code",
   "execution_count": 70,
   "metadata": {},
   "outputs": [
    {
     "name": "stdout",
     "output_type": "stream",
     "text": [
      "[[83 76 61 55 52 51 42 31 29 14]\n",
      " [98 89 88 84 77 71 60 59 41 26]\n",
      " [86 84 78 74 65 65 62 43 22  9]\n",
      " [87 75 66 64 57 56 30 28 23 20]\n",
      " [97 76 70 51 39 26 23 11  9  4]\n",
      " [98 85 77 69 68 60 59 49 32 22]\n",
      " [93 90 82 81 64 18 18 14 11  3]\n",
      " [96 88 78 65 39 30 24 23 12  7]\n",
      " [94 86 78 45 29 28 27 19  5  3]\n",
      " [97 95 92 79 54 52 43 43 30 18]]\n",
      "[98, 98, 97, 97, 96, 95, 94, 93, 92, 90, 89, 88, 88, 87, 86, 86, 85, 84, 84, 83, 82, 81, 79, 78, 78, 78, 77, 77, 76, 76, 75, 74, 71, 70, 69, 68, 66, 65, 65, 65, 64, 64, 62, 61, 60, 60, 59, 59, 57, 56, 55, 54, 52, 52, 51, 51, 49, 45, 43, 43, 43, 42, 41, 39, 39, 32, 31, 30, 30, 30, 29, 29, 28, 28, 27, 26, 26, 24, 23, 23, 23, 22, 22, 20, 19, 18, 18, 18, 14, 14, 12, 11, 11, 9, 9, 7, 5, 4, 3, 3]\n"
     ]
    }
   ],
   "source": [
    "def dimsort(list1):\n",
    "    for i in range(len(list1)):\n",
    "        for j in range(i,len(list1)):\n",
    "            if list1[i] < list1[j]:\n",
    "                list1[i], list1[j] = list1[j], list1[i]\n",
    "\n",
    "\n",
    "def mergemat(l1, l2):\n",
    "    len1 = len(l1)\n",
    "    len2 = len(l2)\n",
    "    i = j = k = 0\n",
    "    rst = [0]*(len1+len2)\n",
    "    if (len1 == 0):\n",
    "        rst[:] = l2[:]\n",
    "        return rst\n",
    "    if (len2 == 0):\n",
    "        rst[:] = l1[:]\n",
    "        return rst\n",
    "      \n",
    "    while (i < len1 and j < len2):\n",
    "        if (l1[i] > l2[j]):\n",
    "            rst[k] = l1[i]\n",
    "            k += 1\n",
    "            i += 1\n",
    "        else:\n",
    "            rst[k] = l2[j]\n",
    "            k += 1\n",
    "            j += 1\n",
    "    \n",
    "    if (i == len1):\n",
    "        for t in range(j,len2):\n",
    "            rst[k] = l2[t]\n",
    "            k += 1\n",
    "    if (j == len2):\n",
    "        for t in range(i,len1):\n",
    "            rst[k] = l1[t]\n",
    "            k += 1\n",
    "    return rst\n",
    "\n",
    "            \n",
    "for i in range(len(mat)):\n",
    "    dimsort(mat[i])\n",
    "\n",
    "print (mat)\n",
    "\n",
    "numelm = sum(len(mat[i]) for i in range(len(mat)))\n",
    "\n",
    "\n",
    "rst = []\n",
    "\n",
    "for i in range(len(mat)):\n",
    "    rst = mergemat(rst, mat[i])\n",
    "    \n",
    "print (rst)\n",
    "\n"
   ]
  },
  {
   "cell_type": "markdown",
   "metadata": {},
   "source": [
    "# BST"
   ]
  },
  {
   "cell_type": "code",
   "execution_count": 104,
   "metadata": {},
   "outputs": [
    {
     "data": {
      "text/plain": [
       "array([23, 65, 40, 13])"
      ]
     },
     "execution_count": 104,
     "metadata": {},
     "output_type": "execute_result"
    }
   ],
   "source": [
    "g = np.random.randint(0,100, 4)\n",
    "\n",
    "g"
   ]
  },
  {
   "cell_type": "code",
   "execution_count": 106,
   "metadata": {},
   "outputs": [
    {
     "name": "stdout",
     "output_type": "stream",
     "text": [
      "BT Size 4\n",
      "23\n",
      "go to left\n",
      "13\n",
      "go to left\n",
      "go to right\n",
      "go to right\n",
      "65\n",
      "go to left\n",
      "40\n",
      "go to left\n",
      "go to right\n",
      "go to right\n"
     ]
    }
   ],
   "source": [
    "class node:\n",
    "    def __init__(self, data):\n",
    "        self.data = data\n",
    "        self.left = None\n",
    "        self.right = None\n",
    "    \n",
    "class BST:\n",
    "    def __init__(self):\n",
    "        self.numnode = 0\n",
    "        self.root = None\n",
    "        self.size = 0\n",
    "    \n",
    "    def addnode(self, n):\n",
    "        p = self.root\n",
    "        if ( p == None):\n",
    "            self.root = n\n",
    "            BT.size += 1\n",
    "            return\n",
    "        while ( p != None):\n",
    "            if (n.data < p.data):\n",
    "                if (p.left == None):\n",
    "                    p.left = n\n",
    "                    BT.size += 1\n",
    "                    break\n",
    "                else:\n",
    "                    p = p.left\n",
    "            else:\n",
    "                if (p.right == None):\n",
    "                    p.right = n\n",
    "                    BT.size += 1\n",
    "                    break\n",
    "                else:\n",
    "                    p = p.right\n",
    "                \n",
    "    def DFS(self, root):\n",
    "        p = root\n",
    "        i = 0\n",
    "        if ( p != None):\n",
    "            i += 1\n",
    "            print (p.data)\n",
    "            print ('go to left')\n",
    "            BT.DFS(p.left)\n",
    "            print ('go to right')\n",
    "            BT.DFS(p.right)\n",
    "        else:\n",
    "            return\n",
    "\n",
    "        \n",
    "BT = BST()\n",
    "\n",
    "n = []\n",
    "\n",
    "for i in range(len(g)):\n",
    "    n.append( node(g[i]) )\n",
    "    BT.addnode(n[i])\n",
    "print ('BT Size', BT.size)\n",
    "root = BT.root\n",
    "BT.DFS(root)\n",
    "            \n",
    "        "
   ]
  }
 ],
 "metadata": {
  "kernelspec": {
   "display_name": "Python 3",
   "language": "python",
   "name": "python3"
  },
  "language_info": {
   "codemirror_mode": {
    "name": "ipython",
    "version": 3
   },
   "file_extension": ".py",
   "mimetype": "text/x-python",
   "name": "python",
   "nbconvert_exporter": "python",
   "pygments_lexer": "ipython3",
   "version": "3.7.0"
  }
 },
 "nbformat": 4,
 "nbformat_minor": 2
}
