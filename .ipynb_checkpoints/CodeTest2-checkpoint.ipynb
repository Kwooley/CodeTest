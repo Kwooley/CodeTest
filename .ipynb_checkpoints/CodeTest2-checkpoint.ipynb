{
 "cells": [
  {
   "cell_type": "markdown",
   "metadata": {},
   "source": [
    "# Matrix Sort"
   ]
  },
  {
   "cell_type": "code",
   "execution_count": 1,
   "metadata": {},
   "outputs": [],
   "source": [
    "import numpy as np\n"
   ]
  },
  {
   "cell_type": "code",
   "execution_count": 2,
   "metadata": {
    "scrolled": true
   },
   "outputs": [
    {
     "data": {
      "text/plain": [
       "array([[52, 67, 46, 31, 30, 23, 37, 48, 49, 30],\n",
       "       [62, 44, 66, 55, 11, 77, 41,  9, 18, 23],\n",
       "       [43,  7, 74, 78, 10, 52, 34, 76, 76, 72],\n",
       "       [ 2, 66, 63, 96, 44, 75,  9, 23, 57, 55],\n",
       "       [53, 70, 82, 61, 89,  0, 66, 59,  8, 47],\n",
       "       [62, 54, 56, 28, 42, 93, 61, 57, 56, 59],\n",
       "       [ 3, 76, 94, 42, 19, 90, 12, 50, 17, 68],\n",
       "       [29, 17, 10, 31, 13, 63,  5,  9, 50, 63],\n",
       "       [50, 62, 11, 32, 81, 95, 46, 53, 90,  1],\n",
       "       [57, 90,  6, 51, 34, 78, 68, 36, 44, 54]])"
      ]
     },
     "execution_count": 2,
     "metadata": {},
     "output_type": "execute_result"
    }
   ],
   "source": [
    "mat = np.random.randint(0, 100, [10,10])\n",
    "mat"
   ]
  },
  {
   "cell_type": "code",
   "execution_count": 38,
   "metadata": {},
   "outputs": [
    {
     "name": "stdout",
     "output_type": "stream",
     "text": [
      "max num 96\n",
      "min num 0\n"
     ]
    }
   ],
   "source": [
    "print ('max num', mat.max())\n",
    "print ('min num', mat.min())"
   ]
  },
  {
   "cell_type": "code",
   "execution_count": 48,
   "metadata": {},
   "outputs": [
    {
     "name": "stdout",
     "output_type": "stream",
     "text": [
      "[[67 52 49 48 46 37 31 30 30 23]\n",
      " [77 66 62 55 44 41 23 18 11  9]\n",
      " [78 76 76 74 72 52 43 34 10  7]\n",
      " [96 75 66 63 57 55 44 23  9  2]\n",
      " [89 82 70 66 61 59 53 47  8  0]\n",
      " [93 62 61 59 57 56 56 54 42 28]\n",
      " [94 90 76 68 50 42 19 17 12  3]\n",
      " [63 63 50 31 29 17 13 10  9  5]\n",
      " [95 90 81 62 53 50 46 32 11  1]\n",
      " [90 78 68 57 54 51 44 36 34  6]]\n",
      "[96, 95, 94, 93, 90, 90, 90, 89, 82, 81, 78, 78, 77, 76, 76, 76, 75, 74, 72, 70, 68, 68, 67, 66, 66, 66, 63, 63, 63, 62, 62, 62, 61, 61, 59, 59, 57, 57, 57, 56, 56, 55, 55, 54, 54, 53, 53, 52, 52, 51, 50, 50, 50, 49, 48, 47, 46, 46, 44, 44, 44, 43, 42, 42, 41, 37, 36, 34, 34, 32, 31, 31, 30, 30, 29, 28, 23, 23, 23, 19, 18, 17, 17, 13, 12, 11, 11, 10, 10, 9, 9, 9, 8, 7, 6, 5, 3, 2, 1, 0]\n"
     ]
    }
   ],
   "source": [
    "def dimsort(list1):\n",
    "    for i in range(len(list1)):\n",
    "        for j in range(i,len(list1)):\n",
    "            if list1[i] < list1[j]:\n",
    "                list1[i], list1[j] = list1[j], list1[i]\n",
    "    return list1\n",
    "\n",
    "def mergemat(l1, l2):\n",
    "    i = j = k = 0\n",
    "    rst = []\n",
    "\n",
    "    if (len(l1) == 0):\n",
    "        rst.extend(l2)\n",
    "        return rst\n",
    "    if (len(l2) == 0):\n",
    "        rst.extend(l1)\n",
    "        return rst\n",
    "   \n",
    "    while (len(l1)>0 and len(l2)>0):\n",
    "        if (l1[0] < l2[0]):\n",
    "            rst.append(l2.pop(0))\n",
    "        else:\n",
    "            rst.append(l1.pop(0))\n",
    "            \n",
    "    if (len(l1)>0):\n",
    "        rst.extend(l1)\n",
    "    if (len(l2)>0):\n",
    "        rst.extend(l2)\n",
    "    return rst\n",
    "\n",
    "            \n",
    "for i in range(len(mat)):\n",
    "    mat[i] = dimsort(mat[i])\n",
    "\n",
    "print (mat)\n",
    "\n",
    "numelm = sum(len(mat[i]) for i in range(len(mat)))\n",
    "rst = []\n",
    "for i in range(len(mat)):\n",
    "    rst = mergemat(rst, list(mat[i]))\n",
    "    \n",
    "print (rst)\n",
    "\n"
   ]
  },
  {
   "cell_type": "markdown",
   "metadata": {},
   "source": [
    "# BST"
   ]
  },
  {
   "cell_type": "code",
   "execution_count": 5,
   "metadata": {
    "scrolled": true
   },
   "outputs": [
    {
     "data": {
      "text/plain": [
       "array([ 2, 14, 98, 77, 88, 74, 35, 98, 94, 72])"
      ]
     },
     "execution_count": 5,
     "metadata": {},
     "output_type": "execute_result"
    }
   ],
   "source": [
    "g = np.random.randint(0,100, 10)\n",
    "\n",
    "g"
   ]
  },
  {
   "cell_type": "code",
   "execution_count": 6,
   "metadata": {},
   "outputs": [
    {
     "name": "stdout",
     "output_type": "stream",
     "text": [
      "parent : 2 right 14\n",
      "parent : 14 right 98\n",
      "parent : 98 left 77\n",
      "parent : 77 right 88\n",
      "parent : 77 left 74\n",
      "parent : 74 left 35\n",
      "parent : 98 right 98\n",
      "parent : 88 right 94\n",
      "parent : 35 right 72\n",
      "BT Size 10\n",
      "2 14 98 77 74 35 72 88 94 98 "
     ]
    }
   ],
   "source": [
    "class node:\n",
    "    def __init__(self, data):\n",
    "        self.data = data\n",
    "        self.left = None\n",
    "        self.right = None\n",
    "    \n",
    "class BST:\n",
    "    def __init__(self):\n",
    "        self.numnode = 0\n",
    "        self.root = None\n",
    "        self.size = 0\n",
    "    \n",
    "    def addnode(self, n):\n",
    "        p = self.root\n",
    "        if ( p == None):\n",
    "            self.root = n\n",
    "            BT.size += 1\n",
    "            return\n",
    "        while ( p != None):\n",
    "            if (n.data < p.data):\n",
    "                if (p.left == None):\n",
    "                    print ('parent :', p.data, 'left', n.data)\n",
    "                    p.left = n\n",
    "                    BT.size += 1\n",
    "                    break\n",
    "                else:\n",
    "                    p = p.left\n",
    "            else:\n",
    "                if (p.right == None):\n",
    "                    print ('parent :', p.data, 'right', n.data)\n",
    "                    p.right = n\n",
    "                    BT.size += 1\n",
    "                    break\n",
    "                else:\n",
    "                    p = p.right\n",
    "                \n",
    "    def DFS(self, root):\n",
    "        p = root\n",
    "        i = 0\n",
    "        if ( p != None):\n",
    "            i += 1\n",
    "            print (p.data, end=' ')\n",
    "#            print ('go to left')\n",
    "            BT.DFS(p.left)\n",
    "#            print ('go to right')\n",
    "            BT.DFS(p.right)\n",
    "        else:\n",
    "            return\n",
    "\n",
    "        \n",
    "BT = BST()\n",
    "\n",
    "n = [] # list of Node\n",
    "\n",
    "for i in range(len(g)):\n",
    "    n.append( node(g[i]) )\n",
    "    BT.addnode(n[i])\n",
    "print ('BT Size', BT.size)\n",
    "root = BT.root\n",
    "BT.DFS(root)\n",
    "            \n",
    "        "
   ]
  },
  {
   "cell_type": "markdown",
   "metadata": {},
   "source": [
    "# Dict"
   ]
  },
  {
   "cell_type": "code",
   "execution_count": 7,
   "metadata": {},
   "outputs": [
    {
     "name": "stdout",
     "output_type": "stream",
     "text": [
      "0 ['S' 'P' 'K']\n",
      "1 ['H' 'V' 'W']\n",
      "2 ['D' 'T' 'Z']\n",
      "3 ['O' 'T' 'V']\n",
      "4 ['M' 'E' 'D']\n",
      "5 ['X' 'I' 'C']\n",
      "6 ['M' 'D' 'L']\n",
      "7 ['X' 'D' 'S']\n",
      "8 ['H' 'B' 'Y']\n",
      "9 ['T' 'L' 'L']\n"
     ]
    }
   ],
   "source": [
    "import string\n",
    "\n",
    "l1 = np.random.randint(0,100,10)\n",
    "\n",
    "upperstr = string.ascii_uppercase\n",
    "\n",
    "charpool = list(upperstr)\n",
    "\n",
    "def makedict():\n",
    "    d1 = {}\n",
    "    for k in range(len(l1)):\n",
    "        vals = np.random.choice(charpool, 3)\n",
    "        d1[k] = vals\n",
    "    return d1\n",
    "\n",
    "d = makedict()\n",
    "\n",
    "for k,v in d.items():\n",
    "    print (k,v)"
   ]
  },
  {
   "cell_type": "markdown",
   "metadata": {},
   "source": [
    "# DLL"
   ]
  },
  {
   "cell_type": "code",
   "execution_count": 64,
   "metadata": {},
   "outputs": [],
   "source": [
    "class node:\n",
    "    def __init__(self, data):\n",
    "        self.data = data\n",
    "        self.prev = None\n",
    "        self.next = None\n",
    "        \n",
    "class DLL:\n",
    "    def __init__(self):\n",
    "        self.head = None\n",
    "        self.tail = None\n",
    "        self.size = 0\n",
    "        \n",
    "    def append(self, n):\n",
    "        p = self.head\n",
    "        if (p == None):  # empty DLL\n",
    "            self.head = n\n",
    "            self.tail = n\n",
    "            self.size += 1\n",
    "            return n.data\n",
    "        b = p\n",
    "        while ( p != None):\n",
    "            if (n.data > p.data): # find position\n",
    "                b = p\n",
    "                p = p.next\n",
    "            else:\n",
    "                if (b != p):   # insert into middle postion\n",
    "                    n.next = p\n",
    "                    n.prev = b\n",
    "                    b.next = n\n",
    "                    p.prev = n\n",
    "                    self.size += 1\n",
    "                    return\n",
    "                else:  # insert into the first position \n",
    "                    self.head = n\n",
    "                    n.next = p\n",
    "                    p.prev = n\n",
    "                    self.size += 1\n",
    "                    return\n",
    "        if ( p == None): # insert into the last position\n",
    "            b.next = n\n",
    "            n.prev = b\n",
    "            self.tail = n\n",
    "        self.size += 1\n",
    "        return n.data\n",
    "    \n",
    "    def traverse(self):\n",
    "        p = self.head\n",
    "        while(p != None):\n",
    "            print (p.data, end=' ')\n",
    "            p = p.next\n",
    "        print ()\n",
    "        return\n",
    "    def traverse_reverse(self):\n",
    "        p = self.tail\n",
    "        while (p != None):\n",
    "            print (p.data, end=' ')\n",
    "            p = p.prev\n",
    "        print ()\n",
    "        return\n",
    "    def search(self, data):\n",
    "        p = self.head\n",
    "        while (p != None):\n",
    "            if (p.data == data):\n",
    "                return p\n",
    "            else:\n",
    "                p = p.next\n",
    "        return None\n",
    "    \n",
    "    def delete(self, p):\n",
    "        print ('delete', p.data, 'prev', p.prev, 'next', p.next)\n",
    "        b = p.prev\n",
    "        n = p.next\n",
    "        if ( b == None):\n",
    "            print('head')\n",
    "            self.head = p.next\n",
    "            p.next.prev = None\n",
    "            p.next = p.prev = None\n",
    "        elif (n == None):\n",
    "            print('tail')\n",
    "            self.tail = p.prev\n",
    "            p.prev.next = None\n",
    "#            p.next = p.prev = None\n",
    "        else:\n",
    "            b.next = p.next\n",
    "            n.prev = p.prev\n",
    "        del p\n",
    "        self.size -= 1\n",
    "        return \n",
    "        \n",
    "                "
   ]
  },
  {
   "cell_type": "code",
   "execution_count": 67,
   "metadata": {},
   "outputs": [
    {
     "name": "stdout",
     "output_type": "stream",
     "text": [
      "12 23 25 28 36 37 38 42 52 61 64 66 69 79 89 90 94 95 97 98 \n",
      "98 97 95 94 90 89 79 69 66 64 61 52 42 38 37 36 28 25 23 12 \n",
      "found 12\n",
      "delete 12 prev None next <__main__.node object at 0x114861a20>\n",
      "head\n",
      "DLL Size 19\n",
      "23 25 28 36 37 38 42 52 61 64 66 69 79 89 90 94 95 97 98 \n",
      "98 97 95 94 90 89 79 69 66 64 61 52 42 38 37 36 28 25 23 \n",
      "found 97\n",
      "delete 97 prev <__main__.node object at 0x114861630> next <__main__.node object at 0x1148619e8>\n",
      "DLL Size 18\n",
      "23 25 28 36 37 38 42 52 61 64 66 69 79 89 90 94 95 98 \n",
      "98 95 94 90 89 79 69 66 64 61 52 42 38 37 36 28 25 23 \n"
     ]
    }
   ],
   "source": [
    "nvals = np.random.randint(0, 100, 20)\n",
    "\n",
    "nvals = [95, 42, 69, 89, 37, 66, 97, 98, 64, 90, 79, 61, 23, 28, 12, 94, 25,\n",
    "       38, 52, 36]\n",
    "n = [] # class node list\n",
    "DLL1 = DLL()\n",
    "for i in range(len(nvals)):\n",
    "#    n.append(node(nvals[i]))\n",
    "    DLL1.append(node(nvals[i]))\n",
    "\n",
    "DLL1.traverse()\n",
    "DLL1.traverse_reverse()\n",
    "p = DLL1.search(12)\n",
    "print ('found', p.data)\n",
    "if (p):\n",
    "    t = DLL1.delete(p)\n",
    "print ('DLL Size %d'%DLL1.size, )\n",
    "\n",
    "\n",
    "\n",
    "DLL1.traverse()\n",
    "DLL1.traverse_reverse()\n",
    "\n",
    "p = DLL1.search(97)\n",
    "print ('found', p.data)\n",
    "if (p):\n",
    "    t = DLL1.delete(p)\n",
    "print ('DLL Size %d'%DLL1.size, )\n",
    "\n",
    "DLL1.traverse()\n",
    "DLL1.traverse_reverse()\n",
    "\n",
    "del n\n",
    "\n"
   ]
  },
  {
   "cell_type": "markdown",
   "metadata": {},
   "source": [
    "# Qsort"
   ]
  },
  {
   "cell_type": "code",
   "execution_count": 164,
   "metadata": {},
   "outputs": [],
   "source": [
    "glist = np.random.randint(0,100,10)\n",
    "#glist = [25, 15, 10, 20, 30, 40, 24]\n",
    "\n",
    "def partition(left,right):\n",
    "    l = left+1\n",
    "    h = right\n",
    "    pval = glist[left]\n",
    "    while (l <= h):\n",
    "        while (l<=h and glist[l] <= pval):\n",
    "            l += 1\n",
    "        while (l<=h and pval <= glist[h]):\n",
    "            h -= 1\n",
    "        if (l < h):\n",
    "            glist[l], glist[h] = glist[h], glist[l]\n",
    "    glist[left], glist[h] = glist[h], glist[left]\n",
    "    return  h \n",
    "\n",
    "def qsort(left, right):\n",
    "\n",
    "    if (right-left > 0):\n",
    "        q = partition(left, right)\n",
    "        print ('qsort', glist[left:q])\n",
    "        qsort(left, q-1)\n",
    "        print ('qsort', glist[q+1:right+1])\n",
    "        qsort(q+1, right)\n",
    "    return\n",
    "\n",
    "    "
   ]
  },
  {
   "cell_type": "code",
   "execution_count": 165,
   "metadata": {},
   "outputs": [
    {
     "name": "stdout",
     "output_type": "stream",
     "text": [
      "[52 31 92 79 76 35  5 59 82  4]\n",
      "qsort [35 31  4  5]\n",
      "qsort [ 5 31  4]\n",
      "qsort [4]\n",
      "qsort [31]\n",
      "qsort []\n",
      "qsort [76 79 59 82 92]\n",
      "qsort [59]\n",
      "qsort [79 82 92]\n",
      "qsort []\n",
      "qsort [82 92]\n",
      "qsort []\n",
      "qsort [92]\n",
      "[ 4  5 31 35 52 59 76 79 82 92]\n"
     ]
    }
   ],
   "source": [
    "\n",
    "print (glist)\n",
    "qsort(0,9)\n",
    "\n",
    "print (glist)"
   ]
  },
  {
   "cell_type": "markdown",
   "metadata": {},
   "source": [
    "# Qsort 2 - Improved "
   ]
  },
  {
   "cell_type": "code",
   "execution_count": 36,
   "metadata": {},
   "outputs": [],
   "source": [
    "import numpy as np\n",
    "def qsort2(array):\n",
    "    print (array)\n",
    "    length = len(array)\n",
    "    if ( length <= 1):\n",
    "        return array\n",
    "    else:\n",
    "        pivot = array[0]\n",
    "        less = [ l  for l in array if l < pivot]\n",
    "        greater = [g for g in array if g > pivot]\n",
    "    return qsort2(less)+[pivot]+qsort2(greater)\n"
   ]
  },
  {
   "cell_type": "code",
   "execution_count": 37,
   "metadata": {},
   "outputs": [
    {
     "name": "stdout",
     "output_type": "stream",
     "text": [
      "[30 18 36 44 13 95 51 14 60 17]\n",
      "[18, 13, 14, 17]\n",
      "[13, 14, 17]\n",
      "[]\n",
      "[14, 17]\n",
      "[]\n",
      "[17]\n",
      "[]\n",
      "[36, 44, 95, 51, 60]\n",
      "[]\n",
      "[44, 95, 51, 60]\n",
      "[]\n",
      "[95, 51, 60]\n",
      "[51, 60]\n",
      "[]\n",
      "[60]\n",
      "[]\n",
      "[13, 14, 17, 18, 30, 36, 44, 51, 60, 95]\n"
     ]
    }
   ],
   "source": [
    "glist = np.random.randint(0,100,10)\n",
    "glist = qsort2(glist)\n",
    "print (glist)"
   ]
  },
  {
   "cell_type": "markdown",
   "metadata": {},
   "source": [
    "# MSort"
   ]
  },
  {
   "cell_type": "code",
   "execution_count": 195,
   "metadata": {
    "scrolled": true
   },
   "outputs": [
    {
     "name": "stdout",
     "output_type": "stream",
     "text": [
      "merge into [96] [34]\n",
      "[34 96]\n",
      "merge into [56] [25]\n",
      "[25 56]\n",
      "merge into [34 96] [25 56]\n",
      "[25 34 56 96]\n",
      "merge into [49] [28]\n",
      "[28 49]\n",
      "merge into [28 49] [32]\n",
      "[28 32 49]\n",
      "merge into [25 34 56 96] [28 32 49]\n",
      "[25 28 32 34 49 56 96]\n",
      "[25 28 32 34 49 56 96]\n"
     ]
    }
   ],
   "source": [
    "glist = [25, 15, 10, 35, 30, 40, 24]\n",
    "glist = np.random.randint(0,100, 7)\n",
    "\n",
    "def merge(left, h, right):\n",
    "    b = [None]*(right-left+1)\n",
    "    i = left\n",
    "    j = h + 1\n",
    "    k = 0\n",
    "    while (i <= h and j <= right):\n",
    "        if ( glist[i] < glist[j]):\n",
    "            b[k] = glist[i]\n",
    "            i += 1; k += 1\n",
    "        else:\n",
    "            b[k] = glist[j]\n",
    "            j += 1; k += 1\n",
    "    if (i > h):\n",
    "        b[k:] = glist[j:right+1]\n",
    "    elif (j>right):\n",
    "        b[k:] = glist[i:h+1]\n",
    "\n",
    "    glist[left:right+1] = b[:]\n",
    "    print (glist[left:right+1])\n",
    "    del b\n",
    "    return\n",
    "    \n",
    "            \n",
    "    \n",
    "def msort(left,right):\n",
    "    h = int((left+right)/2)\n",
    "    if ( (right-left) > 0 ):\n",
    "        msort(left, h)\n",
    "        msort(h+1,right)\n",
    "        print ('merge into', glist[left:h+1], glist[h+1:right+1])\n",
    "        merge(left,h,right)\n",
    "    return\n",
    "\n",
    "\n",
    "msort(0,6)\n",
    "print (glist)\n"
   ]
  },
  {
   "cell_type": "markdown",
   "metadata": {},
   "source": [
    "# Msort2 - Improved"
   ]
  },
  {
   "cell_type": "code",
   "execution_count": 75,
   "metadata": {},
   "outputs": [],
   "source": [
    "glist = [25, 15, 10, 35, 30, 40, 24]\n",
    "\n",
    "def merge2(left, right):\n",
    "    print (left, right, end=' ')\n",
    "    if (left == None):\n",
    "        return right\n",
    "    if (right == None):\n",
    "        return left\n",
    "    merged = []\n",
    "    while( len(left)>0 and len(right) > 0):\n",
    "        if ( left[0] < right[0]):\n",
    "            merged.append(left.pop(0))\n",
    "        else:\n",
    "            merged.append(right.pop(0))\n",
    "            \n",
    "    if (len(left)>0):\n",
    "        merged.extend(left[:])\n",
    "    elif ( len(right)>0):\n",
    "        merged.extend(right[:])\n",
    "            \n",
    "    print ('merged', merged)\n",
    "    return merged\n",
    "\n",
    "def msort2(array):\n",
    "    if (len(array) <= 1 or array == None):\n",
    "        return array\n",
    "    else:\n",
    "        mid = int(len(array)/2)\n",
    "        left = msort2(array[:mid])\n",
    "        right = msort2(array[mid:])\n",
    "    return merge2(left,right)"
   ]
  },
  {
   "cell_type": "code",
   "execution_count": 76,
   "metadata": {
    "scrolled": true
   },
   "outputs": [
    {
     "name": "stdout",
     "output_type": "stream",
     "text": [
      "[15] [10] merged [10, 15]\n",
      "[25] [10, 15] merged [10, 15, 25]\n",
      "[35] [30] merged [30, 35]\n",
      "[40] [24] merged [24, 40]\n",
      "[30, 35] [24, 40] merged [24, 30, 35, 40]\n",
      "[10, 15, 25] [24, 30, 35, 40] merged [10, 15, 24, 25, 30, 35, 40]\n",
      "[10, 15, 24, 25, 30, 35, 40]\n"
     ]
    }
   ],
   "source": [
    "glist = msort2(glist)\n",
    "print (glist)"
   ]
  },
  {
   "cell_type": "markdown",
   "metadata": {},
   "source": [
    "# Bucket Sort "
   ]
  },
  {
   "cell_type": "code",
   "execution_count": 91,
   "metadata": {},
   "outputs": [
    {
     "name": "stdout",
     "output_type": "stream",
     "text": [
      "glist [ 2 49 32 86 70 22  4  2 58 17 92 17 39 13 98 71 92 27  1 35 38 67 59 27\n",
      " 13 67  8 15  1 54 90 12 96 73 83 82 20 41 95 44  4 12 32 95 78 53 75 70\n",
      " 51 15]\n",
      "[1, 1, 2, 2, 4, 4, 8]\n",
      "[12, 12, 13, 13, 15, 15, 17, 17]\n",
      "[20, 22, 27, 27]\n",
      "[32, 32, 35, 38, 39]\n",
      "[41, 44, 49]\n",
      "[51, 53, 54, 58, 59]\n",
      "[67, 67]\n",
      "[70, 70, 71, 73, 75, 78]\n",
      "[82, 83, 86]\n",
      "[90, 92, 92, 95, 95, 96, 98]\n"
     ]
    }
   ],
   "source": [
    "glist = [25, 15, 10, 35, 30, 40, 24]\n",
    "glist = np.random.randint(0,100, 50)\n",
    "def bucketsort(array):\n",
    "#    bucket = [ [] for _ in array]\n",
    "    bucket= [ [] for _ in range(10) ]\n",
    "    for value in array:\n",
    "        bucket_index = value // 10\n",
    "        bucket[bucket_index].append(value)\n",
    "\n",
    "    for l in bucket:\n",
    "        l.sort()\n",
    "\n",
    "    return bucket\n",
    "print ('glist', glist)\n",
    "bucket = bucketsort(glist)\n",
    "for bk in bucket:\n",
    "    print (bk)\n"
   ]
  },
  {
   "cell_type": "markdown",
   "metadata": {},
   "source": [
    "# dict 2"
   ]
  },
  {
   "cell_type": "code",
   "execution_count": 103,
   "metadata": {},
   "outputs": [
    {
     "name": "stdout",
     "output_type": "stream",
     "text": [
      "[9, 9, 1, 2, 3, 4, 999]\n",
      "None\n",
      "-- [999]\n"
     ]
    }
   ],
   "source": [
    "d2 = {}\n",
    "d2.update({'k1':[1,2,3]})\n",
    "d2 = dict(a=1)\n",
    "l1 = [1,2,3]\n",
    "l1\n",
    "l1.append(4)\n",
    "l1\n",
    "l1.insert(0,9)\n",
    "l1\n",
    "l1.insert(10, 99)\n",
    "l1\n",
    "l1[5]\n",
    "l1.insert(-1,999)\n",
    "l1\n",
    "l1.remove(99)\n",
    "l1\n",
    "l1.insert(0, 9)\n",
    "print (l1)\n",
    "i = l1.remove(9)\n",
    "print (i)\n",
    "l1\n",
    "print ('--', [v for v in l1 if v > 90])\n"
   ]
  },
  {
   "cell_type": "markdown",
   "metadata": {},
   "source": [
    "# Overlap "
   ]
  },
  {
   "cell_type": "code",
   "execution_count": 128,
   "metadata": {},
   "outputs": [
    {
     "name": "stdout",
     "output_type": "stream",
     "text": [
      "True\n"
     ]
    }
   ],
   "source": [
    "def overlap(l1, r1, l2, r2):\n",
    "    isoverlap = True\n",
    "    if (r1[0] < l2[0]): \n",
    "        isoverlap = False\n",
    "    if (r1[1] < l2[1]):\n",
    "        isoverlap = False\n",
    "\n",
    "    return isoverlap\n",
    "\n",
    "x1 = [(19,23), (15,30)]\n",
    "x2 = [ (15, 20), (25, 50)]\n",
    "\n",
    "d = overlap(x1[0], x1[1],  x2[0], x2[1])\n",
    "print (d)\n"
   ]
  },
  {
   "cell_type": "markdown",
   "metadata": {},
   "source": [
    "# Find Dupint"
   ]
  },
  {
   "cell_type": "code",
   "execution_count": 73,
   "metadata": {},
   "outputs": [
    {
     "name": "stdout",
     "output_type": "stream",
     "text": [
      "[90 55 83 74 75 55 64 54 72 40 34 71 74 86 56 89 91 58 91 55]\n",
      "dup 55\n",
      "dup 74\n",
      "dup 91\n",
      "dup 55\n",
      "{90: True, 55: True, 83: True, 74: True, 75: True, 64: True, 54: True, 72: True, 40: True, 34: True, 71: True, 86: True, 56: True, 89: True, 91: True, 58: True}\n",
      "dict_keys([90, 55, 83, 74, 75, 64, 54, 72, 40, 34, 71, 86, 56, 89, 91, 58])\n",
      "dict_values([True, True, True, True, True, True, True, True, True, True, True, True, True, True, True, True])\n"
     ]
    }
   ],
   "source": [
    "glist = np.random.randint(0,100,20)\n",
    "\n",
    "print (glist)\n",
    "exist = {}\n",
    "\n",
    "for v in glist:\n",
    "    if ( v in exist.keys()):\n",
    "        print ('dup', v)\n",
    "    else:\n",
    "        exist[v] = True\n",
    "\n",
    "print (exist)\n",
    "print (exist.keys())\n",
    "print (exist.values())"
   ]
  },
  {
   "cell_type": "markdown",
   "metadata": {},
   "source": [
    "# L and S "
   ]
  },
  {
   "cell_type": "code",
   "execution_count": 76,
   "metadata": {},
   "outputs": [
    {
     "name": "stdout",
     "output_type": "stream",
     "text": [
      "[31 31 63 99  6 17 95 92 57 61]\n",
      "6 99\n"
     ]
    }
   ],
   "source": [
    "given = np.random.randint(0,100,10)\n",
    "print (given)\n",
    "min = max = given[0]\n",
    "\n",
    "for v in given:\n",
    "    if (min > v):\n",
    "        min = v\n",
    "    if (max < v):\n",
    "        max = v\n",
    "print (min, max)"
   ]
  },
  {
   "cell_type": "markdown",
   "metadata": {},
   "source": [
    "# All Pairs of sum, dup check"
   ]
  },
  {
   "cell_type": "code",
   "execution_count": 86,
   "metadata": {},
   "outputs": [
    {
     "name": "stdout",
     "output_type": "stream",
     "text": [
      "[53 46 10 90 98 96 74 91 74 78]\n",
      "dup 0 8 127\n",
      "dup 1 4 144\n",
      "dup 1 8 120\n",
      "dup 2 8 84\n",
      "dup 3 8 164\n",
      "dup 4 8 172\n",
      "dup 5 8 170\n",
      "dup 7 8 165\n",
      "dup 8 9 152\n",
      "[None, 99, 63, 143, 151, 149, 127, 144, 127, 131]\n",
      "[None, None, 56, 136, 144, 142, 120, 137, 120, 124]\n",
      "[None, None, None, 100, 108, 106, 84, 101, 84, 88]\n",
      "[None, None, None, None, 188, 186, 164, 181, 164, 168]\n",
      "[None, None, None, None, None, 194, 172, 189, 172, 176]\n",
      "[None, None, None, None, None, None, 170, 187, 170, 174]\n",
      "[None, None, None, None, None, None, None, 165, 148, 152]\n",
      "[None, None, None, None, None, None, None, None, 165, 169]\n",
      "[None, None, None, None, None, None, None, None, None, 152]\n",
      "[None, None, None, None, None, None, None, None, None, None]\n"
     ]
    }
   ],
   "source": [
    "given = np.random.randint(0,100,10)\n",
    "print (given)\n",
    "\n",
    "sums = [ [None for _ in range(len(given))] for _ in range(len(given)) ]\n",
    "\n",
    "for i in range(len(given)):\n",
    "    for j in range(i+1,len(given)):\n",
    "        sums[i][j] = given[i] + given[j]\n",
    "\n",
    "dupcheck = {}\n",
    "for i in range(len(given)):\n",
    "    for j in range(i+1,len(given)):\n",
    "        if ( sums[i][j] in dupcheck.keys()):\n",
    "            print ('dup', i, j, sums[i][j])\n",
    "        else:\n",
    "            dupcheck[sums[i][j]] = True\n",
    "\n",
    "for i in range(len(given)):\n",
    "        print (sums[i])"
   ]
  },
  {
   "cell_type": "code",
   "execution_count": 90,
   "metadata": {},
   "outputs": [
    {
     "name": "stdout",
     "output_type": "stream",
     "text": [
      "0b1100100\n",
      "0000000001100100\n"
     ]
    }
   ],
   "source": [
    "i = 100\n",
    "\n",
    "b = bin(i)\n",
    "print (b)\n",
    "s = str(b[2:])\n",
    "s = '0'*(16-len(s))+s\n",
    "print (s)"
   ]
  }
 ],
 "metadata": {
  "kernelspec": {
   "display_name": "Python 3",
   "language": "python",
   "name": "python3"
  },
  "language_info": {
   "codemirror_mode": {
    "name": "ipython",
    "version": 3
   },
   "file_extension": ".py",
   "mimetype": "text/x-python",
   "name": "python",
   "nbconvert_exporter": "python",
   "pygments_lexer": "ipython3",
   "version": "3.7.0"
  }
 },
 "nbformat": 4,
 "nbformat_minor": 2
}
