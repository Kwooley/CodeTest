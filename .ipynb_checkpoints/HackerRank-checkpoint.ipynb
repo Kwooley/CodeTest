{
 "cells": [
  {
   "cell_type": "markdown",
   "metadata": {},
   "source": [
    "# Warm-up"
   ]
  },
  {
   "cell_type": "markdown",
   "metadata": {},
   "source": [
    "## Sock Match"
   ]
  },
  {
   "cell_type": "code",
   "execution_count": 24,
   "metadata": {},
   "outputs": [
    {
     "name": "stdout",
     "output_type": "stream",
     "text": [
      "[1, 1, 1, 2, 2, 3, 2, 3, 1, 1]\n",
      "4\n"
     ]
    }
   ],
   "source": [
    "# input : N\n",
    "# input : (n1, n2, n3, ... , nn)\n",
    "\n",
    "def sockMerchant(N, n):  \n",
    "    unique = list(set(n))\n",
    "    pairs = 0 \n",
    "    for u in unique:\n",
    "        num = n.count(u)\n",
    "        pairs += num // 2\n",
    "     \n",
    "    return pairs\n",
    "\n",
    "\n",
    "if __name__ == '__main__':\n",
    "    N = 10\n",
    "    n = [1, 1, 1, 2, 2, 3, 2, 3, 1, 1]\n",
    "#    N = raw_input()\n",
    "#    n = map(int, raw_input().rstrip().split())\n",
    "    print n\n",
    "\n",
    "    res = sockMerchant(N, n)\n",
    "    \n",
    "    print res\n",
    "\n",
    "    \n",
    "\n"
   ]
  },
  {
   "cell_type": "markdown",
   "metadata": {},
   "source": [
    "## Count Valley"
   ]
  },
  {
   "cell_type": "code",
   "execution_count": 5,
   "metadata": {},
   "outputs": [
    {
     "name": "stdout",
     "output_type": "stream",
     "text": [
      "2\n"
     ]
    }
   ],
   "source": [
    "#!/bin/python\n",
    "\n",
    "import math\n",
    "import os\n",
    "import random\n",
    "import re\n",
    "import sys\n",
    "\n",
    "# Complete the countingValleys function below.\n",
    "def countingValleys(n, s):\n",
    "    steps = map(str, s)\n",
    "    cntval = 0\n",
    "    level = 0\n",
    "    upsea = True\n",
    "    for i in range(n):\n",
    "        if ( steps[i] == 'D'):\n",
    "            level -= 1\n",
    "            if ( upsea == True and level < 0):\n",
    "                cntval += 1\n",
    "                upsea = False\n",
    "        elif ( steps[i] == 'U'):\n",
    "            level += 1\n",
    "            if ( upsea == False and level >= 0):\n",
    "                upsea = True\n",
    "    return cntval\n",
    "\n",
    "if __name__ == '__main__':\n",
    "#    n = int(raw_input())\n",
    "#    s = raw_input()\n",
    "    n = 12\n",
    "    s = 'DDUUDDUU'\n",
    "    s = 'DDUUDDUDUUUD'\n",
    "    result = countingValleys(n, s)\n",
    "\n",
    "    print result\n",
    "    \n",
    "    "
   ]
  },
  {
   "cell_type": "code",
   "execution_count": 28,
   "metadata": {},
   "outputs": [
    {
     "name": "stdout",
     "output_type": "stream",
     "text": [
      "['D', 'D', 'U', 'U', 'D', 'D', 'U', 'U']\n"
     ]
    }
   ],
   "source": [
    "s = 'DDUUDDUU'\n",
    "steps = map(str, s)\n",
    "print steps"
   ]
  },
  {
   "cell_type": "markdown",
   "metadata": {},
   "source": [
    "## Repeat String"
   ]
  },
  {
   "cell_type": "code",
   "execution_count": 22,
   "metadata": {},
   "outputs": [
    {
     "name": "stdout",
     "output_type": "stream",
     "text": [
      "4\n"
     ]
    }
   ],
   "source": [
    "def repeatedString(s, n):\n",
    "    rpt = n // len(s)\n",
    "    remainder = n - (rpt*(len(s)))\n",
    "    \n",
    "    cnt = s.count('a')\n",
    "    cnt_addition = s[:remainder].count('a')\n",
    "    \n",
    "    res = cnt * rpt\n",
    "    res += cnt_addition\n",
    "    \n",
    "    return res\n",
    "\n",
    "\n",
    "if __name__ == '__main__':\n",
    "\n",
    "#    s = raw_input()\n",
    "#    n = int(raw_input())\n",
    "    s = 'abc'\n",
    "    n = 10\n",
    "\n",
    "    result = repeatedString(s, n)\n",
    "\n",
    "    print result"
   ]
  },
  {
   "cell_type": "code",
   "execution_count": 21,
   "metadata": {},
   "outputs": [
    {
     "name": "stdout",
     "output_type": "stream",
     "text": [
      "2\n",
      "abcdeabcde\n",
      "ab\n",
      "abcdeabcdeab\n",
      "1\n"
     ]
    }
   ],
   "source": [
    "n = 12\n",
    "s = 'abcde'\n",
    "rpt = n // len(s)\n",
    "remainder = n - (rpt*(len(s)))\n",
    "print remainder\n",
    "    \n",
    "tarstr = s*rpt\n",
    "print tarstr\n",
    "print s[:remainder]\n",
    "tarstr += (s[:remainder])\n",
    "print tarstr\n",
    "print s[:remainder].count('a')\n"
   ]
  },
  {
   "cell_type": "markdown",
   "metadata": {},
   "source": [
    "## Jumping on the Clouds"
   ]
  },
  {
   "cell_type": "code",
   "execution_count": 12,
   "metadata": {},
   "outputs": [
    {
     "name": "stdout",
     "output_type": "stream",
     "text": [
      "[0, 0, 1, 0, 0, 1, 0]\n",
      "current 0 hops 0\n",
      "+1 current 1 hops 1\n",
      "current 1 hops 1\n",
      "+2 current 3 hops 2\n",
      "current 3 hops 2\n",
      "+1 current 4 hops 3\n",
      "current 4 hops 3\n",
      "+2 current 6 hops 4\n",
      "current 6 hops 4\n",
      "4\n"
     ]
    }
   ],
   "source": [
    "def jumpingOnClouds(c):\n",
    "    print c\n",
    "    hops = 0\n",
    "    current = 0\n",
    "    while ( current < len(c) ):\n",
    "        print 'current', current, 'hops', hops\n",
    "        if ( current+2 < len(c) and c[current+2] == 0 ):\n",
    "            current += 2\n",
    "            hops += 1\n",
    "            print '+2 current', current, 'hops', hops\n",
    "        elif (current+1< len(c) and  c[current+1] == 0):\n",
    "            current += 1\n",
    "            hops += 1\n",
    "            print '+1 current', current, 'hops', hops\n",
    "        elif (current+2 < len(c)):\n",
    "            if ( c[current+1] == 0):\n",
    "                hops += 1\n",
    "                current += 1\n",
    "            else:\n",
    "                print 'no route'\n",
    "        elif ( current+1 <= len(c)):\n",
    "            current += 1\n",
    "            return hops\n",
    "               \n",
    "    return hops\n",
    "\n",
    "\n",
    "if __name__ == '__main__':\n",
    "\n",
    "\n",
    "#    n = int(raw_input())\n",
    "\n",
    "#    c = map(int, raw_input().rstrip().split())\n",
    "\n",
    "    n = 7\n",
    "    c= [0, 0, 1, 0, 0, 1, 0]\n",
    "    result = jumpingOnClouds(c)\n",
    "    print result\n",
    "\n"
   ]
  },
  {
   "cell_type": "markdown",
   "metadata": {},
   "source": [
    "## Bsort"
   ]
  },
  {
   "cell_type": "code",
   "execution_count": 14,
   "metadata": {},
   "outputs": [
    {
     "name": "stdout",
     "output_type": "stream",
     "text": [
      "Array is sorted in 3 swaps.\n"
     ]
    }
   ],
   "source": [
    "def countSwaps(a):\n",
    "    swaps = 0\n",
    "    for i in range(len(a)):\n",
    "        for j in range(len(a)-1):\n",
    "            # Swap adjacent elements if they are in decreasing order\n",
    "            if (a[j] > a[j + 1]):\n",
    "                a[j], a[j + 1] = a[j+1], a[j]\n",
    "                swaps += 1\n",
    "    print 'Array is sorted in %d swaps.'% swaps\n",
    "\n",
    "    return\n",
    "\n",
    "if __name__ == '__main__':\n",
    "#    n = int(raw_input())\n",
    "\n",
    "#    a = map(int, raw_input().rstrip().split())\n",
    "    a = [3,2,1]\n",
    "    countSwaps(a)\n"
   ]
  },
  {
   "cell_type": "markdown",
   "metadata": {},
   "source": [
    "## Mark and Toys"
   ]
  },
  {
   "cell_type": "code",
   "execution_count": 17,
   "metadata": {},
   "outputs": [
    {
     "name": "stdout",
     "output_type": "stream",
     "text": [
      "4\n"
     ]
    }
   ],
   "source": [
    "# Complete the maximumToys function below.\n",
    "def maximumToys(prices, k):\n",
    "    prices.sort()\n",
    "\n",
    "    total = 0\n",
    "    numt = 0\n",
    "    for i in range(len(prices)):\n",
    "        total += prices[i]\n",
    "        if ( total < k):\n",
    "            numt += 1    \n",
    "    print numt\n",
    "    return numt\n",
    "\n",
    "\n",
    "if __name__ == '__main__':\n",
    "\n",
    "#    nk = raw_input().split()\n",
    "\n",
    "#    n = int(nk[0])\n",
    "#    k = int(nk[1])\n",
    "#    prices = map(int, raw_input().rstrip().split())\n",
    "\n",
    "    k = 50\n",
    "    prices = [1, 12, 5, 111, 200, 1000, 10]\n",
    "    result = maximumToys(prices, k)\n"
   ]
  },
  {
   "cell_type": "markdown",
   "metadata": {},
   "source": [
    "## Sorting Comparator"
   ]
  },
  {
   "cell_type": "code",
   "execution_count": 24,
   "metadata": {},
   "outputs": [
    {
     "name": "stdout",
     "output_type": "stream",
     "text": [
      "lee 10\n"
     ]
    }
   ],
   "source": [
    "class Player:\n",
    "    def __init__(self, name, score):\n",
    "        self.name = name\n",
    "        self.score = score\n",
    "        \n",
    "    def __repr__(self):\n",
    "        self\n",
    "        \n",
    "    def comparator(a, b):\n",
    "        if a.score < b.score:\n",
    "            return -1\n",
    "        elif a.score > b.score:\n",
    "            return 1\n",
    "        else:\n",
    "            if a.name < b.name:\n",
    "                return -1\n",
    "            elif a.name > b.name:\n",
    "                return 1\n",
    "            else:\n",
    "                return 0\n",
    "    \n",
    "\n",
    "#n = int(raw_input())\n",
    "n = 5\n",
    "\n",
    "p1= Player('lee', 10)\n",
    "print p1.name, p1.score"
   ]
  },
  {
   "cell_type": "markdown",
   "metadata": {},
   "source": [
    "## Notification"
   ]
  },
  {
   "cell_type": "markdown",
   "metadata": {},
   "source": [
    "### Heap  "
   ]
  },
  {
   "cell_type": "code",
   "execution_count": 95,
   "metadata": {},
   "outputs": [
    {
     "name": "stdout",
     "output_type": "stream",
     "text": [
      "[4, 14, 7, 2, 8, 1]\n",
      "[14, 8, 7, 2, 4, 1]\n",
      "[12, 30, 6, 7, 4, 13, 8, 11, 50, 24, 2, 5, 10]\n",
      "[50, 30, 13, 12, 24, 10, 8, 11, 7, 4, 2, 5, 6]\n",
      "[50, 30, 44, 12, 24, 10, 13, 11, 7, 4, 2, 5, 6, 8]\n"
     ]
    }
   ],
   "source": [
    "def maxheapify(ls, index, heapsize):\n",
    "    lgst = index\n",
    "    lc = (index+1)*2 - 1\n",
    "    rc = (index+1)*2 \n",
    "    if ( lc < heapsize and ls[lc] > ls[lgst]):\n",
    "        lgst = lc\n",
    "    if ( rc < heapsize and ls[rc] > ls[lgst]):\n",
    "        lgst = rc\n",
    "    if lgst != index:\n",
    "        ls[index], ls[lgst] = ls[lgst], ls[index]\n",
    "        minheapify(ls, lgst, heapsize)\n",
    "    return ls\n",
    "\n",
    "def buildmaxheap(ls):\n",
    "    size = len(ls)\n",
    "    start = size // 2 \n",
    "    for i in range(start, -1, -1):\n",
    "        minheapify(ls, i, size)\n",
    "    return ls\n",
    "        \n",
    "def maxheapadd(ls, a):\n",
    "    ls.append(a)\n",
    "    size = len(ls)\n",
    "    pi = size // 2 - 1\n",
    "    while ( pi >= 0):\n",
    "        maxheapify(ls, pi, size)\n",
    "        pi = (pi+1) // 2 - 1\n",
    "    return ls\n",
    "    \n",
    "def maxheapdelete(ls, d):\n",
    "\n",
    "    return ls\n",
    "\n",
    "\n",
    "glist = [4,14,7,2,8,1]\n",
    "print glist\n",
    "res = maxheapify(glist, 0, len(glist))\n",
    "print glist\n",
    "\n",
    "glist = [12,30, 6, 7,4,13,8, 11,50, 24, 2,5,10]\n",
    "print glist\n",
    "res = buildmaxheap(glist)\n",
    "print res\n",
    "\n",
    "res = maxheapadd(glist, 44)\n",
    "print res"
   ]
  },
  {
   "cell_type": "markdown",
   "metadata": {},
   "source": [
    "### By sorting - runtime over"
   ]
  },
  {
   "cell_type": "code",
   "execution_count": 146,
   "metadata": {
    "scrolled": false
   },
   "outputs": [
    {
     "name": "stdout",
     "output_type": "stream",
     "text": [
      "noti 1\n",
      "result 1\n"
     ]
    }
   ],
   "source": [
    "\n",
    "def median(lista):\n",
    "    sorted(lista)\n",
    "    #IF EVEN\n",
    "    if len(lista) % 2 == 0:\n",
    "        return (lista[(len(lista)/2)-1] + lista[len(lista)/2])/2.0\n",
    "    #IF ODD\n",
    "    elif len(lista) % 2 != 0:\n",
    "        return lista[int((len(lista)/2))]\n",
    "\n",
    "# Complete the activityNotifications function below.\n",
    "def activityNotifications(expenditure, d):\n",
    "    noti = 0  \n",
    "    for i in range(d, len(expenditure)):\n",
    "        cmed = median(expenditure[i-d:i])\n",
    "        if cmed*2 <= expenditure[i]:\n",
    "            noti += 1   \n",
    "            print 'noti', noti\n",
    "    return noti\n",
    "\n",
    "if __name__ == '__main__':\n",
    "#    nd = raw_input().split()\n",
    "#    n = int(nd[0])\n",
    "#    d = int(nd[1])\n",
    "\n",
    "#    expenditure = map(int, raw_input().rstrip().split())\n",
    "    n = 4\n",
    "    d = 5\n",
    "    \n",
    "    expenditure =[2, 3, 4, 2, 3, 6, 8, 4, 5]\n",
    "#    expenditure = [1,2,3,4,4]\n",
    "#    expenditure = [10,20,30,40,50]\n",
    "\n",
    "    result = activityNotifications(expenditure, d)\n",
    "    print 'result', result"
   ]
  },
  {
   "cell_type": "markdown",
   "metadata": {},
   "source": [
    "### position finding with BST (delete one with BST?)"
   ]
  },
  {
   "cell_type": "code",
   "execution_count": 125,
   "metadata": {},
   "outputs": [
    {
     "name": "stdout",
     "output_type": "stream",
     "text": [
      "0 2\n",
      "1 4\n",
      "2 7\n",
      "3 8\n",
      "4 9\n",
      "--low 0 high 0 mid 0\n",
      "[2, 2, 4, 7, 8, 9]\n"
     ]
    }
   ],
   "source": [
    "li = [2,4,7,8,9]\n",
    "\n",
    "#li.pop(0)\n",
    "d = 2\n",
    "for i in range(len(li)):\n",
    "    print i, li[i]\n",
    "    \n",
    "size = len(li)\n",
    "low = 0\n",
    "high = size -1\n",
    "while ( low < high ):\n",
    "    mid = (low + high ) // 2\n",
    "    if ( li[mid] < d):\n",
    "        low = mid + 1\n",
    "    elif ( li[mid] > d):\n",
    "        high = mid - 1\n",
    "    elif ( li[mid] == d):\n",
    "        high = mid\n",
    "        break\n",
    "\n",
    "li.insert(high+1,d)\n",
    "print li\n",
    "        "
   ]
  },
  {
   "cell_type": "markdown",
   "metadata": {},
   "source": [
    "### Median by Sum"
   ]
  },
  {
   "cell_type": "code",
   "execution_count": 4,
   "metadata": {
    "scrolled": true
   },
   "outputs": [
    {
     "name": "stdout",
     "output_type": "stream",
     "text": [
      "[0, 1, 1, 1, 0, 0, 0, 0, 0, 0, 0, 0, 0, 0, 0, 0, 0, 0, 0, 0, 0, 0, 0, 0, 0, 0, 0, 0, 0, 0, 0, 0, 0, 0, 0, 0, 0, 0, 0, 0, 0, 0, 0, 0, 0, 0, 0, 0, 0, 0, 0, 0, 0, 0, 0, 0, 0, 0, 0, 0, 0, 0, 0, 0, 0, 0, 0, 0, 0, 0, 0, 0, 0, 0, 0, 0, 0, 0, 0, 0, 0, 0, 0, 0, 0, 0, 0, 0, 0, 0, 0, 0, 0, 0, 0, 0, 0, 0, 0, 0, 0, 0, 0, 0, 0, 0, 0, 0, 0, 0, 0, 0, 0, 0, 0, 0, 0, 0, 0, 0, 0, 0, 0, 0, 0, 0, 0, 0, 0, 0, 0, 0, 0, 0, 0, 0, 0, 0, 0, 0, 0, 0, 0, 0, 0, 0, 0, 0, 0, 0, 0, 0, 0, 0, 0, 0, 0, 0, 0, 0, 0, 0, 0, 0, 0, 0, 0, 0, 0, 0, 0, 0, 0, 0, 0, 0, 0, 0, 0, 0, 0, 0, 0, 0, 0, 0, 0, 0, 0, 0, 0, 0, 0, 0, 0, 0, 0, 0, 0, 0, 0]\n",
      "half 2 medilist[i] 1 mcnt 1\n",
      "mcnt 1 i 2\n",
      "cmed 2\n",
      "noti 1\n",
      "half 2 medilist[i] 1 mcnt 1\n",
      "mcnt 1 i 3\n",
      "cmed 3\n",
      "result 1\n"
     ]
    }
   ],
   "source": [
    "import numpy as np\n",
    "def mediansum(medilist,d):\n",
    "    mcnt = 0\n",
    "    half = d // 2 + 1\n",
    "    before = 0\n",
    "    \n",
    "    for i in range(len(medilist)):\n",
    "        if ( half > (medilist[i] + mcnt) ): # half 4 : 1 + 1 + 1 \n",
    "            mcnt += medilist[i] \n",
    "            if ( medilist[i] != 0 ):\n",
    "                before = i\n",
    "        else: # half 4 : 1 + 1 + 1 + 2 ?\n",
    "            print 'half', half ,'medilist[i]', medilist[i], 'mcnt', mcnt\n",
    "            break\n",
    "            \n",
    "#    print 'mcnt', mcnt, 'i', i\n",
    "    if ( (d%2) == 0):\n",
    "        if ( (half - mcnt) >= 2):\n",
    "            return i\n",
    "        sumavg = (before + i) / 2.0\n",
    "        print 'before i sumavg', before, i, sumavg\n",
    "        return sumavg\n",
    "    else:\n",
    "        return i\n",
    "    return i\n",
    "    \n",
    "# Complete the activityNotifications function below.\n",
    "def activityNotifications(expenditure, d):\n",
    "    noti = 0  \n",
    "    medilist = [0] * 201 # 0 to 200\n",
    "    for i in range(d): # medilist initialize : first d numbers\n",
    "        medilist[expenditure[i]] += 1\n",
    "    print medilist\n",
    "  \n",
    "    for i in range(d, len(expenditure)):\n",
    "        cmed = mediansum(medilist,d)\n",
    "        if cmed*2 <= expenditure[i]:\n",
    "            noti += 1   \n",
    "#            print 'noti', noti\n",
    "        # adjust medislit\n",
    "        medilist[expenditure[i-d]] -= 1\n",
    "        medilist[expenditure[i]] += 1\n",
    "    return noti\n",
    "\n",
    "if __name__ == '__main__':\n",
    "#    nd = raw_input().split()\n",
    "#    n = int(nd[0])\n",
    "#    d = int(nd[1])\n",
    "\n",
    "#    expenditure = map(int, raw_input().rstrip().split())\n",
    "    n = 4\n",
    "    d = 3\n",
    "#    expenditure = np.random.randint(0,200,100)\n",
    "#    expenditure =[2, 3, 4, 2, 3, 6, 8, 4, 5]\n",
    "    expenditure = [1,2,3,4,4]\n",
    "#    expenditure = [10,20,30,40,50]\n",
    "\n",
    "    result = activityNotifications(expenditure, d)\n",
    "    print 'result', result"
   ]
  },
  {
   "cell_type": "code",
   "execution_count": 219,
   "metadata": {
    "scrolled": true
   },
   "outputs": [
    {
     "name": "stdout",
     "output_type": "stream",
     "text": [
      "[1, 2, 3, 4, 4, 5]\n",
      "[0, 1, 1, 1, 2, 1, 0, 0, 0, 0, 0, 0, 0, 0, 0, 0, 0, 0, 0, 0, 0, 0, 0, 0, 0, 0, 0, 0, 0, 0, 0, 0, 0, 0, 0, 0, 0, 0, 0, 0, 0, 0, 0, 0, 0, 0, 0, 0, 0, 0]\n",
      "half 4 medilist[i] 2 mcnt 3\n",
      "mcnt 3 i 4\n",
      "before i sumavg 3 4 3.5\n",
      "3.5\n",
      "[1, 2, 3, 4, 4, 5]\n"
     ]
    }
   ],
   "source": [
    "import numpy as np\n",
    "\n",
    "def mediansum(medilist,d):\n",
    "    mcnt = 0\n",
    "    half = d // 2 + 1\n",
    "    before = 0\n",
    "    \n",
    "    for i in range(len(medilist)):\n",
    "        if ( half > (medilist[i] + mcnt) ):\n",
    "            mcnt += medilist[i] \n",
    "            if ( medilist[i] != 0 ):\n",
    "                before = i\n",
    "        else:\n",
    "            print 'half', half ,'medilist[i]', medilist[i], 'mcnt', mcnt\n",
    "            break\n",
    "            \n",
    "    print 'mcnt', mcnt, 'i', i\n",
    "    if ( (d%2) == 0):\n",
    "        if ( (half - mcnt) >= 2):\n",
    "            return i\n",
    "        sumavg = (before + i) / 2.0\n",
    "        print 'before i sumavg', before, i, sumavg\n",
    "        return sumavg\n",
    "    else:\n",
    "        return i\n",
    "    return i\n",
    "\n",
    "#li = [2, 3, 4, 2, 3]\n",
    "li = np.random.randint(0,50,11)\n",
    "li = [1,2,3,4,4,5]\n",
    "print li\n",
    "d = 6\n",
    "medilist = [0]*50\n",
    "for i in range(d):\n",
    "    medilist[li[i]] += 1\n",
    "print medilist\n",
    "res = mediansum(medilist,d)\n",
    "print res\n",
    "print sorted(li)"
   ]
  },
  {
   "cell_type": "markdown",
   "metadata": {},
   "source": [
    "## Merge Sort : Counting Inversion"
   ]
  },
  {
   "cell_type": "code",
   "execution_count": 107,
   "metadata": {
    "scrolled": false
   },
   "outputs": [
    {
     "name": "stdout",
     "output_type": "stream",
     "text": [
      "10\n",
      "23\n"
     ]
    }
   ],
   "source": [
    "def countinversion_bubble(arr):\n",
    "    cnt=0\n",
    "    print len(arr)\n",
    "    for i in range(len(arr)):\n",
    "#        print '---', i\n",
    "        for j in range(len(arr)-1, i, -1):\n",
    "            if ( arr[j-1] > arr[j]):\n",
    "#                print arr[j-1], arr[j]\n",
    "                arr[j-1], arr[j] = arr[j], arr[j-1]\n",
    "                cnt += 1\n",
    "    return cnt\n",
    "\n",
    "#li = [2,1,3,1,2]\n",
    "#li = [1,1,1,2,2]\n",
    "#li = [7,5,9,3,1, 2]\n",
    "#li = [9,7,5,3,1,2,4]\n",
    "#li = [1, 5, 3]\n",
    "li = [7,5,3,1]\n",
    "#li = [0,9,7,5,3,1,2,4]\n",
    "li = [79, 17, 14, 52, 9, 96, 13, 24, 18, 41]\n",
    "#li = [17, 79, 9, 14, 52]\n",
    "res = countinversion_bubble(li)\n",
    "print res"
   ]
  },
  {
   "cell_type": "code",
   "execution_count": 106,
   "metadata": {
    "scrolled": true
   },
   "outputs": [
    {
     "name": "stdout",
     "output_type": "stream",
     "text": [
      "[79, 17, 14, 52, 9, 96, 13, 24, 18, 41]\n",
      "[79] [17] L R 79 17 cnt 1\n",
      "merged [17, 79]\n",
      "[52] [9] L R 52 9 cnt 2\n",
      "merged [9, 52]\n",
      "[14] [9, 52] L R 14 9 cnt 3\n",
      "merged [9, 14, 52]\n",
      "[17, 79] [9, 14, 52] L R 17 9 cnt 5\n",
      "L R 17 14 cnt 7\n",
      "L R 79 52 cnt 8\n",
      "merged [9, 14, 17, 52, 79]\n",
      "[96] [13] L R 96 13 cnt 9\n",
      "merged [13, 96]\n",
      "[18] [41] merged [18, 41]\n",
      "[24] [18, 41] L R 24 18 cnt 10\n",
      "merged [18, 24, 41]\n",
      "[13, 96] [18, 24, 41] L R 96 18 cnt 11\n",
      "L R 96 24 cnt 12\n",
      "L R 96 41 cnt 13\n",
      "merged [13, 18, 24, 41, 96]\n",
      "[9, 14, 17, 52, 79] [13, 18, 24, 41, 96] L R 14 13 cnt 17\n",
      "L R 52 18 cnt 19\n",
      "L R 52 24 cnt 21\n",
      "L R 52 41 cnt 23\n",
      "merged [9, 13, 14, 17, 18, 24, 41, 52, 79, 96]\n",
      "[9, 13, 14, 17, 18, 24, 41, 52, 79, 96]\n",
      "23\n"
     ]
    }
   ],
   "source": [
    "\n",
    "cnt = 0\n",
    "def merge2(left, right):\n",
    "    global cnt\n",
    "    print left, right, \n",
    "    if (left == None):\n",
    "        return right\n",
    "    if (right == None):\n",
    "        return left\n",
    "    merged = []\n",
    "#    swappedright = 0\n",
    "\n",
    "    while( len(left)>0 and len(right) > 0):\n",
    "        if ( left[0] <= right[0]):\n",
    "            swappedright = 0\n",
    "            merged.append(left.pop(0))\n",
    "        else:\n",
    "#            print 'L R', left[0], right[0],\n",
    "            merged.append(right.pop(0))\n",
    "#            swappedright += 1\n",
    "            cnt += len(left)\n",
    "            print  'cnt', cnt\n",
    "    \n",
    "    if ( len(left)>0):\n",
    "#        cnt += (len(left)-1) * swappedright\n",
    "#        print 'swappedright', swappedright, 'len(left)-1', len(left)-1, 'cnt', cnt\n",
    "        merged.extend(left[:])\n",
    "    elif ( len(right)>0):\n",
    "        merged.extend(right[:])\n",
    "            \n",
    "    print 'merged', merged\n",
    "    return merged\n",
    "\n",
    "def msort2(array):\n",
    "    if (len(array) <= 1 or array == None):\n",
    "        return array\n",
    "    else:\n",
    "        mid = int(len(array)/2)\n",
    "        left = msort2(array[:mid])\n",
    "        right = msort2(array[mid:])\n",
    "    return merge2(left,right)\n",
    "\n",
    "def countinversion(arr):\n",
    "    global cnt\n",
    "    cnt = 0 \n",
    "    res = msort2(arr)\n",
    "    return cnt\n",
    "\n",
    "#li = [2, 1, 3, 1, 2]\n",
    "#li = [1, 1, 1, 2, 2]\n",
    "#li = [0,9,7,5,3,1,2,4]\n",
    "li = [7, 5, 3, 1]\n",
    "#li = [1, 5, 3]\n",
    "\n",
    "import numpy as np\n",
    "#li = list(np.random.randint(0,100,10))\n",
    "li = [79, 17, 14, 52, 9, 96, 13, 24, 18, 41]\n",
    "#li = [17, 79, 9, 14, 52]\n",
    "print li\n",
    "\n",
    "res = msort2(li)\n",
    "print res\n",
    "print cnt"
   ]
  },
  {
   "cell_type": "markdown",
   "metadata": {},
   "source": [
    "# Array - 2d"
   ]
  },
  {
   "cell_type": "code",
   "execution_count": 129,
   "metadata": {
    "scrolled": false
   },
   "outputs": [
    {
     "name": "stdout",
     "output_type": "stream",
     "text": [
      "[[-1, -1, 0, -9, -2, -2], [-2, -1, -6, -8, -2, -5], [-1, -1, -1, -2, -3, -4], [-1, -9, -2, -4, -4, -5], [-7, -3, -3, -2, -9, -9], [-1, -3, -1, -2, -4, -5]]\n",
      "row h -1 -1\n",
      "row h -1 -1\n",
      "row h 0 -1\n",
      "one thing -1 sumh -6\n",
      "row h -1 -1\n",
      "row h 0 -1\n",
      "row h -9 -2\n",
      "one thing -6 sumh -20\n",
      "row h 0 -1\n",
      "row h -9 -2\n",
      "row h -2 -3\n",
      "one thing -8 sumh -25\n",
      "row h -9 -2\n",
      "row h -2 -3\n",
      "row h -2 -4\n",
      "one thing -2 sumh -24\n",
      "row h -2 -1\n",
      "row h -1 -9\n",
      "row h -6 -2\n",
      "one thing -1 sumh -22\n",
      "row h -1 -9\n",
      "row h -6 -2\n",
      "row h -8 -4\n",
      "one thing -1 sumh -31\n",
      "row h -6 -2\n",
      "row h -8 -4\n",
      "row h -2 -4\n",
      "one thing -2 sumh -28\n",
      "row h -8 -4\n",
      "row h -2 -4\n",
      "row h -5 -5\n",
      "one thing -3 sumh -31\n",
      "row h -1 -7\n",
      "row h -1 -3\n",
      "row h -1 -3\n",
      "one thing -9 sumh -25\n",
      "row h -1 -3\n",
      "row h -1 -3\n",
      "row h -2 -2\n",
      "one thing -2 sumh -14\n",
      "row h -1 -3\n",
      "row h -2 -2\n",
      "row h -3 -9\n",
      "one thing -4 sumh -24\n",
      "row h -2 -2\n",
      "row h -3 -9\n",
      "row h -4 -9\n",
      "one thing -4 sumh -33\n",
      "row h -1 -1\n",
      "row h -9 -3\n",
      "row h -2 -1\n",
      "one thing -3 sumh -20\n",
      "row h -9 -3\n",
      "row h -2 -1\n",
      "row h -4 -2\n",
      "one thing -3 sumh -24\n",
      "row h -2 -1\n",
      "row h -4 -2\n",
      "row h -4 -4\n",
      "one thing -2 sumh -19\n",
      "row h -4 -2\n",
      "row h -4 -4\n",
      "row h -5 -5\n",
      "one thing -9 sumh -33\n",
      "-6\n",
      "-6\n"
     ]
    },
    {
     "data": {
      "text/plain": [
       "'\\n1 1 1 0 0 0\\n0 1 0 0 0 0\\n1 1 1 0 0 0\\n0 0 2 4 4 0\\n0 0 0 2 0 0\\n0 0 1 2 4 0\\n'"
      ]
     },
     "execution_count": 129,
     "metadata": {},
     "output_type": "execute_result"
    }
   ],
   "source": [
    "## HourGlass\n",
    "#!/bin/python\n",
    "\n",
    "import math\n",
    "import os\n",
    "import random\n",
    "import re\n",
    "import sys\n",
    "\n",
    "# Complete the hourglassSum function below.\n",
    "def hourglassSum(arr):\n",
    "    maxc = len(arr) - 2\n",
    "    maxsum = -9 * 36\n",
    "    for i in range(maxc):\n",
    "        for j in range(maxc):\n",
    "            sumh = 0\n",
    "            for k in range(3):\n",
    "                sumh += arr[i][j+k] + arr[i+2][j+k]\n",
    "                print 'row h', arr[i][j+k], arr[i+2][j+k]\n",
    "            sumh += arr[i+1][j+1]\n",
    "            print 'one thing', arr[i+1][j+1], 'sumh',sumh\n",
    "            if (maxsum < sumh):\n",
    "                maxsum = sumh\n",
    "    print maxsum\n",
    "    return maxsum\n",
    "\n",
    "if __name__ == '__main__':\n",
    "#    fptr = open(os.environ['OUTPUT_PATH'], 'w')\n",
    "    arr = []\n",
    "\n",
    "#    for _ in xrange(6):\n",
    "#        arr.append(map(int, raw_input().rstrip().split()))\n",
    "#    arr.append([1,1,1,0,0,0])\n",
    "#    arr.append([0,1,0,0,0,0])\n",
    "#    arr.append([1,1,1,0,0,0])\n",
    "#    arr.append([0,0,2,4,4,0])\n",
    "#    arr.append([0,0,0,2,0,0])\n",
    "#    arr.append([0,0,1,2,4,0])\n",
    "    arr.append([-1, -1, 0, -9, -2, -2]) \n",
    "    arr.append([-2, -1, -6, -8, -2, -5])\n",
    "    arr.append([-1, -1, -1, -2, -3, -4])\n",
    "    arr.append([-1, -9, -2, -4, -4, -5])\n",
    "    arr.append([-7, -3, -3, -2, -9, -9])\n",
    "    arr.append([-1, -3, -1, -2, -4 ,-5])\n",
    "\n",
    "    print arr\n",
    "    result = hourglassSum(arr)\n",
    "    print result\n",
    "\"\"\"\n",
    "1 1 1 0 0 0\n",
    "0 1 0 0 0 0\n",
    "1 1 1 0 0 0\n",
    "0 0 2 4 4 0\n",
    "0 0 0 2 0 0\n",
    "0 0 1 2 4 0\n",
    "\"\"\""
   ]
  },
  {
   "cell_type": "code",
   "execution_count": 115,
   "metadata": {},
   "outputs": [
    {
     "ename": "SyntaxError",
     "evalue": "invalid syntax (<ipython-input-115-94836f7df6d8>, line 1)",
     "output_type": "error",
     "traceback": [
      "\u001b[0;36m  File \u001b[0;32m\"<ipython-input-115-94836f7df6d8>\"\u001b[0;36m, line \u001b[0;32m1\u001b[0m\n\u001b[0;31m    print len(arr[])\u001b[0m\n\u001b[0m                  ^\u001b[0m\n\u001b[0;31mSyntaxError\u001b[0m\u001b[0;31m:\u001b[0m invalid syntax\n"
     ]
    }
   ],
   "source": [
    "print len(arr)"
   ]
  },
  {
   "cell_type": "markdown",
   "metadata": {},
   "source": [
    "## Array : Left Rotation"
   ]
  },
  {
   "cell_type": "code",
   "execution_count": 212,
   "metadata": {},
   "outputs": [
    {
     "name": "stdout",
     "output_type": "stream",
     "text": [
      "[5, 1, 2, 3, 4]\n"
     ]
    }
   ],
   "source": [
    "# Complete the rotLeft function below.\n",
    "def rotLeft(a, d):\n",
    "    ls = a[d:]+a[:d]\n",
    "    return ls\n",
    "\n",
    "d =4\n",
    "a = [1,2,3,4,5]\n",
    "result = rotLeft(a, d)\n",
    "print result"
   ]
  },
  {
   "cell_type": "code",
   "execution_count": 139,
   "metadata": {},
   "outputs": [
    {
     "name": "stdout",
     "output_type": "stream",
     "text": [
      "[1, 2, 3]\n",
      "[4, 5, 6, 7]\n",
      "[4, 5, 6, 7, 1, 2, 3]\n",
      "1 2 3 4 5 6 7\n"
     ]
    }
   ],
   "source": [
    "d =3\n",
    "li = [1,2,3,4,5,6,7]\n",
    "print li[:d]\n",
    "print li[d:]\n",
    "ls = li[d:] + li[:d]\n",
    "print ls\n",
    "\n",
    "string = ' '.join(map(str, li))\n",
    "print string"
   ]
  },
  {
   "cell_type": "markdown",
   "metadata": {},
   "source": [
    "## Array : chaos\n"
   ]
  },
  {
   "cell_type": "code",
   "execution_count": 143,
   "metadata": {},
   "outputs": [
    {
     "name": "stdout",
     "output_type": "stream",
     "text": [
      "Too chaotic\n",
      "1\n"
     ]
    }
   ],
   "source": [
    "def minimumBribes(q):\n",
    "    bribes = 0\n",
    "    for i in range(len(q)-1,-1,-1):\n",
    "        if q[i] - (i + 1) > 2:\n",
    "            print('Too chaotic')\n",
    "            return\n",
    "        for j in range(max(0, q[i] - 2),i):\n",
    "            if q[j] > q[i]:\n",
    "                bribes+=1\n",
    "    print(bribes)\n",
    "\n",
    "li = [2,1,5,3,4 ]\n",
    "li = [2,5,1,3,4]\n",
    "minimumBribes(li)\n"
   ]
  },
  {
   "cell_type": "markdown",
   "metadata": {},
   "source": [
    "## Min Swap 2"
   ]
  },
  {
   "cell_type": "code",
   "execution_count": 209,
   "metadata": {},
   "outputs": [
    {
     "name": "stdout",
     "output_type": "stream",
     "text": [
      "given [1, 3, 5, 2, 4, 6, 8]\n",
      "i 0 i 0 continue\n",
      "i 1 togoidx 2 --- i 1 3\n",
      "swapped [1, 5, 3, 2, 4, 6, 8]\n",
      "i 2 i 2 continue\n",
      "i 3 togoidx 1 --- i 3 2\n",
      "swapped [1, 2, 3, 5, 4, 6, 8]\n",
      "i 4 togoidx 3 --- i 4 4\n",
      "swapped [1, 2, 3, 4, 5, 6, 8]\n",
      "i 5 i 5 continue\n",
      "i 6 3\n",
      "res [1, 2, 3, 4, 5, 6, 8]\n"
     ]
    }
   ],
   "source": [
    "def minimumSwaps(arr):\n",
    "    print 'given', arr\n",
    "    swapcnt= 0\n",
    "    for i in range(len(arr)):\n",
    "        print 'i', i,\n",
    "        if arr[i] == i+1:\n",
    "            print 'i', i, 'continue'\n",
    "            continue\n",
    "        if len(arr) <= arr[i]:\n",
    "#            togoidx = len(arr) - 1\n",
    "            continue\n",
    "        else:\n",
    "            togoidx = arr[i] - 1\n",
    "        print 'togoidx', togoidx,'---', 'i', i, arr[i]\n",
    "        arr[i], arr[togoidx] = arr[togoidx],arr[i]\n",
    "        print 'swapped', arr\n",
    "        swapcnt += 1\n",
    "    if arr[0] != 1:\n",
    "        arr[arr[0]-1], arr[0] = arr[0],arr[arr[0]-1]\n",
    "        swapcnt += 1\n",
    "    return swapcnt\n",
    "li = [1,3,5,2,4,6,8]\n",
    "#li = [4,3,1,2]\n",
    "\n",
    "res = minimumSwaps(li)\n",
    "print res\n",
    "print 'res', li"
   ]
  },
  {
   "cell_type": "markdown",
   "metadata": {},
   "source": [
    "## String : Making Anagrams"
   ]
  },
  {
   "cell_type": "code",
   "execution_count": 237,
   "metadata": {},
   "outputs": [
    {
     "name": "stdout",
     "output_type": "stream",
     "text": [
      "{'a': 0, 'c': 1, 'g': 0, 'f': 0, 'i': 0, 'm': 1, 'l': 0, 'n': 0, 's': 0, 'r': 0, 'w': 0, 'v': 0, 'y': 2, 'x': 1, 'z': 0}\n",
      "{'b': 1, 'e': 1, 'd': 0, 'g': 0, 'i': 0, 'h': 1, 'k': 0, 'j': 1, 'm': 2, 'l': 0, 'o': 1, 'q': 0, 'p': 1, 's': 0, 'r': 1, 'u': 0, 't': 0, 'w': 1, 'v': 0, 'x': 0}\n",
      "aonly set(['a', 'c', 'f', 'n', 'y', 'z'])\n",
      "dupa c 1\n",
      "dupa y 2\n",
      "res1 9\n",
      "bonly set(['b', 'e', 'd', 'h', 'k', 'j', 'o', 'q', 'p', 'u', 't'])\n",
      "o b dupb b 1\n",
      "o e dupb e 1\n",
      "o d o h dupb h 1\n",
      "o k o j dupb j 1\n",
      "o o dupb o 1\n",
      "o q o p dupb p 1\n",
      "o u o t res2 26\n",
      "{'b': 1, 'e': 1, 'd': 0, 'g': 0, 'i': 0, 'h': 1, 'k': 0, 'j': 1, 'm': 2, 'l': 0, 'o': 1, 'q': 0, 'p': 1, 's': 0, 'r': 1, 'u': 0, 't': 0, 'w': 1, 'v': 0, 'x': 0}\n",
      "set(['g', 'i', 'm', 'l', 's', 'r', 'w', 'v', 'x'])\n",
      "set(['g', 'i', 'm', 'l', 's', 'r', 'w', 'v', 'x'])\n",
      "30\n"
     ]
    }
   ],
   "source": [
    "# Complete the makeAnagram function below.\n",
    "def makeAnagram(a, b):\n",
    "    alist = map(str, a)\n",
    "    dupa = {}\n",
    "    for i in alist:\n",
    "        if ( i in dupa.keys()):\n",
    "            dupa[i] += 1\n",
    "        else:\n",
    "            dupa[i] = 0\n",
    "    print dupa\n",
    "    \n",
    "    blist = map(str, b)\n",
    "    dupb = {}\n",
    "    for i in blist:\n",
    "        if ( i in dupb.keys()):\n",
    "            dupb[i] += 1\n",
    "        else:\n",
    "            dupb[i] = 0\n",
    "    print dupb\n",
    "    \n",
    "    aset = set(alist)\n",
    "    bset = set(blist)\n",
    "    \n",
    "    aonly = aset - bset\n",
    "    print 'aonly', aonly\n",
    "    res1 = len(aonly)\n",
    "    for o in aonly:\n",
    "        if ( dupa[o] > 0):\n",
    "            print 'dupa', o, dupa[o]\n",
    "            res1 += dupa[o]\n",
    "    print 'res1', res1\n",
    "    \n",
    "    bonly = bset - aset\n",
    "    res2 = len(bonly)\n",
    "    print 'bonly', bonly\n",
    "    for o in bonly:\n",
    "        print 'o', o,\n",
    "        if ( dupb[o] > 0):\n",
    "            print 'dupb', o, dupb[o]\n",
    "            res2 += dupb[o]\n",
    "    print 'res2',res\n",
    "    print dupb\n",
    "    \n",
    "    result = res1 + res2\n",
    "    \n",
    "    arem = aset - aonly\n",
    "    brem = bset - bonly\n",
    "    print arem\n",
    "    print brem\n",
    "        \n",
    "    for s in arem:\n",
    "        if (dupa[s] > dupb[s]):\n",
    "            result += dupa[s] -dupb[s]\n",
    "        elif ( dupa[s] < dupb[s]):\n",
    "            result += dupb[s] - dupa[s]\n",
    "    \n",
    "    return result\n",
    "\n",
    "a = 'fcrxzwscanmligyxyvym'\n",
    "b = 'jxwtrhvujlmrpdoqbisbwhmgpmeoke'\n",
    "res = makeAnagram(a,b)\n",
    "\n",
    "print res\n",
    "\n"
   ]
  },
  {
   "cell_type": "code",
   "execution_count": 250,
   "metadata": {},
   "outputs": [
    {
     "name": "stdout",
     "output_type": "stream",
     "text": [
      "ca Counter({'e': 2, 'd': 2, 'c': 1})\n",
      "cb Counter({'c': 2, 'a': 1, 'b': 1, 'd': 1})\n",
      "a_b Counter({'e': 2, 'd': 1})\n",
      "b_a Counter({'a': 1, 'c': 1, 'b': 1})\n",
      "Counter({'e': 2, 'a': 1, 'c': 1, 'b': 1, 'd': 1})\n",
      "['a', 'c', 'b', 'e', 'e', 'd'] 6\n"
     ]
    }
   ],
   "source": [
    "from collections import *\n",
    "a = 'fcrxzwscanmligyxyvym'\n",
    "b = 'jxwtrhvujlmrpdoqbisbwhmgpmeoke'\n",
    "a = 'cdeed'\n",
    "b = 'abccd'\n",
    "ca = Counter(a)\n",
    "cb = Counter(b)\n",
    "\n",
    "print 'ca', ca\n",
    "print 'cb', cb\n",
    "\n",
    "a_b = ca - cb\n",
    "print 'a_b',a_b\n",
    "b_a = cb - ca\n",
    "print 'b_a', b_a\n",
    "res = a_b + b_a\n",
    "print res\n",
    "print list(res.elements()), len(list(res.elements()))"
   ]
  },
  {
   "cell_type": "markdown",
   "metadata": {},
   "source": [
    "## String : Alternating Characters"
   ]
  },
  {
   "cell_type": "code",
   "execution_count": 335,
   "metadata": {},
   "outputs": [
    {
     "name": "stdout",
     "output_type": "stream",
     "text": [
      "4\n"
     ]
    }
   ],
   "source": [
    "# Complete the alternatingCharacters function below.\n",
    "def alternatingCharacters(s):\n",
    "\n",
    "    length = len(s)\n",
    "    delete = 0\n",
    "    flag = s[0]\n",
    "    for i in range(1, length):\n",
    "        if ( s[i] == flag):\n",
    "            delete += 1\n",
    "        else:\n",
    "            flag = s[i]\n",
    "    return delete\n",
    "\n",
    "s = 'AAABBB'\n",
    "#s = 'ABABABAB'\n",
    "#s = 'AAAAA'\n",
    "\n",
    "res = alternatingCharacters(s)\n",
    "print res\n"
   ]
  },
  {
   "cell_type": "markdown",
   "metadata": {},
   "source": [
    "##  String : Sherlock and the Valid String"
   ]
  },
  {
   "cell_type": "code",
   "execution_count": 333,
   "metadata": {},
   "outputs": [
    {
     "name": "stdout",
     "output_type": "stream",
     "text": [
      "base 2\n",
      "YES\n",
      "h 2\n",
      "None\n"
     ]
    }
   ],
   "source": [
    "from collections import *\n",
    "\n",
    "# Complete the isValid function below.\n",
    "def isValid(s):\n",
    "    sc = Counter(s)\n",
    "    base = None\n",
    "    firstexecuse = False\n",
    "    for c in sc:\n",
    "        if base == None:\n",
    "            base = sc[c]\n",
    "            print 'base', base\n",
    "            continue\n",
    "        if ( base != sc[c]):\n",
    "            if ( firstexecuse == False):\n",
    "                firstexecuse = True\n",
    "            else:\n",
    "                print 'NO'\n",
    "                break\n",
    "    print 'YES'\n",
    "    return\n",
    "\n",
    "s= 'abcc'\n",
    "#s = 'aabbcd'\n",
    "s = 'abcdefghhgfedecba'\n",
    "res = isValid(s)\n",
    "print res\n"
   ]
  },
  {
   "cell_type": "markdown",
   "metadata": {},
   "source": [
    "## String : Special Palindrome Again"
   ]
  },
  {
   "cell_type": "code",
   "execution_count": 343,
   "metadata": {
    "scrolled": true
   },
   "outputs": [
    {
     "name": "stdout",
     "output_type": "stream",
     "text": [
      "[('a', 1), ('s', 1), ('a', 1), ('s', 1), ('d', 1)]\n",
      "ans sum 1 ans sum 2 ans sum 3 ans sum 4 ans sum 5 ans 5\n",
      "7\n",
      "7\n"
     ]
    }
   ],
   "source": [
    "def substrCount(n, s):\n",
    "    l = []\n",
    "    count = 0\n",
    "    cur = None\n",
    "\n",
    "# 1st pass\n",
    "    for i in range(n):\n",
    "        if s[i] == cur:\n",
    "            count += 1\n",
    "        else:\n",
    "            if cur is not None:\n",
    "                l.append((cur, count))\n",
    "            cur = s[i]\n",
    "            count = 1\n",
    "    l.append((cur, count))\n",
    "    print l\n",
    "    ans = 0\n",
    "\n",
    "    # 2nd pass\n",
    "    for i in l:\n",
    "        ans += (i[1] * (i[1] + 1)) // 2\n",
    "        print 'ans sum', ans,\n",
    "\n",
    "    print 'ans', ans\n",
    "    \n",
    "    # 3rd pass\n",
    "    for i in range(1, len(l) - 1):\n",
    "        if l[i - 1][0] == l[i + 1][0] and l[i][1] == 1:\n",
    "            ans += min(l[i - 1][1], l[i + 1][1])\n",
    "    print ans\n",
    "    \n",
    "    return ans\n",
    "\n",
    "s = ['a','s','a','s','d']\n",
    "s = 'asasd'\n",
    "\n",
    "res = substrCount(len(s), s)\n",
    "print res"
   ]
  },
  {
   "cell_type": "markdown",
   "metadata": {},
   "source": [
    "## String : Common child"
   ]
  },
  {
   "cell_type": "code",
   "execution_count": 384,
   "metadata": {
    "scrolled": true
   },
   "outputs": [
    {
     "name": "stdout",
     "output_type": "stream",
     "text": [
      "3\n"
     ]
    }
   ],
   "source": [
    "# Complete the commonChild function below.\n",
    "def commonChild(s1, s2):\n",
    "    lens1 = len(s1)\n",
    "    lens2 = len(s2)\n",
    "    if (lens1 == 0 or lens2 == 0):\n",
    "        return 0\n",
    "    \n",
    "    totalmax = 0\n",
    "    for i in range(lens1):\n",
    "\n",
    "        maxcnt = 0\n",
    "        for j in range(lens2):\n",
    "            if ( s1[i] == s2[j]):\n",
    "                maxcnt = 1\n",
    "                maxcnt = maxcnt + commonChild(s1[i+1:], s2[j+1:])\n",
    "        if ( totalmax < maxcnt):\n",
    "            totalmax = maxcnt\n",
    "    return totalmax\n",
    "\n",
    "s1 = 'ABCD'\n",
    "s2 = 'ABDC'\n",
    "s1 = 'ABCDEF'\n",
    "s2 = 'FBDAMN'\n",
    "s1 = 'HARRY'\n",
    "s2 = 'SALLY'\n",
    "s1 = 'AA'\n",
    "s2 = 'BB'\n",
    "s1 = 'SHINCHAN'\n",
    "s2 = 'NOHARAAA'\n",
    "#s1 = 'WEWOUCUIDGCGTRMEZEPXZFEJWISRSBBSYXAYDFEJJDLEBVHHKS'\n",
    "#s2 = 'FDAGCXGKCTKWNECHMRXZWMLRYUCOCZHJRRJBOAJOQJZZVUYXIC'\n",
    "\n",
    "\n",
    "res = commonChild(s1, s2)\n",
    "print res\n",
    "                "
   ]
  },
  {
   "cell_type": "code",
   "execution_count": 370,
   "metadata": {},
   "outputs": [
    {
     "name": "stdout",
     "output_type": "stream",
     "text": [
      "1\n"
     ]
    },
    {
     "data": {
      "text/plain": [
       "False"
      ]
     },
     "execution_count": 370,
     "metadata": {},
     "output_type": "execute_result"
    }
   ],
   "source": [
    "l1 = [1,2,3,2]\n",
    "print l1.index(2)\n",
    "\n",
    "4 in l1\n"
   ]
  },
  {
   "cell_type": "code",
   "execution_count": 386,
   "metadata": {},
   "outputs": [
    {
     "name": "stdout",
     "output_type": "stream",
     "text": [
      "YES\n"
     ]
    }
   ],
   "source": [
    "def findNumber(arr, k):\n",
    "    found = False\n",
    "    for i in range(len(arr)):\n",
    "        if ( arr[i] == k):\n",
    "            found = True\n",
    "            print 'YES'\n",
    "    if found == False:\n",
    "        print 'NO'\n",
    "\n",
    "    return\n",
    "\n",
    "li = [1,2,3]\n",
    "findNumber(li, 2)\n",
    "        "
   ]
  },
  {
   "cell_type": "code",
   "execution_count": 391,
   "metadata": {},
   "outputs": [
    {
     "name": "stdout",
     "output_type": "stream",
     "text": [
      "[3, 5, 7, 9, 11]\n"
     ]
    }
   ],
   "source": [
    "def oddNumbers(l, r):\n",
    "    res = []\n",
    "    if (l%2 == 0):\n",
    "        l = l + 1\n",
    "    if (r%2 == 0):\n",
    "        r = r - 1\n",
    "    for i in range(l, r+1, +2):\n",
    "        res.append(i)\n",
    "    print res\n",
    "    return res\n",
    "\n",
    "l = 3\n",
    "r = 11\n",
    "res = oddNumbers(l,r)\n",
    "\n"
   ]
  },
  {
   "cell_type": "code",
   "execution_count": 404,
   "metadata": {},
   "outputs": [
    {
     "name": "stdout",
     "output_type": "stream",
     "text": [
      "[[False, False, False, False, False, False], [False, False, False, False, False, False], [False, False, False, False, False, False], [False, False, False, False, False, False], [False, False, False, False, False, False], [False, False, False, False, False, False]] [[False, False, False, False, False, False], [False, False, False, False, False, False], [False, False, False, False, False, False], [False, False, False, False, False, False], [False, False, False, False, False, False], [False, False, False, False, False, False]]\n",
      "None\n"
     ]
    }
   ],
   "source": [
    "\n",
    "def countGroups(m, t):\n",
    "    # Write your code here\n",
    "    lenrow = len(m)\n",
    "    i = 0\n",
    "    j = 0\n",
    "    occupied = [ [False]* lenrow ] * lenrow\n",
    "    searched = [ [False]* lenrow ] * lenrow\n",
    "    print occupied, searched\n",
    "    groupadd = False\n",
    "    for i in range(lenrow):\n",
    "        for j in range(lenrow):\n",
    "            if ( occupied[i][j] == False and m[i][j] == 1):\n",
    "            \n",
    "    \n",
    "    return\n",
    "\n",
    "m = [\n",
    "        [1, 1, 1, 1, 1, 1],\n",
    "        [1, 1, 0, 0, 0, 0],\n",
    "        [0, 0, 0, 1, 1, 1],\n",
    "        [0, 0, 0, 1, 1, 1],\n",
    "        [0, 0, 1, 0, 0, 0],\n",
    "        [1, 0, 0, 0, 0, 0]\n",
    "    ]\n",
    "t = [1,2,6,8]\n",
    "res = countGroups(m, t)\n",
    "print res"
   ]
  },
  {
   "cell_type": "code",
   "execution_count": 399,
   "metadata": {},
   "outputs": [
    {
     "name": "stdout",
     "output_type": "stream",
     "text": [
      "6\n",
      "6\n"
     ]
    }
   ],
   "source": [
    "\n",
    "m = [\n",
    "        [1, 1, 1, 1, 1, 1],\n",
    "        [1, 1, 0, 0, 0, 0],\n",
    "        [0, 0, 0, 1, 1, 1],\n",
    "        [0, 0, 0, 1, 1, 1],\n",
    "        [0, 0, 1, 0, 0, 0],\n",
    "        [1, 0, 0, 0, 0, 0]\n",
    "    ]\n",
    "\n",
    "print len(m)\n",
    "print len(m[0])"
   ]
  }
 ],
 "metadata": {
  "kernelspec": {
   "display_name": "Python 2",
   "language": "python",
   "name": "python2"
  },
  "language_info": {
   "codemirror_mode": {
    "name": "ipython",
    "version": 2
   },
   "file_extension": ".py",
   "mimetype": "text/x-python",
   "name": "python",
   "nbconvert_exporter": "python",
   "pygments_lexer": "ipython2",
   "version": "2.7.14"
  }
 },
 "nbformat": 4,
 "nbformat_minor": 2
}
