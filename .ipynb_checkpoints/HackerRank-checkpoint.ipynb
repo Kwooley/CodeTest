{
 "cells": [
  {
   "cell_type": "markdown",
   "metadata": {},
   "source": [
    "# Warm-up"
   ]
  },
  {
   "cell_type": "markdown",
   "metadata": {},
   "source": [
    "## Sock Match"
   ]
  },
  {
   "cell_type": "code",
   "execution_count": 24,
   "metadata": {},
   "outputs": [
    {
     "name": "stdout",
     "output_type": "stream",
     "text": [
      "[1, 1, 1, 2, 2, 3, 2, 3, 1, 1]\n",
      "4\n"
     ]
    }
   ],
   "source": [
    "# input : N\n",
    "# input : (n1, n2, n3, ... , nn)\n",
    "\n",
    "def sockMerchant(N, n):  \n",
    "    unique = list(set(n))\n",
    "    pairs = 0 \n",
    "    for u in unique:\n",
    "        num = n.count(u)\n",
    "        pairs += num // 2\n",
    "     \n",
    "    return pairs\n",
    "\n",
    "\n",
    "if __name__ == '__main__':\n",
    "    N = 10\n",
    "    n = [1, 1, 1, 2, 2, 3, 2, 3, 1, 1]\n",
    "#    N = raw_input()\n",
    "#    n = map(int, raw_input().rstrip().split())\n",
    "    print n\n",
    "\n",
    "    res = sockMerchant(N, n)\n",
    "    \n",
    "    print res\n",
    "\n",
    "    \n",
    "\n"
   ]
  },
  {
   "cell_type": "markdown",
   "metadata": {},
   "source": [
    "## Count Valley"
   ]
  },
  {
   "cell_type": "code",
   "execution_count": 5,
   "metadata": {},
   "outputs": [
    {
     "name": "stdout",
     "output_type": "stream",
     "text": [
      "2\n"
     ]
    }
   ],
   "source": [
    "#!/bin/python\n",
    "\n",
    "import math\n",
    "import os\n",
    "import random\n",
    "import re\n",
    "import sys\n",
    "\n",
    "# Complete the countingValleys function below.\n",
    "def countingValleys(n, s):\n",
    "    steps = map(str, s)\n",
    "    cntval = 0\n",
    "    level = 0\n",
    "    upsea = True\n",
    "    for i in range(n):\n",
    "        if ( steps[i] == 'D'):\n",
    "            level -= 1\n",
    "            if ( upsea == True and level < 0):\n",
    "                cntval += 1\n",
    "                upsea = False\n",
    "        elif ( steps[i] == 'U'):\n",
    "            level += 1\n",
    "            if ( upsea == False and level >= 0):\n",
    "                upsea = True\n",
    "    return cntval\n",
    "\n",
    "if __name__ == '__main__':\n",
    "#    n = int(raw_input())\n",
    "#    s = raw_input()\n",
    "    n = 12\n",
    "    s = 'DDUUDDUU'\n",
    "    s = 'DDUUDDUDUUUD'\n",
    "    result = countingValleys(n, s)\n",
    "\n",
    "    print result\n",
    "    \n",
    "    "
   ]
  },
  {
   "cell_type": "code",
   "execution_count": 28,
   "metadata": {},
   "outputs": [
    {
     "name": "stdout",
     "output_type": "stream",
     "text": [
      "['D', 'D', 'U', 'U', 'D', 'D', 'U', 'U']\n"
     ]
    }
   ],
   "source": [
    "s = 'DDUUDDUU'\n",
    "steps = map(str, s)\n",
    "print steps"
   ]
  },
  {
   "cell_type": "markdown",
   "metadata": {},
   "source": [
    "## Repeat String"
   ]
  },
  {
   "cell_type": "code",
   "execution_count": 22,
   "metadata": {},
   "outputs": [
    {
     "name": "stdout",
     "output_type": "stream",
     "text": [
      "4\n"
     ]
    }
   ],
   "source": [
    "def repeatedString(s, n):\n",
    "    rpt = n // len(s)\n",
    "    remainder = n - (rpt*(len(s)))\n",
    "    \n",
    "    cnt = s.count('a')\n",
    "    cnt_addition = s[:remainder].count('a')\n",
    "    \n",
    "    res = cnt * rpt\n",
    "    res += cnt_addition\n",
    "    \n",
    "    return res\n",
    "\n",
    "\n",
    "if __name__ == '__main__':\n",
    "\n",
    "#    s = raw_input()\n",
    "#    n = int(raw_input())\n",
    "    s = 'abc'\n",
    "    n = 10\n",
    "\n",
    "    result = repeatedString(s, n)\n",
    "\n",
    "    print result"
   ]
  },
  {
   "cell_type": "code",
   "execution_count": 21,
   "metadata": {},
   "outputs": [
    {
     "name": "stdout",
     "output_type": "stream",
     "text": [
      "2\n",
      "abcdeabcde\n",
      "ab\n",
      "abcdeabcdeab\n",
      "1\n"
     ]
    }
   ],
   "source": [
    "n = 12\n",
    "s = 'abcde'\n",
    "rpt = n // len(s)\n",
    "remainder = n - (rpt*(len(s)))\n",
    "print remainder\n",
    "    \n",
    "tarstr = s*rpt\n",
    "print tarstr\n",
    "print s[:remainder]\n",
    "tarstr += (s[:remainder])\n",
    "print tarstr\n",
    "print s[:remainder].count('a')\n"
   ]
  },
  {
   "cell_type": "markdown",
   "metadata": {},
   "source": [
    "## Jumping on the Clouds"
   ]
  },
  {
   "cell_type": "code",
   "execution_count": 12,
   "metadata": {},
   "outputs": [
    {
     "name": "stdout",
     "output_type": "stream",
     "text": [
      "[0, 0, 1, 0, 0, 1, 0]\n",
      "current 0 hops 0\n",
      "+1 current 1 hops 1\n",
      "current 1 hops 1\n",
      "+2 current 3 hops 2\n",
      "current 3 hops 2\n",
      "+1 current 4 hops 3\n",
      "current 4 hops 3\n",
      "+2 current 6 hops 4\n",
      "current 6 hops 4\n",
      "4\n"
     ]
    }
   ],
   "source": [
    "def jumpingOnClouds(c):\n",
    "    print c\n",
    "    hops = 0\n",
    "    current = 0\n",
    "    while ( current < len(c) ):\n",
    "        print 'current', current, 'hops', hops\n",
    "        if ( current+2 < len(c) and c[current+2] == 0 ):\n",
    "            current += 2\n",
    "            hops += 1\n",
    "            print '+2 current', current, 'hops', hops\n",
    "        elif (current+1< len(c) and  c[current+1] == 0):\n",
    "            current += 1\n",
    "            hops += 1\n",
    "            print '+1 current', current, 'hops', hops\n",
    "        elif (current+2 < len(c)):\n",
    "            if ( c[current+1] == 0):\n",
    "                hops += 1\n",
    "                current += 1\n",
    "            else:\n",
    "                print 'no route'\n",
    "        elif ( current+1 <= len(c)):\n",
    "            current += 1\n",
    "            return hops\n",
    "               \n",
    "    return hops\n",
    "\n",
    "\n",
    "if __name__ == '__main__':\n",
    "\n",
    "\n",
    "#    n = int(raw_input())\n",
    "\n",
    "#    c = map(int, raw_input().rstrip().split())\n",
    "\n",
    "    n = 7\n",
    "    c= [0, 0, 1, 0, 0, 1, 0]\n",
    "    result = jumpingOnClouds(c)\n",
    "    print result\n",
    "\n"
   ]
  },
  {
   "cell_type": "markdown",
   "metadata": {},
   "source": [
    "## Bsort"
   ]
  },
  {
   "cell_type": "code",
   "execution_count": 14,
   "metadata": {},
   "outputs": [
    {
     "name": "stdout",
     "output_type": "stream",
     "text": [
      "Array is sorted in 3 swaps.\n"
     ]
    }
   ],
   "source": [
    "def countSwaps(a):\n",
    "    swaps = 0\n",
    "    for i in range(len(a)):\n",
    "        for j in range(len(a)-1):\n",
    "            # Swap adjacent elements if they are in decreasing order\n",
    "            if (a[j] > a[j + 1]):\n",
    "                a[j], a[j + 1] = a[j+1], a[j]\n",
    "                swaps += 1\n",
    "    print 'Array is sorted in %d swaps.'% swaps\n",
    "\n",
    "    return\n",
    "\n",
    "if __name__ == '__main__':\n",
    "#    n = int(raw_input())\n",
    "\n",
    "#    a = map(int, raw_input().rstrip().split())\n",
    "    a = [3,2,1]\n",
    "    countSwaps(a)\n"
   ]
  },
  {
   "cell_type": "markdown",
   "metadata": {},
   "source": [
    "## Mark and Toys"
   ]
  },
  {
   "cell_type": "code",
   "execution_count": 17,
   "metadata": {},
   "outputs": [
    {
     "name": "stdout",
     "output_type": "stream",
     "text": [
      "4\n"
     ]
    }
   ],
   "source": [
    "# Complete the maximumToys function below.\n",
    "def maximumToys(prices, k):\n",
    "    prices.sort()\n",
    "\n",
    "    total = 0\n",
    "    numt = 0\n",
    "    for i in range(len(prices)):\n",
    "        total += prices[i]\n",
    "        if ( total < k):\n",
    "            numt += 1    \n",
    "    print numt\n",
    "    return numt\n",
    "\n",
    "\n",
    "if __name__ == '__main__':\n",
    "\n",
    "#    nk = raw_input().split()\n",
    "\n",
    "#    n = int(nk[0])\n",
    "#    k = int(nk[1])\n",
    "#    prices = map(int, raw_input().rstrip().split())\n",
    "\n",
    "    k = 50\n",
    "    prices = [1, 12, 5, 111, 200, 1000, 10]\n",
    "    result = maximumToys(prices, k)\n"
   ]
  },
  {
   "cell_type": "markdown",
   "metadata": {},
   "source": [
    "## Sorting Comparator"
   ]
  },
  {
   "cell_type": "code",
   "execution_count": 24,
   "metadata": {},
   "outputs": [
    {
     "name": "stdout",
     "output_type": "stream",
     "text": [
      "lee 10\n"
     ]
    }
   ],
   "source": [
    "class Player:\n",
    "    def __init__(self, name, score):\n",
    "        self.name = name\n",
    "        self.score = score\n",
    "        \n",
    "    def __repr__(self):\n",
    "        self\n",
    "        \n",
    "    def comparator(a, b):\n",
    "        if a.score < b.score:\n",
    "            return -1\n",
    "        elif a.score > b.score:\n",
    "            return 1\n",
    "        else:\n",
    "            if a.name < b.name:\n",
    "                return -1\n",
    "            elif a.name > b.name:\n",
    "                return 1\n",
    "            else:\n",
    "                return 0\n",
    "    \n",
    "\n",
    "#n = int(raw_input())\n",
    "n = 5\n",
    "\n",
    "p1= Player('lee', 10)\n",
    "print p1.name, p1.score"
   ]
  },
  {
   "cell_type": "markdown",
   "metadata": {},
   "source": [
    "## Notification"
   ]
  },
  {
   "cell_type": "markdown",
   "metadata": {},
   "source": [
    "### Heap  "
   ]
  },
  {
   "cell_type": "code",
   "execution_count": 95,
   "metadata": {},
   "outputs": [
    {
     "name": "stdout",
     "output_type": "stream",
     "text": [
      "[4, 14, 7, 2, 8, 1]\n",
      "[14, 8, 7, 2, 4, 1]\n",
      "[12, 30, 6, 7, 4, 13, 8, 11, 50, 24, 2, 5, 10]\n",
      "[50, 30, 13, 12, 24, 10, 8, 11, 7, 4, 2, 5, 6]\n",
      "[50, 30, 44, 12, 24, 10, 13, 11, 7, 4, 2, 5, 6, 8]\n"
     ]
    }
   ],
   "source": [
    "def maxheapify(ls, index, heapsize):\n",
    "    lgst = index\n",
    "    lc = (index+1)*2 - 1\n",
    "    rc = (index+1)*2 \n",
    "    if ( lc < heapsize and ls[lc] > ls[lgst]):\n",
    "        lgst = lc\n",
    "    if ( rc < heapsize and ls[rc] > ls[lgst]):\n",
    "        lgst = rc\n",
    "    if lgst != index:\n",
    "        ls[index], ls[lgst] = ls[lgst], ls[index]\n",
    "        minheapify(ls, lgst, heapsize)\n",
    "    return ls\n",
    "\n",
    "def buildmaxheap(ls):\n",
    "    size = len(ls)\n",
    "    start = size // 2 \n",
    "    for i in range(start, -1, -1):\n",
    "        minheapify(ls, i, size)\n",
    "    return ls\n",
    "        \n",
    "def maxheapadd(ls, a):\n",
    "    ls.append(a)\n",
    "    size = len(ls)\n",
    "    pi = size // 2 - 1\n",
    "    while ( pi >= 0):\n",
    "        maxheapify(ls, pi, size)\n",
    "        pi = (pi+1) // 2 - 1\n",
    "    return ls\n",
    "    \n",
    "def maxheapdelete(ls, d):\n",
    "\n",
    "    return ls\n",
    "\n",
    "\n",
    "glist = [4,14,7,2,8,1]\n",
    "print glist\n",
    "res = maxheapify(glist, 0, len(glist))\n",
    "print glist\n",
    "\n",
    "glist = [12,30, 6, 7,4,13,8, 11,50, 24, 2,5,10]\n",
    "print glist\n",
    "res = buildmaxheap(glist)\n",
    "print res\n",
    "\n",
    "res = maxheapadd(glist, 44)\n",
    "print res"
   ]
  },
  {
   "cell_type": "markdown",
   "metadata": {},
   "source": [
    "### By sorting - runtime over"
   ]
  },
  {
   "cell_type": "code",
   "execution_count": 146,
   "metadata": {
    "scrolled": false
   },
   "outputs": [
    {
     "name": "stdout",
     "output_type": "stream",
     "text": [
      "noti 1\n",
      "result 1\n"
     ]
    }
   ],
   "source": [
    "\n",
    "def median(lista):\n",
    "    sorted(lista)\n",
    "    #IF EVEN\n",
    "    if len(lista) % 2 == 0:\n",
    "        return (lista[(len(lista)/2)-1] + lista[len(lista)/2])/2.0\n",
    "    #IF ODD\n",
    "    elif len(lista) % 2 != 0:\n",
    "        return lista[int((len(lista)/2))]\n",
    "\n",
    "# Complete the activityNotifications function below.\n",
    "def activityNotifications(expenditure, d):\n",
    "    noti = 0  \n",
    "    for i in range(d, len(expenditure)):\n",
    "        cmed = median(expenditure[i-d:i])\n",
    "        if cmed*2 <= expenditure[i]:\n",
    "            noti += 1   \n",
    "            print 'noti', noti\n",
    "    return noti\n",
    "\n",
    "if __name__ == '__main__':\n",
    "#    nd = raw_input().split()\n",
    "#    n = int(nd[0])\n",
    "#    d = int(nd[1])\n",
    "\n",
    "#    expenditure = map(int, raw_input().rstrip().split())\n",
    "    n = 4\n",
    "    d = 5\n",
    "    \n",
    "    expenditure =[2, 3, 4, 2, 3, 6, 8, 4, 5]\n",
    "#    expenditure = [1,2,3,4,4]\n",
    "#    expenditure = [10,20,30,40,50]\n",
    "\n",
    "    result = activityNotifications(expenditure, d)\n",
    "    print 'result', result"
   ]
  },
  {
   "cell_type": "markdown",
   "metadata": {},
   "source": [
    "### position finding with BST (delete one with BST?)"
   ]
  },
  {
   "cell_type": "code",
   "execution_count": 125,
   "metadata": {},
   "outputs": [
    {
     "name": "stdout",
     "output_type": "stream",
     "text": [
      "0 2\n",
      "1 4\n",
      "2 7\n",
      "3 8\n",
      "4 9\n",
      "--low 0 high 0 mid 0\n",
      "[2, 2, 4, 7, 8, 9]\n"
     ]
    }
   ],
   "source": [
    "li = [2,4,7,8,9]\n",
    "\n",
    "#li.pop(0)\n",
    "d = 2\n",
    "for i in range(len(li)):\n",
    "    print i, li[i]\n",
    "    \n",
    "size = len(li)\n",
    "low = 0\n",
    "high = size -1\n",
    "while ( low < high ):\n",
    "    mid = (low + high ) // 2\n",
    "    if ( li[mid] < d):\n",
    "        low = mid + 1\n",
    "    elif ( li[mid] > d):\n",
    "        high = mid - 1\n",
    "    elif ( li[mid] == d):\n",
    "        high = mid\n",
    "        break\n",
    "\n",
    "li.insert(high+1,d)\n",
    "print li\n",
    "        "
   ]
  },
  {
   "cell_type": "markdown",
   "metadata": {},
   "source": [
    "### Median by Sum"
   ]
  },
  {
   "cell_type": "code",
   "execution_count": 227,
   "metadata": {
    "scrolled": true
   },
   "outputs": [
    {
     "name": "stdout",
     "output_type": "stream",
     "text": [
      "[ 62 186  66 116 126 185 198  55 190  94  19  76 147  63  86 112  67 131\n",
      " 138 199   9 154 128 138   1 161  48  96 177 117  42 146   3 102 188 190\n",
      "  24  37 192 112   7  19  56   3 146  72  82 197 165 157 184 144 154  29\n",
      " 145 105  50 132   1  64  80  62   0 163  91  45  30 101 123   6  24  38\n",
      " 119 188  76  30 173  41 149  25  69 148  73 156 121  81 186 150 109  93\n",
      " 183  81 128 165 155  71  74  84  64  36]\n"
     ]
    },
    {
     "ename": "IndexError",
     "evalue": "list index out of range",
     "output_type": "error",
     "traceback": [
      "\u001b[0;31m---------------------------------------------------------------------------\u001b[0m",
      "\u001b[0;31mIndexError\u001b[0m                                Traceback (most recent call last)",
      "\u001b[0;32m<ipython-input-227-60d4b7980174>\u001b[0m in \u001b[0;36m<module>\u001b[0;34m()\u001b[0m\n\u001b[1;32m     57\u001b[0m \u001b[0;31m#    expenditure = [10,20,30,40,50]\u001b[0m\u001b[0;34m\u001b[0m\u001b[0;34m\u001b[0m\u001b[0m\n\u001b[1;32m     58\u001b[0m \u001b[0;34m\u001b[0m\u001b[0m\n\u001b[0;32m---> 59\u001b[0;31m     \u001b[0mresult\u001b[0m \u001b[0;34m=\u001b[0m \u001b[0mactivityNotifications\u001b[0m\u001b[0;34m(\u001b[0m\u001b[0mexpenditure\u001b[0m\u001b[0;34m,\u001b[0m \u001b[0md\u001b[0m\u001b[0;34m)\u001b[0m\u001b[0;34m\u001b[0m\u001b[0m\n\u001b[0m\u001b[1;32m     60\u001b[0m     \u001b[0;32mprint\u001b[0m \u001b[0;34m'result'\u001b[0m\u001b[0;34m,\u001b[0m \u001b[0mresult\u001b[0m\u001b[0;34m\u001b[0m\u001b[0m\n",
      "\u001b[0;32m<ipython-input-227-60d4b7980174>\u001b[0m in \u001b[0;36mactivityNotifications\u001b[0;34m(expenditure, d)\u001b[0m\n\u001b[1;32m     29\u001b[0m     \u001b[0mmedilist\u001b[0m \u001b[0;34m=\u001b[0m \u001b[0;34m[\u001b[0m\u001b[0;36m0\u001b[0m\u001b[0;34m]\u001b[0m \u001b[0;34m*\u001b[0m \u001b[0;36m201\u001b[0m \u001b[0;31m# 0 to 200\u001b[0m\u001b[0;34m\u001b[0m\u001b[0m\n\u001b[1;32m     30\u001b[0m     \u001b[0;32mfor\u001b[0m \u001b[0mi\u001b[0m \u001b[0;32min\u001b[0m \u001b[0mrange\u001b[0m\u001b[0;34m(\u001b[0m\u001b[0md\u001b[0m\u001b[0;34m)\u001b[0m\u001b[0;34m:\u001b[0m\u001b[0;34m\u001b[0m\u001b[0m\n\u001b[0;32m---> 31\u001b[0;31m         \u001b[0mmedilist\u001b[0m\u001b[0;34m[\u001b[0m\u001b[0mexpenditure\u001b[0m\u001b[0;34m[\u001b[0m\u001b[0mi\u001b[0m\u001b[0;34m]\u001b[0m\u001b[0;34m]\u001b[0m \u001b[0;34m+=\u001b[0m \u001b[0;36m1\u001b[0m\u001b[0;34m\u001b[0m\u001b[0m\n\u001b[0m\u001b[1;32m     32\u001b[0m     \u001b[0;32mprint\u001b[0m \u001b[0mmedilist\u001b[0m\u001b[0;34m\u001b[0m\u001b[0m\n\u001b[1;32m     33\u001b[0m \u001b[0;34m\u001b[0m\u001b[0m\n",
      "\u001b[0;31mIndexError\u001b[0m: list index out of range"
     ]
    }
   ],
   "source": [
    "def mediansum(medilist,d):\n",
    "    mcnt = 0\n",
    "    half = d // 2 + 1\n",
    "    before = 0\n",
    "    \n",
    "    for i in range(len(medilist)):\n",
    "        if ( half > (medilist[i] + mcnt) ):\n",
    "            mcnt += medilist[i] \n",
    "            if ( medilist[i] != 0 ):\n",
    "                before = i\n",
    "        else:\n",
    "            print 'half', half ,'medilist[i]', medilist[i], 'mcnt', mcnt\n",
    "            break\n",
    "            \n",
    "    print 'mcnt', mcnt, 'i', i\n",
    "    if ( (d%2) == 0):\n",
    "        if ( (half - mcnt) >= 2):\n",
    "            return i\n",
    "        sumavg = (before + i) / 2.0\n",
    "        print 'before i sumavg', before, i, sumavg\n",
    "        return sumavg\n",
    "    else:\n",
    "        return i\n",
    "    return i\n",
    "    \n",
    "# Complete the activityNotifications function below.\n",
    "def activityNotifications(expenditure, d):\n",
    "    noti = 0  \n",
    "    medilist = [0] * 201 # 0 to 200\n",
    "    for i in range(d):\n",
    "        medilist[expenditure[i]] += 1\n",
    "    print medilist\n",
    "  \n",
    "    for i in range(d, len(expenditure)):\n",
    "        cmed = mediansum(medilist,d)\n",
    "        print 'cmed', cmed\n",
    "        if cmed*2 <= expenditure[i]:\n",
    "            noti += 1   \n",
    "            print 'noti', noti\n",
    "        # adjust medislit\n",
    "        medilist[expenditure[i-d]] -= 1\n",
    "        medilist[expenditure[i]] += 1\n",
    "    return noti\n",
    "\n",
    "if __name__ == '__main__':\n",
    "#    nd = raw_input().split()\n",
    "#    n = int(nd[0])\n",
    "#    d = int(nd[1])\n",
    "\n",
    "#    expenditure = map(int, raw_input().rstrip().split())\n",
    "    n = 4\n",
    "    d = 6\n",
    "    expenditure = np.random.randint(0,200,100)\n",
    "    print expenditure\n",
    "#    expenditure =[2, 3, 4, 2, 3, 6, 8, 4, 5]\n",
    "    expenditure = [1,2,3,4,4]\n",
    "#    expenditure = [10,20,30,40,50]\n",
    "\n",
    "    result = activityNotifications(expenditure, d)\n",
    "    print 'result', result"
   ]
  },
  {
   "cell_type": "code",
   "execution_count": 219,
   "metadata": {},
   "outputs": [
    {
     "name": "stdout",
     "output_type": "stream",
     "text": [
      "[1, 2, 3, 4, 4, 5]\n",
      "[0, 1, 1, 1, 2, 1, 0, 0, 0, 0, 0, 0, 0, 0, 0, 0, 0, 0, 0, 0, 0, 0, 0, 0, 0, 0, 0, 0, 0, 0, 0, 0, 0, 0, 0, 0, 0, 0, 0, 0, 0, 0, 0, 0, 0, 0, 0, 0, 0, 0]\n",
      "half 4 medilist[i] 2 mcnt 3\n",
      "mcnt 3 i 4\n",
      "before i sumavg 3 4 3.5\n",
      "3.5\n",
      "[1, 2, 3, 4, 4, 5]\n"
     ]
    }
   ],
   "source": [
    "import numpy as np\n",
    "\n",
    "def mediansum(medilist,d):\n",
    "    mcnt = 0\n",
    "    half = d // 2 + 1\n",
    "    before = 0\n",
    "    \n",
    "    for i in range(len(medilist)):\n",
    "        if ( half > (medilist[i] + mcnt) ):\n",
    "            mcnt += medilist[i] \n",
    "            if ( medilist[i] != 0 ):\n",
    "                before = i\n",
    "        else:\n",
    "            print 'half', half ,'medilist[i]', medilist[i], 'mcnt', mcnt\n",
    "            break\n",
    "            \n",
    "    print 'mcnt', mcnt, 'i', i\n",
    "    if ( (d%2) == 0):\n",
    "        if ( (half - mcnt) >= 2):\n",
    "            return i\n",
    "        sumavg = (before + i) / 2.0\n",
    "        print 'before i sumavg', before, i, sumavg\n",
    "        return sumavg\n",
    "    else:\n",
    "        return i\n",
    "    return i\n",
    "\n",
    "#li = [2, 3, 4, 2, 3]\n",
    "li = np.random.randint(0,50,11)\n",
    "li = [1,2,3,4,4,5]\n",
    "print li\n",
    "d = 6\n",
    "medilist = [0]*50\n",
    "for i in range(d):\n",
    "    medilist[li[i]] += 1\n",
    "print medilist\n",
    "res = mediansum(medilist,d)\n",
    "print res\n",
    "print sorted(li)"
   ]
  }
 ],
 "metadata": {
  "kernelspec": {
   "display_name": "Python 2",
   "language": "python",
   "name": "python2"
  },
  "language_info": {
   "codemirror_mode": {
    "name": "ipython",
    "version": 2
   },
   "file_extension": ".py",
   "mimetype": "text/x-python",
   "name": "python",
   "nbconvert_exporter": "python",
   "pygments_lexer": "ipython2",
   "version": "2.7.14"
  }
 },
 "nbformat": 4,
 "nbformat_minor": 2
}
