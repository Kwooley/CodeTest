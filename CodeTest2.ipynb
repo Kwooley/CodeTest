{
 "cells": [
  {
   "cell_type": "markdown",
   "metadata": {},
   "source": [
    "# Matrix Sort"
   ]
  },
  {
   "cell_type": "code",
   "execution_count": 4,
   "metadata": {},
   "outputs": [],
   "source": [
    "import numpy as np\n"
   ]
  },
  {
   "cell_type": "code",
   "execution_count": 5,
   "metadata": {
    "scrolled": true
   },
   "outputs": [
    {
     "data": {
      "text/plain": [
       "array([[73, 83, 43, 64, 10, 86,  4, 90, 54, 43],\n",
       "       [67, 62, 19,  2, 50, 13, 24, 67, 92, 82],\n",
       "       [62, 28, 17, 94, 31,  2, 51,  1, 94, 94],\n",
       "       [74, 37, 92, 94, 97, 99, 67, 28, 34, 48],\n",
       "       [61, 58, 38, 58, 30, 81,  2, 35, 61, 31],\n",
       "       [13, 51, 69, 96, 73, 14, 74, 17, 29, 27],\n",
       "       [16, 69, 86, 66, 19, 52, 50, 30, 77, 93],\n",
       "       [13, 97, 15,  0, 43, 64,  2, 42, 16, 29],\n",
       "       [96, 39,  9, 64, 64, 67, 32,  2, 26, 70],\n",
       "       [41, 77,  0, 25, 92, 48, 72, 90, 87, 14]])"
      ]
     },
     "execution_count": 5,
     "metadata": {},
     "output_type": "execute_result"
    }
   ],
   "source": [
    "mat = np.random.randint(0, 100, [10,10])\n",
    "mat"
   ]
  },
  {
   "cell_type": "code",
   "execution_count": 4,
   "metadata": {},
   "outputs": [
    {
     "name": "stdout",
     "output_type": "stream",
     "text": [
      "max num 98\n",
      "min num 0\n"
     ]
    }
   ],
   "source": [
    "print ('max num', mat.max())\n",
    "print ('min num', mat.min())"
   ]
  },
  {
   "cell_type": "code",
   "execution_count": 6,
   "metadata": {},
   "outputs": [
    {
     "name": "stdout",
     "output_type": "stream",
     "text": [
      "[[90 86 83 73 64 54 43 43 10  4]\n",
      " [92 82 67 67 62 50 24 19 13  2]\n",
      " [94 94 94 62 51 31 28 17  2  1]\n",
      " [99 97 94 92 74 67 48 37 34 28]\n",
      " [81 61 61 58 58 38 35 31 30  2]\n",
      " [96 74 73 69 51 29 27 17 14 13]\n",
      " [93 86 77 69 66 52 50 30 19 16]\n",
      " [97 64 43 42 29 16 15 13  2  0]\n",
      " [96 70 67 64 64 39 32 26  9  2]\n",
      " [92 90 87 77 72 48 41 25 14  0]]\n",
      "[99, 97, 97, 96, 96, 94, 94, 94, 94, 93, 92, 92, 92, 90, 90, 87, 86, 86, 83, 82, 81, 77, 77, 74, 74, 73, 73, 72, 70, 69, 69, 67, 67, 67, 67, 66, 64, 64, 64, 64, 62, 62, 61, 61, 58, 58, 54, 52, 51, 51, 50, 50, 48, 48, 43, 43, 43, 42, 41, 39, 38, 37, 35, 34, 32, 31, 31, 30, 30, 29, 29, 28, 28, 27, 26, 25, 24, 19, 19, 17, 17, 16, 16, 15, 14, 14, 13, 13, 13, 10, 9, 4, 2, 2, 2, 2, 2, 1, 0, 0]\n"
     ]
    }
   ],
   "source": [
    "def dimsort(list1):\n",
    "    for i in range(len(list1)):\n",
    "        for j in range(i,len(list1)):\n",
    "            if list1[i] < list1[j]:\n",
    "                list1[i], list1[j] = list1[j], list1[i]\n",
    "\n",
    "\n",
    "def mergemat(l1, l2):\n",
    "    len1 = len(l1)\n",
    "    len2 = len(l2)\n",
    "    i = j = k = 0\n",
    "    rst = [0]*(len1+len2)\n",
    "    if (len1 == 0):\n",
    "        rst[:] = l2[:]\n",
    "        return rst\n",
    "    if (len2 == 0):\n",
    "        rst[:] = l1[:]\n",
    "        return rst\n",
    "      \n",
    "    while (i < len1 and j < len2):\n",
    "        if (l1[i] > l2[j]):\n",
    "            rst[k] = l1[i]\n",
    "            k += 1; i += 1\n",
    "        else:\n",
    "            rst[k] = l2[j]\n",
    "            k += 1; j += 1\n",
    "    \n",
    "    if (i == len1):\n",
    "        for t in range(j,len2):\n",
    "            rst[k] = l2[t]\n",
    "            k += 1\n",
    "    if (j == len2):\n",
    "        for t in range(i,len1):\n",
    "            rst[k] = l1[t]\n",
    "            k += 1\n",
    "    return rst\n",
    "\n",
    "            \n",
    "for i in range(len(mat)):\n",
    "    dimsort(mat[i])\n",
    "\n",
    "print (mat)\n",
    "\n",
    "numelm = sum(len(mat[i]) for i in range(len(mat)))\n",
    "\n",
    "\n",
    "rst = []\n",
    "\n",
    "for i in range(len(mat)):\n",
    "    rst = mergemat(rst, mat[i])\n",
    "    \n",
    "print (rst)\n",
    "\n"
   ]
  },
  {
   "cell_type": "markdown",
   "metadata": {},
   "source": [
    "# BST"
   ]
  },
  {
   "cell_type": "code",
   "execution_count": 16,
   "metadata": {
    "scrolled": true
   },
   "outputs": [
    {
     "data": {
      "text/plain": [
       "array([66, 41, 80, 63, 38,  5, 56, 88,  3,  8])"
      ]
     },
     "execution_count": 16,
     "metadata": {},
     "output_type": "execute_result"
    }
   ],
   "source": [
    "g = np.random.randint(0,100, 10)\n",
    "\n",
    "g"
   ]
  },
  {
   "cell_type": "code",
   "execution_count": 18,
   "metadata": {},
   "outputs": [
    {
     "name": "stdout",
     "output_type": "stream",
     "text": [
      "parent : 66 left 41\n",
      "parent : 66 right 80\n",
      "parent : 41 right 63\n",
      "parent : 41 left 38\n",
      "parent : 38 left 5\n",
      "parent : 63 left 56\n",
      "parent : 80 right 88\n",
      "parent : 5 left 3\n",
      "parent : 5 right 8\n",
      "BT Size 10\n",
      "66 41 38 5 3 8 63 56 80 88 "
     ]
    }
   ],
   "source": [
    "class node:\n",
    "    def __init__(self, data):\n",
    "        self.data = data\n",
    "        self.left = None\n",
    "        self.right = None\n",
    "    \n",
    "class BST:\n",
    "    def __init__(self):\n",
    "        self.numnode = 0\n",
    "        self.root = None\n",
    "        self.size = 0\n",
    "    \n",
    "    def addnode(self, n):\n",
    "        p = self.root\n",
    "        if ( p == None):\n",
    "            self.root = n\n",
    "            BT.size += 1\n",
    "            return\n",
    "        while ( p != None):\n",
    "            if (n.data < p.data):\n",
    "                if (p.left == None):\n",
    "                    print ('parent :', p.data, 'left', n.data)\n",
    "                    p.left = n\n",
    "                    BT.size += 1\n",
    "                    break\n",
    "                else:\n",
    "                    p = p.left\n",
    "            else:\n",
    "                if (p.right == None):\n",
    "                    print ('parent :', p.data, 'right', n.data)\n",
    "                    p.right = n\n",
    "                    BT.size += 1\n",
    "                    break\n",
    "                else:\n",
    "                    p = p.right\n",
    "                \n",
    "    def DFS(self, root):\n",
    "        p = root\n",
    "        i = 0\n",
    "        if ( p != None):\n",
    "            i += 1\n",
    "            print (p.data, end=' ')\n",
    "#            print ('go to left')\n",
    "            BT.DFS(p.left)\n",
    "#            print ('go to right')\n",
    "            BT.DFS(p.right)\n",
    "        else:\n",
    "            return\n",
    "\n",
    "        \n",
    "BT = BST()\n",
    "\n",
    "n = [] # list of Node\n",
    "\n",
    "for i in range(len(g)):\n",
    "    n.append( node(g[i]) )\n",
    "    BT.addnode(n[i])\n",
    "print ('BT Size', BT.size)\n",
    "root = BT.root\n",
    "BT.DFS(root)\n",
    "            \n",
    "        "
   ]
  },
  {
   "cell_type": "markdown",
   "metadata": {},
   "source": [
    "# Dict"
   ]
  },
  {
   "cell_type": "code",
   "execution_count": 35,
   "metadata": {},
   "outputs": [
    {
     "name": "stdout",
     "output_type": "stream",
     "text": [
      "0 ['L' 'W' 'O']\n",
      "1 ['U' 'P' 'Q']\n",
      "2 ['Z' 'Z' 'P']\n",
      "3 ['W' 'R' 'S']\n",
      "4 ['L' 'X' 'K']\n",
      "5 ['O' 'G' 'D']\n",
      "6 ['B' 'Q' 'G']\n",
      "7 ['Z' 'U' 'Y']\n",
      "8 ['B' 'X' 'R']\n",
      "9 ['S' 'B' 'D']\n"
     ]
    }
   ],
   "source": [
    "import string\n",
    "\n",
    "l1 = np.random.randint(0,100,10)\n",
    "\n",
    "upperstr = string.ascii_uppercase\n",
    "\n",
    "charpool = list(upperstr)\n",
    "\n",
    "def makedict():\n",
    "    d1 = {}\n",
    "    for k in range(len(l1)):\n",
    "        vals = np.random.choice(charpool, 3)\n",
    "        d1[k] = vals\n",
    "    return d1\n",
    "\n",
    "d = makedict()\n",
    "\n",
    "for k,v in d.items():\n",
    "    print (k,v)"
   ]
  },
  {
   "cell_type": "markdown",
   "metadata": {},
   "source": [
    "# DLL"
   ]
  },
  {
   "cell_type": "code",
   "execution_count": 155,
   "metadata": {},
   "outputs": [],
   "source": [
    "class node:\n",
    "    def __init__(self, data):\n",
    "        self.data = data\n",
    "        self.prev = None\n",
    "        self.next = None\n",
    "        \n",
    "class DLL:\n",
    "    def __init__(self):\n",
    "        self.head = None\n",
    "        self.tail = None\n",
    "        self.size = 0\n",
    "        \n",
    "    def append(self, n):\n",
    "        p = self.head\n",
    "        if (p == None):  # empty DLL\n",
    "            self.head = n\n",
    "            self.tail = n\n",
    "            self.size += 1\n",
    "            return n.data\n",
    "        b = p\n",
    "        while ( p != None):\n",
    "            if (n.data > p.data): # find position\n",
    "                b = p\n",
    "                p = p.next\n",
    "            else:\n",
    "                if (b != p):   # insert into middle postion\n",
    "                    n.next = p\n",
    "                    n.prev = b\n",
    "                    b.next = n\n",
    "                    p.prev = n\n",
    "                    self.size += 1\n",
    "                    return\n",
    "                else:  # insert into the first position \n",
    "                    self.head = n\n",
    "                    n.next = p\n",
    "                    p.prev = n\n",
    "                    self.size += 1\n",
    "                    return\n",
    "        if ( p == None): # insert into the last position\n",
    "            b.next = n\n",
    "            n.prev = b\n",
    "            self.tail = n\n",
    "        self.size += 1\n",
    "        return n.data\n",
    "    \n",
    "    def traverse(self):\n",
    "        p = self.head\n",
    "        while(p != None):\n",
    "            print (p.data, end=' ')\n",
    "            p = p.next\n",
    "        print ()\n",
    "        return\n",
    "    def traverse_reverse(self):\n",
    "        p = self.tail\n",
    "        while (p != None):\n",
    "            print (p.data, end=' ')\n",
    "            p = p.prev\n",
    "        print ()\n",
    "        return\n",
    "    def search(self, data):\n",
    "        p = self.head\n",
    "        while (p != None):\n",
    "            if (p.data == data):\n",
    "                return p\n",
    "            else:\n",
    "                p = p.next\n",
    "        return None\n",
    "    \n",
    "    def delete(self, p):\n",
    "        print ('delete', p.data, 'prev', p.prev, 'next', p.next)\n",
    "        b = p.prev\n",
    "        n = p.next\n",
    "        if ( b == None):\n",
    "            print('head')\n",
    "            self.head = p.next\n",
    "            p.next.prev = None\n",
    "            p.next = p.prev = None\n",
    "        elif (n == None):\n",
    "            print('tail')\n",
    "            self.tail = p.prev\n",
    "            p.prev.next = None\n",
    "            p.next = p.prev = None\n",
    "        else:\n",
    "            b.next = p.next\n",
    "            n.prev = p.prev\n",
    "        del p\n",
    "        return\n",
    "        \n",
    "                "
   ]
  },
  {
   "cell_type": "code",
   "execution_count": 154,
   "metadata": {},
   "outputs": [
    {
     "name": "stdout",
     "output_type": "stream",
     "text": [
      "12 23 25 28 36 37 38 42 52 61 64 66 69 79 89 90 94 95 97 98 \n",
      "98 97 95 94 90 89 79 69 66 64 61 52 42 38 37 36 28 25 23 12 \n",
      "found 12\n",
      "delete 12 prev None next <__main__.node object at 0x112852080>\n",
      "head\n",
      "DLL Size 20 length of list 20\n",
      "23 25 28 36 37 38 42 52 61 64 66 69 79 89 90 94 95 97 98 \n",
      "98 97 95 94 90 89 79 69 66 64 61 52 42 38 37 36 28 25 23 \n"
     ]
    }
   ],
   "source": [
    "nvals = np.random.randint(0, 100, 20)\n",
    "\n",
    "nvals = [95, 42, 69, 89, 37, 66, 97, 98, 64, 90, 79, 61, 23, 28, 12, 94, 25,\n",
    "       38, 52, 36]\n",
    "n = [] # class node list\n",
    "DLL1 = DLL()\n",
    "for i in range(len(nvals)):\n",
    "    n.append(node(nvals[i]))\n",
    "    DLL1.append(n[i])\n",
    "    \n",
    "\n",
    "DLL1.traverse()\n",
    "DLL1.traverse_reverse()\n",
    "p = DLL1.search(12)\n",
    "print ('found', p.data)\n",
    "if (p):\n",
    "    DLL1.delete(p)\n",
    "print ('DLL Size %d'%DLL1.size, 'length of list', len(nvals))\n",
    "DLL1.traverse()\n",
    "DLL1.traverse_reverse()\n",
    "\n",
    "del n"
   ]
  }
 ],
 "metadata": {
  "kernelspec": {
   "display_name": "Python 3",
   "language": "python",
   "name": "python3"
  },
  "language_info": {
   "codemirror_mode": {
    "name": "ipython",
    "version": 3
   },
   "file_extension": ".py",
   "mimetype": "text/x-python",
   "name": "python",
   "nbconvert_exporter": "python",
   "pygments_lexer": "ipython3",
   "version": "3.7.0"
  }
 },
 "nbformat": 4,
 "nbformat_minor": 2
}
