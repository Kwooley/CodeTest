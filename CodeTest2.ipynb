{
 "cells": [
  {
   "cell_type": "markdown",
   "metadata": {},
   "source": [
    "# Matrix Sort"
   ]
  },
  {
   "cell_type": "code",
   "execution_count": 1,
   "metadata": {},
   "outputs": [],
   "source": [
    "import numpy as np\n"
   ]
  },
  {
   "cell_type": "code",
   "execution_count": 2,
   "metadata": {
    "scrolled": true
   },
   "outputs": [
    {
     "data": {
      "text/plain": [
       "array([[36, 81, 22, 56, 52, 65, 88, 36, 25,  9],\n",
       "       [45, 46, 57, 35, 78, 72, 31, 39, 64, 26],\n",
       "       [82, 12, 22, 25, 95, 31, 59, 11, 12, 77],\n",
       "       [40, 85, 74, 87, 16,  9, 83, 57, 41, 98],\n",
       "       [92, 11, 21, 99, 23, 79, 14, 90, 64, 32],\n",
       "       [54, 62, 17, 43, 42, 52, 99, 52, 93, 67],\n",
       "       [91, 83, 16, 44, 53, 36, 43, 83, 47,  3],\n",
       "       [34, 49, 66, 39, 25, 72, 29, 32, 31, 16],\n",
       "       [10, 62, 71, 40, 14, 38, 24, 16, 65, 52],\n",
       "       [29, 27,  5, 44, 27, 99, 32, 58, 55, 69]])"
      ]
     },
     "execution_count": 2,
     "metadata": {},
     "output_type": "execute_result"
    }
   ],
   "source": [
    "mat = np.random.randint(0, 100, [10,10])\n",
    "mat"
   ]
  },
  {
   "cell_type": "code",
   "execution_count": 3,
   "metadata": {},
   "outputs": [
    {
     "name": "stdout",
     "output_type": "stream",
     "text": [
      "max num 99\n",
      "min num 3\n"
     ]
    }
   ],
   "source": [
    "print ('max num', mat.max())\n",
    "print ('min num', mat.min())"
   ]
  },
  {
   "cell_type": "code",
   "execution_count": 4,
   "metadata": {},
   "outputs": [
    {
     "name": "stdout",
     "output_type": "stream",
     "text": [
      "[[88 81 65 56 52 36 36 25 22  9]\n",
      " [78 72 64 57 46 45 39 35 31 26]\n",
      " [95 82 77 59 31 25 22 12 12 11]\n",
      " [98 87 85 83 74 57 41 40 16  9]\n",
      " [99 92 90 79 64 32 23 21 14 11]\n",
      " [99 93 67 62 54 52 52 43 42 17]\n",
      " [91 83 83 53 47 44 43 36 16  3]\n",
      " [72 66 49 39 34 32 31 29 25 16]\n",
      " [71 65 62 52 40 38 24 16 14 10]\n",
      " [99 69 58 55 44 32 29 27 27  5]]\n",
      "[99, 99, 99, 98, 95, 93, 92, 91, 90, 88, 87, 85, 83, 83, 83, 82, 81, 79, 78, 77, 74, 72, 72, 71, 69, 67, 66, 65, 65, 64, 64, 62, 62, 59, 58, 57, 57, 56, 55, 54, 53, 52, 52, 52, 52, 49, 47, 46, 45, 44, 44, 43, 43, 42, 41, 40, 40, 39, 39, 38, 36, 36, 36, 35, 34, 32, 32, 32, 31, 31, 31, 29, 29, 27, 27, 26, 25, 25, 25, 24, 23, 22, 22, 21, 17, 16, 16, 16, 16, 14, 14, 12, 12, 11, 11, 10, 9, 9, 5, 3]\n"
     ]
    }
   ],
   "source": [
    "def dimsort(list1):\n",
    "    for i in range(len(list1)):\n",
    "        for j in range(i,len(list1)):\n",
    "            if list1[i] < list1[j]:\n",
    "                list1[i], list1[j] = list1[j], list1[i]\n",
    "\n",
    "\n",
    "def mergemat(l1, l2):\n",
    "    len1 = len(l1)\n",
    "    len2 = len(l2)\n",
    "    i = j = k = 0\n",
    "    rst = [0]*(len1+len2)\n",
    "    if (len1 == 0):\n",
    "        rst[:] = l2[:]\n",
    "        return rst\n",
    "    if (len2 == 0):\n",
    "        rst[:] = l1[:]\n",
    "        return rst\n",
    "      \n",
    "    while (i < len1 and j < len2):\n",
    "        if (l1[i] > l2[j]):\n",
    "            rst[k] = l1[i]\n",
    "            k += 1; i += 1\n",
    "        else:\n",
    "            rst[k] = l2[j]\n",
    "            k += 1; j += 1\n",
    "    \n",
    "    if (i == len1):\n",
    "        for t in range(j,len2):\n",
    "            rst[k] = l2[t]\n",
    "            k += 1\n",
    "    if (j == len2):\n",
    "        for t in range(i,len1):\n",
    "            rst[k] = l1[t]\n",
    "            k += 1\n",
    "    return rst\n",
    "\n",
    "            \n",
    "for i in range(len(mat)):\n",
    "    dimsort(mat[i])\n",
    "\n",
    "print (mat)\n",
    "\n",
    "numelm = sum(len(mat[i]) for i in range(len(mat)))\n",
    "\n",
    "\n",
    "rst = []\n",
    "\n",
    "for i in range(len(mat)):\n",
    "    rst = mergemat(rst, mat[i])\n",
    "    \n",
    "print (rst)\n",
    "\n"
   ]
  },
  {
   "cell_type": "markdown",
   "metadata": {},
   "source": [
    "# BST"
   ]
  },
  {
   "cell_type": "code",
   "execution_count": 5,
   "metadata": {
    "scrolled": true
   },
   "outputs": [
    {
     "data": {
      "text/plain": [
       "array([ 2, 14, 98, 77, 88, 74, 35, 98, 94, 72])"
      ]
     },
     "execution_count": 5,
     "metadata": {},
     "output_type": "execute_result"
    }
   ],
   "source": [
    "g = np.random.randint(0,100, 10)\n",
    "\n",
    "g"
   ]
  },
  {
   "cell_type": "code",
   "execution_count": 6,
   "metadata": {},
   "outputs": [
    {
     "name": "stdout",
     "output_type": "stream",
     "text": [
      "parent : 2 right 14\n",
      "parent : 14 right 98\n",
      "parent : 98 left 77\n",
      "parent : 77 right 88\n",
      "parent : 77 left 74\n",
      "parent : 74 left 35\n",
      "parent : 98 right 98\n",
      "parent : 88 right 94\n",
      "parent : 35 right 72\n",
      "BT Size 10\n",
      "2 14 98 77 74 35 72 88 94 98 "
     ]
    }
   ],
   "source": [
    "class node:\n",
    "    def __init__(self, data):\n",
    "        self.data = data\n",
    "        self.left = None\n",
    "        self.right = None\n",
    "    \n",
    "class BST:\n",
    "    def __init__(self):\n",
    "        self.numnode = 0\n",
    "        self.root = None\n",
    "        self.size = 0\n",
    "    \n",
    "    def addnode(self, n):\n",
    "        p = self.root\n",
    "        if ( p == None):\n",
    "            self.root = n\n",
    "            BT.size += 1\n",
    "            return\n",
    "        while ( p != None):\n",
    "            if (n.data < p.data):\n",
    "                if (p.left == None):\n",
    "                    print ('parent :', p.data, 'left', n.data)\n",
    "                    p.left = n\n",
    "                    BT.size += 1\n",
    "                    break\n",
    "                else:\n",
    "                    p = p.left\n",
    "            else:\n",
    "                if (p.right == None):\n",
    "                    print ('parent :', p.data, 'right', n.data)\n",
    "                    p.right = n\n",
    "                    BT.size += 1\n",
    "                    break\n",
    "                else:\n",
    "                    p = p.right\n",
    "                \n",
    "    def DFS(self, root):\n",
    "        p = root\n",
    "        i = 0\n",
    "        if ( p != None):\n",
    "            i += 1\n",
    "            print (p.data, end=' ')\n",
    "#            print ('go to left')\n",
    "            BT.DFS(p.left)\n",
    "#            print ('go to right')\n",
    "            BT.DFS(p.right)\n",
    "        else:\n",
    "            return\n",
    "\n",
    "        \n",
    "BT = BST()\n",
    "\n",
    "n = [] # list of Node\n",
    "\n",
    "for i in range(len(g)):\n",
    "    n.append( node(g[i]) )\n",
    "    BT.addnode(n[i])\n",
    "print ('BT Size', BT.size)\n",
    "root = BT.root\n",
    "BT.DFS(root)\n",
    "            \n",
    "        "
   ]
  },
  {
   "cell_type": "markdown",
   "metadata": {},
   "source": [
    "# Dict"
   ]
  },
  {
   "cell_type": "code",
   "execution_count": 7,
   "metadata": {},
   "outputs": [
    {
     "name": "stdout",
     "output_type": "stream",
     "text": [
      "0 ['S' 'P' 'K']\n",
      "1 ['H' 'V' 'W']\n",
      "2 ['D' 'T' 'Z']\n",
      "3 ['O' 'T' 'V']\n",
      "4 ['M' 'E' 'D']\n",
      "5 ['X' 'I' 'C']\n",
      "6 ['M' 'D' 'L']\n",
      "7 ['X' 'D' 'S']\n",
      "8 ['H' 'B' 'Y']\n",
      "9 ['T' 'L' 'L']\n"
     ]
    }
   ],
   "source": [
    "import string\n",
    "\n",
    "l1 = np.random.randint(0,100,10)\n",
    "\n",
    "upperstr = string.ascii_uppercase\n",
    "\n",
    "charpool = list(upperstr)\n",
    "\n",
    "def makedict():\n",
    "    d1 = {}\n",
    "    for k in range(len(l1)):\n",
    "        vals = np.random.choice(charpool, 3)\n",
    "        d1[k] = vals\n",
    "    return d1\n",
    "\n",
    "d = makedict()\n",
    "\n",
    "for k,v in d.items():\n",
    "    print (k,v)"
   ]
  },
  {
   "cell_type": "markdown",
   "metadata": {},
   "source": [
    "# DLL"
   ]
  },
  {
   "cell_type": "code",
   "execution_count": 8,
   "metadata": {},
   "outputs": [],
   "source": [
    "class node:\n",
    "    def __init__(self, data):\n",
    "        self.data = data\n",
    "        self.prev = None\n",
    "        self.next = None\n",
    "        \n",
    "class DLL:\n",
    "    def __init__(self):\n",
    "        self.head = None\n",
    "        self.tail = None\n",
    "        self.size = 0\n",
    "        \n",
    "    def append(self, n):\n",
    "        p = self.head\n",
    "        if (p == None):  # empty DLL\n",
    "            self.head = n\n",
    "            self.tail = n\n",
    "            self.size += 1\n",
    "            return n.data\n",
    "        b = p\n",
    "        while ( p != None):\n",
    "            if (n.data > p.data): # find position\n",
    "                b = p\n",
    "                p = p.next\n",
    "            else:\n",
    "                if (b != p):   # insert into middle postion\n",
    "                    n.next = p\n",
    "                    n.prev = b\n",
    "                    b.next = n\n",
    "                    p.prev = n\n",
    "                    self.size += 1\n",
    "                    return\n",
    "                else:  # insert into the first position \n",
    "                    self.head = n\n",
    "                    n.next = p\n",
    "                    p.prev = n\n",
    "                    self.size += 1\n",
    "                    return\n",
    "        if ( p == None): # insert into the last position\n",
    "            b.next = n\n",
    "            n.prev = b\n",
    "            self.tail = n\n",
    "        self.size += 1\n",
    "        return n.data\n",
    "    \n",
    "    def traverse(self):\n",
    "        p = self.head\n",
    "        while(p != None):\n",
    "            print (p.data, end=' ')\n",
    "            p = p.next\n",
    "        print ()\n",
    "        return\n",
    "    def traverse_reverse(self):\n",
    "        p = self.tail\n",
    "        while (p != None):\n",
    "            print (p.data, end=' ')\n",
    "            p = p.prev\n",
    "        print ()\n",
    "        return\n",
    "    def search(self, data):\n",
    "        p = self.head\n",
    "        while (p != None):\n",
    "            if (p.data == data):\n",
    "                return p\n",
    "            else:\n",
    "                p = p.next\n",
    "        return None\n",
    "    \n",
    "    def delete(self, p):\n",
    "        print ('delete', p.data, 'prev', p.prev, 'next', p.next)\n",
    "        b = p.prev\n",
    "        n = p.next\n",
    "        if ( b == None):\n",
    "            print('head')\n",
    "            self.head = p.next\n",
    "            p.next.prev = None\n",
    "            p.next = p.prev = None\n",
    "        elif (n == None):\n",
    "            print('tail')\n",
    "            self.tail = p.prev\n",
    "            p.prev.next = None\n",
    "            p.next = p.prev = None\n",
    "        else:\n",
    "            b.next = p.next\n",
    "            n.prev = p.prev\n",
    "        del p\n",
    "        return\n",
    "        \n",
    "                "
   ]
  },
  {
   "cell_type": "code",
   "execution_count": 9,
   "metadata": {},
   "outputs": [
    {
     "name": "stdout",
     "output_type": "stream",
     "text": [
      "12 23 25 28 36 37 38 42 52 61 64 66 69 79 89 90 94 95 97 98 \n",
      "98 97 95 94 90 89 79 69 66 64 61 52 42 38 37 36 28 25 23 12 \n",
      "found 12\n",
      "delete 12 prev None next <__main__.node object at 0x10da2a438>\n",
      "head\n",
      "DLL Size 20 length of list 20\n",
      "23 25 28 36 37 38 42 52 61 64 66 69 79 89 90 94 95 97 98 \n",
      "98 97 95 94 90 89 79 69 66 64 61 52 42 38 37 36 28 25 23 \n"
     ]
    }
   ],
   "source": [
    "nvals = np.random.randint(0, 100, 20)\n",
    "\n",
    "nvals = [95, 42, 69, 89, 37, 66, 97, 98, 64, 90, 79, 61, 23, 28, 12, 94, 25,\n",
    "       38, 52, 36]\n",
    "n = [] # class node list\n",
    "DLL1 = DLL()\n",
    "for i in range(len(nvals)):\n",
    "    n.append(node(nvals[i]))\n",
    "    DLL1.append(n[i])\n",
    "    \n",
    "\n",
    "DLL1.traverse()\n",
    "DLL1.traverse_reverse()\n",
    "p = DLL1.search(12)\n",
    "print ('found', p.data)\n",
    "if (p):\n",
    "    DLL1.delete(p)\n",
    "print ('DLL Size %d'%DLL1.size, 'length of list', len(nvals))\n",
    "DLL1.traverse()\n",
    "DLL1.traverse_reverse()\n",
    "\n",
    "del n"
   ]
  },
  {
   "cell_type": "markdown",
   "metadata": {},
   "source": [
    "# Qsort"
   ]
  },
  {
   "cell_type": "code",
   "execution_count": 164,
   "metadata": {},
   "outputs": [],
   "source": [
    "glist = np.random.randint(0,100,10)\n",
    "#glist = [25, 15, 10, 20, 30, 40, 24]\n",
    "\n",
    "def partition(left,right):\n",
    "    l = left+1\n",
    "    h = right\n",
    "    pval = glist[left]\n",
    "    while (l <= h):\n",
    "        while (l<=h and glist[l] <= pval):\n",
    "            l += 1\n",
    "        while (l<=h and pval <= glist[h]):\n",
    "            h -= 1\n",
    "        if (l < h):\n",
    "            glist[l], glist[h] = glist[h], glist[l]\n",
    "    glist[left], glist[h] = glist[h], glist[left]\n",
    "    return  h \n",
    "\n",
    "def qsort(left, right):\n",
    "\n",
    "    if (right-left > 0):\n",
    "        q = partition(left, right)\n",
    "        print ('qsort', glist[left:q])\n",
    "        qsort(left, q-1)\n",
    "        print ('qsort', glist[q+1:right+1])\n",
    "        qsort(q+1, right)\n",
    "    return\n",
    "\n",
    "    "
   ]
  },
  {
   "cell_type": "code",
   "execution_count": 165,
   "metadata": {},
   "outputs": [
    {
     "name": "stdout",
     "output_type": "stream",
     "text": [
      "[52 31 92 79 76 35  5 59 82  4]\n",
      "qsort [35 31  4  5]\n",
      "qsort [ 5 31  4]\n",
      "qsort [4]\n",
      "qsort [31]\n",
      "qsort []\n",
      "qsort [76 79 59 82 92]\n",
      "qsort [59]\n",
      "qsort [79 82 92]\n",
      "qsort []\n",
      "qsort [82 92]\n",
      "qsort []\n",
      "qsort [92]\n",
      "[ 4  5 31 35 52 59 76 79 82 92]\n"
     ]
    }
   ],
   "source": [
    "\n",
    "print (glist)\n",
    "qsort(0,9)\n",
    "\n",
    "print (glist)"
   ]
  },
  {
   "cell_type": "markdown",
   "metadata": {},
   "source": [
    "# MSort"
   ]
  },
  {
   "cell_type": "code",
   "execution_count": 195,
   "metadata": {},
   "outputs": [
    {
     "name": "stdout",
     "output_type": "stream",
     "text": [
      "merge into [96] [34]\n",
      "[34 96]\n",
      "merge into [56] [25]\n",
      "[25 56]\n",
      "merge into [34 96] [25 56]\n",
      "[25 34 56 96]\n",
      "merge into [49] [28]\n",
      "[28 49]\n",
      "merge into [28 49] [32]\n",
      "[28 32 49]\n",
      "merge into [25 34 56 96] [28 32 49]\n",
      "[25 28 32 34 49 56 96]\n",
      "[25 28 32 34 49 56 96]\n"
     ]
    }
   ],
   "source": [
    "glist = [25, 15, 10, 35, 30, 40, 24]\n",
    "glist = np.random.randint(0,100, 7)\n",
    "\n",
    "def merge(left, h, right):\n",
    "    b = [None]*(right-left+1)\n",
    "    i = left\n",
    "    j = h + 1\n",
    "    k = 0\n",
    "    while (i <= h and j <= right):\n",
    "        if ( glist[i] < glist[j]):\n",
    "            b[k] = glist[i]\n",
    "            i += 1; k += 1\n",
    "        else:\n",
    "            b[k] = glist[j]\n",
    "            j += 1; k += 1\n",
    "    if (i > h):\n",
    "        b[k:] = glist[j:right+1]\n",
    "    elif (j>right):\n",
    "        b[k:] = glist[i:h+1]\n",
    "\n",
    "    glist[left:right+1] = b[:]\n",
    "    print (glist[left:right+1])\n",
    "    del b\n",
    "    return\n",
    "    \n",
    "            \n",
    "    \n",
    "def msort(left,right):\n",
    "    h = int((left+right)/2)\n",
    "    if ( (right-left) > 0 ):\n",
    "        msort(left, h)\n",
    "        msort(h+1,right)\n",
    "        print ('merge into', glist[left:h+1], glist[h+1:right+1])\n",
    "        merge(left,h,right)\n",
    "    return\n",
    "\n",
    "\n",
    "msort(0,6)\n",
    "print (glist)\n"
   ]
  }
 ],
 "metadata": {
  "kernelspec": {
   "display_name": "Python 3",
   "language": "python",
   "name": "python3"
  },
  "language_info": {
   "codemirror_mode": {
    "name": "ipython",
    "version": 3
   },
   "file_extension": ".py",
   "mimetype": "text/x-python",
   "name": "python",
   "nbconvert_exporter": "python",
   "pygments_lexer": "ipython3",
   "version": "3.7.0"
  }
 },
 "nbformat": 4,
 "nbformat_minor": 2
}
