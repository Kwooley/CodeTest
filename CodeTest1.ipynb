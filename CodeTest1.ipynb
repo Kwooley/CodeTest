{
 "cells": [
  {
   "cell_type": "markdown",
   "metadata": {},
   "source": [
    "# Find K Max"
   ]
  },
  {
   "cell_type": "markdown",
   "metadata": {},
   "source": [
    "### Make a list with random 10 integers"
   ]
  },
  {
   "cell_type": "code",
   "execution_count": 1,
   "metadata": {},
   "outputs": [
    {
     "data": {
      "text/plain": [
       "array([ 9, 15, 64, 28, 89, 93, 29,  8, 73,  0])"
      ]
     },
     "execution_count": 1,
     "metadata": {},
     "output_type": "execute_result"
    }
   ],
   "source": [
    "import numpy as np\n",
    "\n",
    "np.random.seed(10)\n",
    "l1 = np.random.randint(0,100, size=10)\n",
    "l1"
   ]
  },
  {
   "cell_type": "markdown",
   "metadata": {},
   "source": [
    "### Bubble : Find Max Function"
   ]
  },
  {
   "cell_type": "code",
   "execution_count": 2,
   "metadata": {},
   "outputs": [],
   "source": [
    "def FindMax(L):\n",
    "    M = L[0]; Mi = 0\n",
    "    for i, v in enumerate(L):\n",
    "        if M < v:\n",
    "            M = v\n",
    "            Mi = i\n",
    "    return M, Mi\n"
   ]
  },
  {
   "cell_type": "code",
   "execution_count": 3,
   "metadata": {},
   "outputs": [
    {
     "data": {
      "text/plain": [
       "(93, 5)"
      ]
     },
     "execution_count": 3,
     "metadata": {},
     "output_type": "execute_result"
    }
   ],
   "source": [
    "v = FindMax(l1)\n",
    "v"
   ]
  },
  {
   "cell_type": "markdown",
   "metadata": {},
   "source": [
    "# Bit Patterns with Wild Card"
   ]
  },
  {
   "cell_type": "markdown",
   "metadata": {},
   "source": [
    "### Make Bit Patterns with Wild Card"
   ]
  },
  {
   "cell_type": "code",
   "execution_count": 4,
   "metadata": {},
   "outputs": [
    {
     "data": {
      "text/plain": [
       "['?', '1', '?', '1', '1', '1', '?', '1']"
      ]
     },
     "execution_count": 4,
     "metadata": {},
     "output_type": "execute_result"
    }
   ],
   "source": [
    "Lenbpt = 8\n",
    "charpool = ['1', '0', '?']\n",
    "bpt = []\n",
    "\n",
    "for i in range(Lenbpt):\n",
    "    bpt.append(np.random.choice(charpool))\n",
    "\n",
    "\n",
    "bpt\n",
    "    "
   ]
  },
  {
   "cell_type": "code",
   "execution_count": 5,
   "metadata": {},
   "outputs": [
    {
     "data": {
      "text/plain": [
       "['000', '001', '010', '011', '100', '101', '110', '111']"
      ]
     },
     "execution_count": 5,
     "metadata": {},
     "output_type": "execute_result"
    }
   ],
   "source": [
    "def bitstrlist(M, n):\n",
    "    bstrlist = []\n",
    "    for i in range(M):\n",
    "        intstr = (bin(i))[2:]\n",
    "        intstr = '0'*(n-len(intstr))+intstr\n",
    "        #print intstr\n",
    "        bstrlist.append(intstr)\n",
    "    return bstrlist\n",
    "\n",
    "\n",
    "bitstrlist(8,3)"
   ]
  },
  {
   "cell_type": "code",
   "execution_count": 6,
   "metadata": {},
   "outputs": [
    {
     "ename": "SyntaxError",
     "evalue": "Missing parentheses in call to 'print'. Did you mean print(\"bstrlist : %s\"% bstrlist)? (<ipython-input-6-6f9492dfbda8>, line 10)",
     "output_type": "error",
     "traceback": [
      "\u001b[0;36m  File \u001b[0;32m\"<ipython-input-6-6f9492dfbda8>\"\u001b[0;36m, line \u001b[0;32m10\u001b[0m\n\u001b[0;31m    print \"bstrlist : %s\"% bstrlist\u001b[0m\n\u001b[0m                        ^\u001b[0m\n\u001b[0;31mSyntaxError\u001b[0m\u001b[0;31m:\u001b[0m Missing parentheses in call to 'print'. Did you mean print(\"bstrlist : %s\"% bstrlist)?\n"
     ]
    }
   ],
   "source": [
    "wildidx = []\n",
    "for i, v in enumerate(bpt):\n",
    "    if v == '?':\n",
    "        wildidx.append(i)\n",
    "print (\"Wild char idx: %s\"% wildidx)\n",
    "\n",
    "Max = 2**len(wildidx)\n",
    "\n",
    "bstrlist = bitstrlist(Max, len(wildidx))\n",
    "print \"bstrlist : %s\"% bstrlist\n",
    "\n",
    "resultlist = []\n",
    "\n",
    "for ridx, bstr in enumerate(bstrlist):\n",
    "    idx = 0\n",
    "    for i in wildidx:\n",
    "       # print \"bpt[%s] = %s : bstr[%s] = %s\" % (int(i), bpt[i], int(idx), bstr[idx])\n",
    "        bpt[i] = bstr[idx]; idx += 1\n",
    "    resultlist.append(bpt[:])\n",
    "\n",
    "    \n",
    "for lst in resultlist:\n",
    "    print lst\n"
   ]
  },
  {
   "cell_type": "code",
   "execution_count": null,
   "metadata": {},
   "outputs": [],
   "source": [
    "l1 = [1,2,3]\n",
    "l2 = l1[:]\n",
    "\n",
    "l1[0] = 9\n",
    "l2\n",
    "\n",
    "l1,l2"
   ]
  },
  {
   "cell_type": "markdown",
   "metadata": {},
   "source": [
    "## Random Number from Complementary Set"
   ]
  },
  {
   "cell_type": "code",
   "execution_count": null,
   "metadata": {},
   "outputs": [],
   "source": [
    "import numpy as np\n",
    "\n",
    "origin_set = list(range(1,46))\n",
    "\n",
    "base_set = [2,3,6,7,8,9,10,\n",
    "            11,13,15,16,17,18,19,20,\n",
    "            21,22,23,24,25,26,27,28,30, \n",
    "            31,32,34,35,36,37,38,39,40, \n",
    "            41,42,43,44,45]\n",
    "c_set = set(origin_set) - set(base_set)\n",
    "\n",
    "print (sorted(c_set))\n",
    "result_list = np.random.choice(list(c_set),6, replace=False)\n",
    "\n",
    "sorted(result_list)"
   ]
  },
  {
   "cell_type": "markdown",
   "metadata": {},
   "source": [
    "# Merge Sort "
   ]
  },
  {
   "cell_type": "markdown",
   "metadata": {},
   "source": [
    "### Not Using Library"
   ]
  },
  {
   "cell_type": "code",
   "execution_count": 34,
   "metadata": {},
   "outputs": [
    {
     "name": "stdout",
     "output_type": "stream",
     "text": [
      "[52 21  6 71 62 17 75  5]\n",
      "[21 52  6 71 17 62  5 75]\n"
     ]
    }
   ],
   "source": [
    "import math\n",
    "def merge(ilist):\n",
    "    length = len(ilist)\n",
    "    mididx = int(length/2)\n",
    "    b = [0]*length; i = 0; k = 0;\n",
    "    j = mididx;\n",
    "    while (i < mididx) and (j < length):\n",
    "        if (ilist[i] < ilist[j]):\n",
    "            b[k] = ilist[i]\n",
    "            k += 1\n",
    "            i += 1\n",
    "        else:\n",
    "            b[k] = ilist[j]\n",
    "            k += 1\n",
    "            j += 1\n",
    "\n",
    "    if (i < mididx):\n",
    "        for t in range(i,mididx):\n",
    "            b[k] = ilist[t]\n",
    "            k += 1\n",
    "    elif (j<length):\n",
    "        for t in range(j,length):\n",
    "            b[k] = ilist[t]\n",
    "            k += 1\n",
    "    ilist = b\n",
    "    return ilist\n",
    "\n",
    "        \n",
    "def mymsort(ilist):\n",
    "    length = len(ilist)\n",
    "    if ( length > 3):\n",
    "        mididx = int(length/2)\n",
    "        mymsort(ilist[:mididx])\n",
    "        mymsort(ilist[mididx:])\n",
    "        merge(ilist)\n",
    "    else:\n",
    "        if (ilist[0] > ilist[1]):\n",
    "            ilist[0], ilist[1] = ilist[1], ilist[0]\n",
    "    \n",
    "    return\n",
    "    \n",
    "\n",
    "ilist = np.random.randint(1,100, 8)\n",
    "print (ilist)\n",
    "mymsort(ilist)\n",
    "print (ilist)\n"
   ]
  }
 ],
 "metadata": {
  "kernelspec": {
   "display_name": "Python 3",
   "language": "python",
   "name": "python3"
  },
  "language_info": {
   "codemirror_mode": {
    "name": "ipython",
    "version": 3
   },
   "file_extension": ".py",
   "mimetype": "text/x-python",
   "name": "python",
   "nbconvert_exporter": "python",
   "pygments_lexer": "ipython3",
   "version": "3.7.0"
  }
 },
 "nbformat": 4,
 "nbformat_minor": 2
}
