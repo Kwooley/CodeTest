{
 "cells": [
  {
   "cell_type": "markdown",
   "metadata": {},
   "source": [
    "# Find K Max"
   ]
  },
  {
   "cell_type": "markdown",
   "metadata": {},
   "source": [
    "### Make a list with random 10 integers"
   ]
  },
  {
   "cell_type": "code",
   "execution_count": 1,
   "metadata": {},
   "outputs": [
    {
     "data": {
      "text/plain": [
       "array([ 9, 15, 64, 28, 89, 93, 29,  8, 73,  0])"
      ]
     },
     "execution_count": 1,
     "metadata": {},
     "output_type": "execute_result"
    }
   ],
   "source": [
    "import numpy as np\n",
    "\n",
    "np.random.seed(10)\n",
    "l1 = np.random.randint(0,100, size=10)\n",
    "l1"
   ]
  },
  {
   "cell_type": "markdown",
   "metadata": {},
   "source": [
    "### Bubble : Find Max Function"
   ]
  },
  {
   "cell_type": "code",
   "execution_count": 2,
   "metadata": {},
   "outputs": [],
   "source": [
    "def FindMax(L):\n",
    "    M = L[0]; Mi = 0\n",
    "    for i, v in enumerate(L):\n",
    "        if M < v:\n",
    "            M = v\n",
    "            Mi = i\n",
    "    return M, Mi\n"
   ]
  },
  {
   "cell_type": "code",
   "execution_count": 3,
   "metadata": {},
   "outputs": [
    {
     "data": {
      "text/plain": [
       "(93, 5)"
      ]
     },
     "execution_count": 3,
     "metadata": {},
     "output_type": "execute_result"
    }
   ],
   "source": [
    "v = FindMax(l1)\n",
    "v"
   ]
  },
  {
   "cell_type": "markdown",
   "metadata": {},
   "source": [
    "# Bit Patterns with Wild Card"
   ]
  },
  {
   "cell_type": "markdown",
   "metadata": {},
   "source": [
    "### Make Bit Patterns with Wild Card"
   ]
  },
  {
   "cell_type": "code",
   "execution_count": 4,
   "metadata": {},
   "outputs": [
    {
     "data": {
      "text/plain": [
       "['?', '1', '?', '1', '1', '1', '?', '1']"
      ]
     },
     "execution_count": 4,
     "metadata": {},
     "output_type": "execute_result"
    }
   ],
   "source": [
    "Lenbpt = 8\n",
    "charpool = ['1', '0', '?']\n",
    "bpt = []\n",
    "\n",
    "for i in range(Lenbpt):\n",
    "    bpt.append(np.random.choice(charpool))\n",
    "\n",
    "\n",
    "bpt\n",
    "    "
   ]
  },
  {
   "cell_type": "code",
   "execution_count": 5,
   "metadata": {},
   "outputs": [
    {
     "data": {
      "text/plain": [
       "['000', '001', '010', '011', '100', '101', '110', '111']"
      ]
     },
     "execution_count": 5,
     "metadata": {},
     "output_type": "execute_result"
    }
   ],
   "source": [
    "def bitstrlist(M, n):\n",
    "    bstrlist = []\n",
    "    for i in range(M):\n",
    "        intstr = (bin(i))[2:]\n",
    "        intstr = '0'*(n-len(intstr))+intstr\n",
    "        #print intstr\n",
    "        bstrlist.append(intstr)\n",
    "    return bstrlist\n",
    "\n",
    "\n",
    "bitstrlist(8,3)"
   ]
  },
  {
   "cell_type": "code",
   "execution_count": 6,
   "metadata": {},
   "outputs": [
    {
     "name": "stdout",
     "output_type": "stream",
     "text": [
      "Wild char idx: [0, 2, 6]\n",
      "bstrlist : ['000', '001', '010', '011', '100', '101', '110', '111']\n",
      "['0', '1', '0', '1', '1', '1', '0', '1']\n",
      "['0', '1', '0', '1', '1', '1', '1', '1']\n",
      "['0', '1', '1', '1', '1', '1', '0', '1']\n",
      "['0', '1', '1', '1', '1', '1', '1', '1']\n",
      "['1', '1', '0', '1', '1', '1', '0', '1']\n",
      "['1', '1', '0', '1', '1', '1', '1', '1']\n",
      "['1', '1', '1', '1', '1', '1', '0', '1']\n",
      "['1', '1', '1', '1', '1', '1', '1', '1']\n"
     ]
    }
   ],
   "source": [
    "wildidx = []\n",
    "for i, v in enumerate(bpt):\n",
    "    if v == '?':\n",
    "        wildidx.append(i)\n",
    "print (\"Wild char idx: %s\"% wildidx)\n",
    "\n",
    "Max = 2**len(wildidx)\n",
    "\n",
    "bstrlist = bitstrlist(Max, len(wildidx))\n",
    "print \"bstrlist : %s\"% bstrlist\n",
    "\n",
    "resultlist = []\n",
    "\n",
    "for ridx, bstr in enumerate(bstrlist):\n",
    "    idx = 0\n",
    "    for i in wildidx:\n",
    "       # print \"bpt[%s] = %s : bstr[%s] = %s\" % (int(i), bpt[i], int(idx), bstr[idx])\n",
    "        bpt[i] = bstr[idx]; idx += 1\n",
    "    resultlist.append(bpt[:])\n",
    "\n",
    "    \n",
    "for lst in resultlist:\n",
    "    print lst\n"
   ]
  },
  {
   "cell_type": "code",
   "execution_count": 7,
   "metadata": {},
   "outputs": [
    {
     "data": {
      "text/plain": [
       "([9, 2, 3], [1, 2, 3])"
      ]
     },
     "execution_count": 7,
     "metadata": {},
     "output_type": "execute_result"
    }
   ],
   "source": [
    "l1 = [1,2,3]\n",
    "l2 = l1[:]\n",
    "\n",
    "l1[0] = 9\n",
    "l2\n",
    "\n",
    "l1,l2"
   ]
  },
  {
   "cell_type": "markdown",
   "metadata": {},
   "source": [
    "## Random Number from Complementary Set"
   ]
  },
  {
   "cell_type": "code",
   "execution_count": 8,
   "metadata": {},
   "outputs": [
    {
     "name": "stdout",
     "output_type": "stream",
     "text": [
      "[1, 4, 5, 12, 14, 29, 33]\n"
     ]
    },
    {
     "data": {
      "text/plain": [
       "[1, 4, 5, 12, 14, 29]"
      ]
     },
     "execution_count": 8,
     "metadata": {},
     "output_type": "execute_result"
    }
   ],
   "source": [
    "import numpy as np\n",
    "\n",
    "origin_set = list(range(1,46))\n",
    "\n",
    "base_set = [2,3,6,7,8,9,10,\n",
    "            11,13,15,16,17,18,19,20,\n",
    "            21,22,23,24,25,26,27,28,30, \n",
    "            31,32,34,35,36,37,38,39,40, \n",
    "            41,42,43,44,45]\n",
    "c_set = set(origin_set) - set(base_set)\n",
    "\n",
    "print (sorted(c_set))\n",
    "result_list = np.random.choice(list(c_set),6, replace=False)\n",
    "\n",
    "sorted(result_list)"
   ]
  },
  {
   "cell_type": "markdown",
   "metadata": {},
   "source": [
    "# Merge Sort "
   ]
  },
  {
   "cell_type": "markdown",
   "metadata": {},
   "source": [
    "### Not Using Library"
   ]
  },
  {
   "cell_type": "code",
   "execution_count": 9,
   "metadata": {},
   "outputs": [
    {
     "name": "stdout",
     "output_type": "stream",
     "text": [
      "[50 52 55 78 70 14 26 14]\n",
      "[14 14 26 50 52 55 70 78]\n"
     ]
    }
   ],
   "source": [
    "import math\n",
    "def merge(ilist):\n",
    "    length = len(ilist)\n",
    "    mididx = int(length/2)\n",
    "    b = [0]*length; i = 0; k = 0;\n",
    "    j = mididx;\n",
    "    while (i < mididx) and (j < length):\n",
    "        if (ilist[i] < ilist[j]):\n",
    "            b[k] = ilist[i]\n",
    "            k += 1\n",
    "            i += 1\n",
    "        else:\n",
    "            b[k] = ilist[j]\n",
    "            k += 1\n",
    "            j += 1\n",
    "\n",
    "    if (i < mididx):\n",
    "        for t in range(i,mididx):\n",
    "            b[k] = ilist[t]\n",
    "            k += 1\n",
    "    elif (j<length):\n",
    "        for t in range(j,length):\n",
    "            b[k] = ilist[t]\n",
    "            k += 1\n",
    "    ilist[:] = b[:]\n",
    "    return ilist\n",
    "\n",
    "        \n",
    "def mymsort(ilist):\n",
    "    length = len(ilist)\n",
    "    if ( length > 3):\n",
    "        mididx = int(length/2)\n",
    "        mymsort(ilist[:mididx])\n",
    "        mymsort(ilist[mididx:])\n",
    "        ilist = merge(ilist)\n",
    "    else:\n",
    "        if (ilist[0] > ilist[1]):\n",
    "            ilist[0], ilist[1] = ilist[1], ilist[0]\n",
    "    \n",
    "    return\n",
    "    \n",
    "\n",
    "ilist = np.random.randint(1,100, 8)\n",
    "print (ilist)\n",
    "mymsort(ilist)\n",
    "print (ilist)\n"
   ]
  },
  {
   "cell_type": "markdown",
   "metadata": {},
   "source": [
    "# Quick Sort"
   ]
  },
  {
   "cell_type": "code",
   "execution_count": 85,
   "metadata": {
    "scrolled": false
   },
   "outputs": [
    {
     "name": "stdout",
     "output_type": "stream",
     "text": [
      "Unsorted list [4, 3, 2, 1]\n",
      "input [4, 3, 2, 1]\n",
      "l:4\n",
      "h:3\n",
      "pivot : 3\n",
      "pivot swapped [1, 3, 2, 4]\n",
      "input [1, 3, 2]\n",
      "l:1\n",
      "h:0\n",
      "pivot : 0\n",
      "pivot swapped [1, 3, 2]\n",
      "input []\n",
      "input [3, 2]\n",
      "l:2\n",
      "h:1\n",
      "pivot : 1\n",
      "pivot swapped [2, 3]\n",
      "input [2]\n",
      "input []\n",
      "returned [2, 3]\n",
      "returned [1, 3, 2]\n",
      "input []\n",
      "returned [1, 3, 2, 4]\n",
      "[1, 3, 2, 4]\n"
     ]
    }
   ],
   "source": [
    "def quicksort(ilist):\n",
    "\n",
    "    lenlist = len(ilist)\n",
    "    print 'input', ilist\n",
    "    if (lenlist > 1):\n",
    "        pivot = 0\n",
    "        l = pivot + 1\n",
    "        h = len(ilist) - 1\n",
    "        \n",
    "        while (l <= h):\n",
    "            while (l < len(ilist) and ilist[l] <= ilist[pivot]):\n",
    "                        l += 1\n",
    "            print 'l:%d'%l\n",
    "            while (h>0 and ilist[h] >= ilist[pivot]):\n",
    "                h -= 1\n",
    "            print 'h:%d'% h\n",
    "            if ( l < h ):\n",
    "                ilist[l], ilist[h] = ilist[h], ilist[l] \n",
    "                print 'after swap', ilist\n",
    "        ilist[l-1], ilist[pivot] = ilist[pivot], ilist[l-1]\n",
    "        pivot = l - 1\n",
    "        print 'pivot : %d' % pivot\n",
    "        print 'pivot swapped', ilist\n",
    "        quicksort(ilist[:pivot])\n",
    "        quicksort(ilist[pivot+1:])\n",
    "        print 'returned', ilist\n",
    "    return ilist\n",
    "\n",
    "# unsorted = np.random.randint(0,100,10) \n",
    "#unsorted = [ 15, 22, 32,  3,  9, 52, 76, 68, 30, 70]\n",
    "unsorted = [4,3,2,1]\n",
    "\n",
    "print 'Unsorted list', unsorted\n",
    "b\n",
    "sorted = quicksort(unsorted)\n",
    "\n",
    "print sorted"
   ]
  },
  {
   "cell_type": "code",
   "execution_count": 136,
   "metadata": {
    "scrolled": false
   },
   "outputs": [
    {
     "name": "stdout",
     "output_type": "stream",
     "text": [
      "('Unsorted list', array([14, 73, 71, 38, 49, 22, 97, 47, 31, 46]))\n",
      "input list [14 73 71 38 49 22 97 47 31 46]\n",
      "l:1, h:9, p:0\n",
      "low : 1, high :0\n",
      "l>h ilist [14 73 71 38 49 22 97 47 31 46]\n",
      "swapped ilist [14 73 71 38 49 22 97 47 31 46]\n",
      "input list [73 71 38 49 22 97 47 31 46]\n",
      "l:2, h:9, p:1\n",
      "low : 9, high :8\n",
      "l>h ilist [14 73 71 38 49 22 46 47 31 97]\n",
      "swapped ilist [14 31 71 38 49 22 46 47 73 97]\n",
      "input list [31 71 38 49 22 46 47]\n",
      "l:2, h:7, p:1\n",
      "low : 3, high :2\n",
      "l>h ilist [14 31 22 38 49 71 46 47 73 97]\n",
      "swapped ilist [14 22 31 38 49 71 46 47 73 97]\n",
      "input list [38 49 71 46 47]\n",
      "l:4, h:7, p:3\n",
      "low : 4, high :3\n",
      "l>h ilist [14 22 31 38 49 71 46 47 73 97]\n",
      "swapped ilist [14 22 31 38 49 71 46 47 73 97]\n",
      "input list [49 71 46 47]\n",
      "l:5, h:7, p:4\n"
     ]
    },
    {
     "ename": "KeyboardInterrupt",
     "evalue": "",
     "output_type": "error",
     "traceback": [
      "\u001b[0;31m---------------------------------------------------------------------------\u001b[0m",
      "\u001b[0;31mKeyboardInterrupt\u001b[0m                         Traceback (most recent call last)",
      "\u001b[0;32m<ipython-input-136-b82aa1b2b826>\u001b[0m in \u001b[0;36m<module>\u001b[0;34m()\u001b[0m\n\u001b[1;32m     41\u001b[0m \u001b[0;34m\u001b[0m\u001b[0m\n\u001b[1;32m     42\u001b[0m \u001b[0;32mprint\u001b[0m \u001b[0;34m(\u001b[0m\u001b[0;34m'Unsorted list'\u001b[0m\u001b[0;34m,\u001b[0m \u001b[0milist\u001b[0m\u001b[0;34m)\u001b[0m\u001b[0;34m\u001b[0m\u001b[0m\n\u001b[0;32m---> 43\u001b[0;31m \u001b[0msortedlist\u001b[0m \u001b[0;34m=\u001b[0m \u001b[0mqsort\u001b[0m\u001b[0;34m(\u001b[0m\u001b[0milist\u001b[0m\u001b[0;34m,\u001b[0m \u001b[0;36m0\u001b[0m\u001b[0;34m,\u001b[0m \u001b[0mlen\u001b[0m\u001b[0;34m(\u001b[0m\u001b[0milist\u001b[0m\u001b[0;34m)\u001b[0m\u001b[0;34m-\u001b[0m\u001b[0;36m1\u001b[0m\u001b[0;34m)\u001b[0m\u001b[0;34m\u001b[0m\u001b[0m\n\u001b[0m\u001b[1;32m     44\u001b[0m \u001b[0;32mprint\u001b[0m \u001b[0;34m(\u001b[0m\u001b[0;34m'Sorted list'\u001b[0m\u001b[0;34m,\u001b[0m \u001b[0msortedlist\u001b[0m\u001b[0;34m)\u001b[0m\u001b[0;34m\u001b[0m\u001b[0m\n",
      "\u001b[0;32m<ipython-input-136-b82aa1b2b826>\u001b[0m in \u001b[0;36mqsort\u001b[0;34m(ilist, left, right)\u001b[0m\n\u001b[1;32m     32\u001b[0m         \u001b[0mq\u001b[0m \u001b[0;34m=\u001b[0m \u001b[0mqpartition\u001b[0m\u001b[0;34m(\u001b[0m\u001b[0milist\u001b[0m\u001b[0;34m,\u001b[0m \u001b[0mleft\u001b[0m\u001b[0;34m,\u001b[0m \u001b[0mright\u001b[0m\u001b[0;34m)\u001b[0m\u001b[0;34m\u001b[0m\u001b[0m\n\u001b[1;32m     33\u001b[0m         \u001b[0mqsort\u001b[0m\u001b[0;34m(\u001b[0m\u001b[0milist\u001b[0m\u001b[0;34m,\u001b[0m \u001b[0mleft\u001b[0m\u001b[0;34m,\u001b[0m \u001b[0mq\u001b[0m\u001b[0;34m-\u001b[0m\u001b[0;36m1\u001b[0m\u001b[0;34m)\u001b[0m\u001b[0;34m\u001b[0m\u001b[0m\n\u001b[0;32m---> 34\u001b[0;31m         \u001b[0mqsort\u001b[0m\u001b[0;34m(\u001b[0m\u001b[0milist\u001b[0m\u001b[0;34m,\u001b[0m \u001b[0mq\u001b[0m\u001b[0;34m+\u001b[0m\u001b[0;36m1\u001b[0m\u001b[0;34m,\u001b[0m \u001b[0mright\u001b[0m\u001b[0;34m)\u001b[0m\u001b[0;34m\u001b[0m\u001b[0m\n\u001b[0m\u001b[1;32m     35\u001b[0m     \u001b[0;32mreturn\u001b[0m \u001b[0milist\u001b[0m\u001b[0;34m\u001b[0m\u001b[0m\n\u001b[1;32m     36\u001b[0m \u001b[0;34m\u001b[0m\u001b[0m\n",
      "\u001b[0;32m<ipython-input-136-b82aa1b2b826>\u001b[0m in \u001b[0;36mqsort\u001b[0;34m(ilist, left, right)\u001b[0m\n\u001b[1;32m     31\u001b[0m     \u001b[0;32mif\u001b[0m \u001b[0;34m(\u001b[0m\u001b[0mleft\u001b[0m \u001b[0;34m<\u001b[0m \u001b[0mright\u001b[0m\u001b[0;34m)\u001b[0m\u001b[0;34m:\u001b[0m\u001b[0;34m\u001b[0m\u001b[0m\n\u001b[1;32m     32\u001b[0m         \u001b[0mq\u001b[0m \u001b[0;34m=\u001b[0m \u001b[0mqpartition\u001b[0m\u001b[0;34m(\u001b[0m\u001b[0milist\u001b[0m\u001b[0;34m,\u001b[0m \u001b[0mleft\u001b[0m\u001b[0;34m,\u001b[0m \u001b[0mright\u001b[0m\u001b[0;34m)\u001b[0m\u001b[0;34m\u001b[0m\u001b[0m\n\u001b[0;32m---> 33\u001b[0;31m         \u001b[0mqsort\u001b[0m\u001b[0;34m(\u001b[0m\u001b[0milist\u001b[0m\u001b[0;34m,\u001b[0m \u001b[0mleft\u001b[0m\u001b[0;34m,\u001b[0m \u001b[0mq\u001b[0m\u001b[0;34m-\u001b[0m\u001b[0;36m1\u001b[0m\u001b[0;34m)\u001b[0m\u001b[0;34m\u001b[0m\u001b[0m\n\u001b[0m\u001b[1;32m     34\u001b[0m         \u001b[0mqsort\u001b[0m\u001b[0;34m(\u001b[0m\u001b[0milist\u001b[0m\u001b[0;34m,\u001b[0m \u001b[0mq\u001b[0m\u001b[0;34m+\u001b[0m\u001b[0;36m1\u001b[0m\u001b[0;34m,\u001b[0m \u001b[0mright\u001b[0m\u001b[0;34m)\u001b[0m\u001b[0;34m\u001b[0m\u001b[0m\n\u001b[1;32m     35\u001b[0m     \u001b[0;32mreturn\u001b[0m \u001b[0milist\u001b[0m\u001b[0;34m\u001b[0m\u001b[0m\n",
      "\u001b[0;32m<ipython-input-136-b82aa1b2b826>\u001b[0m in \u001b[0;36mqsort\u001b[0;34m(ilist, left, right)\u001b[0m\n\u001b[1;32m     32\u001b[0m         \u001b[0mq\u001b[0m \u001b[0;34m=\u001b[0m \u001b[0mqpartition\u001b[0m\u001b[0;34m(\u001b[0m\u001b[0milist\u001b[0m\u001b[0;34m,\u001b[0m \u001b[0mleft\u001b[0m\u001b[0;34m,\u001b[0m \u001b[0mright\u001b[0m\u001b[0;34m)\u001b[0m\u001b[0;34m\u001b[0m\u001b[0m\n\u001b[1;32m     33\u001b[0m         \u001b[0mqsort\u001b[0m\u001b[0;34m(\u001b[0m\u001b[0milist\u001b[0m\u001b[0;34m,\u001b[0m \u001b[0mleft\u001b[0m\u001b[0;34m,\u001b[0m \u001b[0mq\u001b[0m\u001b[0;34m-\u001b[0m\u001b[0;36m1\u001b[0m\u001b[0;34m)\u001b[0m\u001b[0;34m\u001b[0m\u001b[0m\n\u001b[0;32m---> 34\u001b[0;31m         \u001b[0mqsort\u001b[0m\u001b[0;34m(\u001b[0m\u001b[0milist\u001b[0m\u001b[0;34m,\u001b[0m \u001b[0mq\u001b[0m\u001b[0;34m+\u001b[0m\u001b[0;36m1\u001b[0m\u001b[0;34m,\u001b[0m \u001b[0mright\u001b[0m\u001b[0;34m)\u001b[0m\u001b[0;34m\u001b[0m\u001b[0m\n\u001b[0m\u001b[1;32m     35\u001b[0m     \u001b[0;32mreturn\u001b[0m \u001b[0milist\u001b[0m\u001b[0;34m\u001b[0m\u001b[0m\n\u001b[1;32m     36\u001b[0m \u001b[0;34m\u001b[0m\u001b[0m\n",
      "\u001b[0;32m<ipython-input-136-b82aa1b2b826>\u001b[0m in \u001b[0;36mqsort\u001b[0;34m(ilist, left, right)\u001b[0m\n\u001b[1;32m     32\u001b[0m         \u001b[0mq\u001b[0m \u001b[0;34m=\u001b[0m \u001b[0mqpartition\u001b[0m\u001b[0;34m(\u001b[0m\u001b[0milist\u001b[0m\u001b[0;34m,\u001b[0m \u001b[0mleft\u001b[0m\u001b[0;34m,\u001b[0m \u001b[0mright\u001b[0m\u001b[0;34m)\u001b[0m\u001b[0;34m\u001b[0m\u001b[0m\n\u001b[1;32m     33\u001b[0m         \u001b[0mqsort\u001b[0m\u001b[0;34m(\u001b[0m\u001b[0milist\u001b[0m\u001b[0;34m,\u001b[0m \u001b[0mleft\u001b[0m\u001b[0;34m,\u001b[0m \u001b[0mq\u001b[0m\u001b[0;34m-\u001b[0m\u001b[0;36m1\u001b[0m\u001b[0;34m)\u001b[0m\u001b[0;34m\u001b[0m\u001b[0m\n\u001b[0;32m---> 34\u001b[0;31m         \u001b[0mqsort\u001b[0m\u001b[0;34m(\u001b[0m\u001b[0milist\u001b[0m\u001b[0;34m,\u001b[0m \u001b[0mq\u001b[0m\u001b[0;34m+\u001b[0m\u001b[0;36m1\u001b[0m\u001b[0;34m,\u001b[0m \u001b[0mright\u001b[0m\u001b[0;34m)\u001b[0m\u001b[0;34m\u001b[0m\u001b[0m\n\u001b[0m\u001b[1;32m     35\u001b[0m     \u001b[0;32mreturn\u001b[0m \u001b[0milist\u001b[0m\u001b[0;34m\u001b[0m\u001b[0m\n\u001b[1;32m     36\u001b[0m \u001b[0;34m\u001b[0m\u001b[0m\n",
      "\u001b[0;32m<ipython-input-136-b82aa1b2b826>\u001b[0m in \u001b[0;36mqsort\u001b[0;34m(ilist, left, right)\u001b[0m\n\u001b[1;32m     30\u001b[0m \u001b[0;34m\u001b[0m\u001b[0m\n\u001b[1;32m     31\u001b[0m     \u001b[0;32mif\u001b[0m \u001b[0;34m(\u001b[0m\u001b[0mleft\u001b[0m \u001b[0;34m<\u001b[0m \u001b[0mright\u001b[0m\u001b[0;34m)\u001b[0m\u001b[0;34m:\u001b[0m\u001b[0;34m\u001b[0m\u001b[0m\n\u001b[0;32m---> 32\u001b[0;31m         \u001b[0mq\u001b[0m \u001b[0;34m=\u001b[0m \u001b[0mqpartition\u001b[0m\u001b[0;34m(\u001b[0m\u001b[0milist\u001b[0m\u001b[0;34m,\u001b[0m \u001b[0mleft\u001b[0m\u001b[0;34m,\u001b[0m \u001b[0mright\u001b[0m\u001b[0;34m)\u001b[0m\u001b[0;34m\u001b[0m\u001b[0m\n\u001b[0m\u001b[1;32m     33\u001b[0m         \u001b[0mqsort\u001b[0m\u001b[0;34m(\u001b[0m\u001b[0milist\u001b[0m\u001b[0;34m,\u001b[0m \u001b[0mleft\u001b[0m\u001b[0;34m,\u001b[0m \u001b[0mq\u001b[0m\u001b[0;34m-\u001b[0m\u001b[0;36m1\u001b[0m\u001b[0;34m)\u001b[0m\u001b[0;34m\u001b[0m\u001b[0m\n\u001b[1;32m     34\u001b[0m         \u001b[0mqsort\u001b[0m\u001b[0;34m(\u001b[0m\u001b[0milist\u001b[0m\u001b[0;34m,\u001b[0m \u001b[0mq\u001b[0m\u001b[0;34m+\u001b[0m\u001b[0;36m1\u001b[0m\u001b[0;34m,\u001b[0m \u001b[0mright\u001b[0m\u001b[0;34m)\u001b[0m\u001b[0;34m\u001b[0m\u001b[0m\n",
      "\u001b[0;32m<ipython-input-136-b82aa1b2b826>\u001b[0m in \u001b[0;36mqpartition\u001b[0;34m(ilist, left, right)\u001b[0m\n\u001b[1;32m     17\u001b[0m \u001b[0;34m\u001b[0m\u001b[0m\n\u001b[1;32m     18\u001b[0m         \u001b[0;32mif\u001b[0m \u001b[0;34m(\u001b[0m\u001b[0ml\u001b[0m \u001b[0;34m<\u001b[0m \u001b[0mh\u001b[0m\u001b[0;34m)\u001b[0m\u001b[0;34m:\u001b[0m\u001b[0;34m\u001b[0m\u001b[0m\n\u001b[0;32m---> 19\u001b[0;31m             \u001b[0milist\u001b[0m\u001b[0;34m[\u001b[0m\u001b[0ml\u001b[0m\u001b[0;34m]\u001b[0m\u001b[0;34m,\u001b[0m \u001b[0milist\u001b[0m\u001b[0;34m[\u001b[0m\u001b[0mh\u001b[0m\u001b[0;34m]\u001b[0m \u001b[0;34m=\u001b[0m \u001b[0milist\u001b[0m\u001b[0;34m[\u001b[0m\u001b[0mh\u001b[0m\u001b[0;34m]\u001b[0m\u001b[0;34m,\u001b[0m \u001b[0milist\u001b[0m\u001b[0;34m[\u001b[0m\u001b[0ml\u001b[0m\u001b[0;34m]\u001b[0m\u001b[0;34m\u001b[0m\u001b[0m\n\u001b[0m\u001b[1;32m     20\u001b[0m     \u001b[0;32mprint\u001b[0m \u001b[0;34m'low : %d, high :%d'\u001b[0m\u001b[0;34m%\u001b[0m \u001b[0;34m(\u001b[0m\u001b[0ml\u001b[0m\u001b[0;34m,\u001b[0m\u001b[0mh\u001b[0m\u001b[0;34m)\u001b[0m\u001b[0;34m\u001b[0m\u001b[0m\n\u001b[1;32m     21\u001b[0m     \u001b[0;32mprint\u001b[0m \u001b[0;34m'l>h ilist'\u001b[0m\u001b[0;34m,\u001b[0m \u001b[0milist\u001b[0m\u001b[0;34m\u001b[0m\u001b[0m\n",
      "\u001b[0;31mKeyboardInterrupt\u001b[0m: "
     ]
    }
   ],
   "source": [
    "import numpy as np \n",
    "\n",
    "def qpartition(ilist, left, right):\n",
    "    print 'input list', ilist[left:right+1]\n",
    "    length = right-left+1\n",
    "    pivot = left\n",
    "    l = pivot + 1\n",
    "    h = right\n",
    "    print 'l:%d, h:%d, p:%d' % (l,h,pivot)\n",
    "   \n",
    "    while (l < h):\n",
    "        while ( l < length and ilist[pivot] > ilist[l] ):\n",
    "            l += 1\n",
    "\n",
    "        while ( h > 0 and ilist[pivot] < ilist[h] ):\n",
    "            h -= 1\n",
    "\n",
    "        if (l < h):\n",
    "            ilist[l], ilist[h] = ilist[h], ilist[l]\n",
    "    print 'low : %d, high :%d'% (l,h)\n",
    "    print 'l>h ilist', ilist\n",
    " \n",
    "    if (l>=h):\n",
    "        ilist[left], ilist[h] = ilist[h], ilist[left]\n",
    "    print 'swapped ilist', ilist\n",
    "    return h\n",
    "\n",
    "\n",
    "def qsort(ilist, left, right):\n",
    "    \n",
    "    if (left < right):\n",
    "        q = qpartition(ilist, left, right)\n",
    "        qsort(ilist, left, q-1)\n",
    "        qsort(ilist, q+1, right)\n",
    "    return ilist\n",
    "\n",
    "\n",
    "ilist = np.random.randint(0,100,10)\n",
    "#ilist = [76, 42, 38, 70, 5, 4, 99,20]\n",
    "#ilist = [70, 38, 42]\n",
    "\n",
    "print ('Unsorted list', ilist)\n",
    "sortedlist = qsort(ilist, 0, len(ilist)-1)\n",
    "print ('Sorted list', sortedlist)\n"
   ]
  }
 ],
 "metadata": {
  "kernelspec": {
   "display_name": "Python 2",
   "language": "python",
   "name": "python2"
  },
  "language_info": {
   "codemirror_mode": {
    "name": "ipython",
    "version": 2
   },
   "file_extension": ".py",
   "mimetype": "text/x-python",
   "name": "python",
   "nbconvert_exporter": "python",
   "pygments_lexer": "ipython2",
   "version": "2.7.14"
  }
 },
 "nbformat": 4,
 "nbformat_minor": 2
}
