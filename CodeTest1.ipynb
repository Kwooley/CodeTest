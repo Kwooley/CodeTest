{
 "cells": [
  {
   "cell_type": "markdown",
   "metadata": {},
   "source": [
    "# Find K Max"
   ]
  },
  {
   "cell_type": "markdown",
   "metadata": {},
   "source": [
    "### Make a list with random 10 integers"
   ]
  },
  {
   "cell_type": "code",
   "execution_count": 78,
   "metadata": {},
   "outputs": [
    {
     "data": {
      "text/plain": [
       "array([ 9, 15, 64, 28, 89, 93, 29,  8, 73,  0])"
      ]
     },
     "execution_count": 78,
     "metadata": {},
     "output_type": "execute_result"
    }
   ],
   "source": [
    "import numpy as np\n",
    "\n",
    "np.random.seed(10)\n",
    "l1 = np.random.randint(0,100, size=10)\n",
    "l1"
   ]
  },
  {
   "cell_type": "code",
   "execution_count": 56,
   "metadata": {
    "scrolled": true
   },
   "outputs": [
    {
     "name": "stdout",
     "output_type": "stream",
     "text": [
      "[ 0  8  9 15 28 29 64 73 89 93]\n"
     ]
    }
   ],
   "source": [
    "# bubble sort\n",
    "for i in range(6):\n",
    "    for j in range(len(l1)-i-1):\n",
    "        if l1[j] > l1[j+1]:\n",
    "            l1[j],l1[j+1] = l1[j+1], l1[j]\n",
    "print l1"
   ]
  },
  {
   "cell_type": "markdown",
   "metadata": {},
   "source": [
    "### Bubble : Find Max Function"
   ]
  },
  {
   "cell_type": "code",
   "execution_count": 2,
   "metadata": {},
   "outputs": [],
   "source": [
    "def FindMax(L):\n",
    "    M = L[0]; Mi = 0\n",
    "    for i, v in enumerate(L):\n",
    "        if M < v:\n",
    "            M = v\n",
    "            Mi = i\n",
    "    return M, Mi\n"
   ]
  },
  {
   "cell_type": "code",
   "execution_count": 59,
   "metadata": {},
   "outputs": [],
   "source": [
    "def FindMax(L):\n",
    "    minv = L[0]; mini = 0\n",
    "    for i, v in enumerate(L):\n",
    "        if minv > v:\n",
    "            minv = v\n",
    "            mini = i\n",
    "    return v, i\n"
   ]
  },
  {
   "cell_type": "markdown",
   "metadata": {},
   "source": [
    "### Find K max"
   ]
  },
  {
   "cell_type": "code",
   "execution_count": 81,
   "metadata": {},
   "outputs": [
    {
     "name": "stdout",
     "output_type": "stream",
     "text": [
      "[2]\n",
      "[36 16 11 54 88 62 33 72 78 49]\n"
     ]
    }
   ],
   "source": [
    "K = np.random.randint(0, len(l1), 1)\n",
    "print K\n",
    "\n",
    "l1 = np.random.randint(0,100, 10)\n",
    "print l1"
   ]
  },
  {
   "cell_type": "code",
   "execution_count": 83,
   "metadata": {},
   "outputs": [
    {
     "name": "stdout",
     "output_type": "stream",
     "text": [
      "[36, 16, 11, 54, 88, 62, 33, 72, 78, 49]\n",
      "(49, 9)\n",
      "[36, 16, 11, 54, 88, 62, 33, 72, 78]\n",
      "(78, 8)\n"
     ]
    }
   ],
   "source": [
    "l1 = list(l1)\n",
    "print l1\n",
    "for i in range(K-1):\n",
    "    v = FindMax(l1)\n",
    "    print v\n",
    "    l1.pop(v[1])\n",
    "    print l1\n",
    "v = FindMax(l1)\n",
    "print v"
   ]
  },
  {
   "cell_type": "markdown",
   "metadata": {},
   "source": [
    "# Bit Patterns with Wild Card"
   ]
  },
  {
   "cell_type": "markdown",
   "metadata": {},
   "source": [
    "### Make Bit Patterns with Wild Card"
   ]
  },
  {
   "cell_type": "code",
   "execution_count": 86,
   "metadata": {},
   "outputs": [
    {
     "data": {
      "text/plain": [
       "'0b111111111111111'"
      ]
     },
     "execution_count": 86,
     "metadata": {},
     "output_type": "execute_result"
    }
   ],
   "source": [
    "i =32767\n",
    "bin(i)"
   ]
  },
  {
   "cell_type": "code",
   "execution_count": 4,
   "metadata": {},
   "outputs": [
    {
     "data": {
      "text/plain": [
       "['?', '1', '?', '1', '1', '1', '?', '1']"
      ]
     },
     "execution_count": 4,
     "metadata": {},
     "output_type": "execute_result"
    }
   ],
   "source": [
    "Lenbpt = 8\n",
    "charpool = ['1', '0', '?']\n",
    "bpt = []\n",
    "\n",
    "for i in range(Lenbpt):\n",
    "    bpt.append(np.random.choice(charpool))\n",
    "\n",
    "\n",
    "bpt\n",
    "    "
   ]
  },
  {
   "cell_type": "code",
   "execution_count": 5,
   "metadata": {},
   "outputs": [
    {
     "data": {
      "text/plain": [
       "['000', '001', '010', '011', '100', '101', '110', '111']"
      ]
     },
     "execution_count": 5,
     "metadata": {},
     "output_type": "execute_result"
    }
   ],
   "source": [
    "def bitstrlist(M, n):\n",
    "    bstrlist = []\n",
    "    for i in range(M):\n",
    "        intstr = (bin(i))[2:]\n",
    "        intstr = '0'*(n-len(intstr))+intstr\n",
    "        #print intstr\n",
    "        bstrlist.append(intstr)\n",
    "    return bstrlist\n",
    "\n",
    "\n",
    "bitstrlist(8,3)"
   ]
  },
  {
   "cell_type": "code",
   "execution_count": 6,
   "metadata": {},
   "outputs": [
    {
     "name": "stdout",
     "output_type": "stream",
     "text": [
      "Wild char idx: [0, 2, 6]\n",
      "bstrlist : ['000', '001', '010', '011', '100', '101', '110', '111']\n",
      "['0', '1', '0', '1', '1', '1', '0', '1']\n",
      "['0', '1', '0', '1', '1', '1', '1', '1']\n",
      "['0', '1', '1', '1', '1', '1', '0', '1']\n",
      "['0', '1', '1', '1', '1', '1', '1', '1']\n",
      "['1', '1', '0', '1', '1', '1', '0', '1']\n",
      "['1', '1', '0', '1', '1', '1', '1', '1']\n",
      "['1', '1', '1', '1', '1', '1', '0', '1']\n",
      "['1', '1', '1', '1', '1', '1', '1', '1']\n"
     ]
    }
   ],
   "source": [
    "wildidx = []\n",
    "for i, v in enumerate(bpt):\n",
    "    if v == '?':\n",
    "        wildidx.append(i)\n",
    "print (\"Wild char idx: %s\"% wildidx)\n",
    "\n",
    "Max = 2**len(wildidx)\n",
    "\n",
    "bstrlist = bitstrlist(Max, len(wildidx))\n",
    "print \"bstrlist : %s\"% bstrlist\n",
    "\n",
    "resultlist = []\n",
    "\n",
    "for ridx, bstr in enumerate(bstrlist):\n",
    "    idx = 0\n",
    "    for i in wildidx:\n",
    "       # print \"bpt[%s] = %s : bstr[%s] = %s\" % (int(i), bpt[i], int(idx), bstr[idx])\n",
    "        bpt[i] = bstr[idx]; idx += 1\n",
    "    resultlist.append(bpt[:])\n",
    "\n",
    "    \n",
    "for lst in resultlist:\n",
    "    print lst\n"
   ]
  },
  {
   "cell_type": "code",
   "execution_count": 7,
   "metadata": {},
   "outputs": [
    {
     "data": {
      "text/plain": [
       "([9, 2, 3], [1, 2, 3])"
      ]
     },
     "execution_count": 7,
     "metadata": {},
     "output_type": "execute_result"
    }
   ],
   "source": [
    "l1 = [1,2,3]\n",
    "l2 = l1[:]\n",
    "\n",
    "l1[0] = 9\n",
    "l2\n",
    "\n",
    "l1,l2"
   ]
  },
  {
   "cell_type": "markdown",
   "metadata": {},
   "source": [
    "## Random Number from Complementary Set"
   ]
  },
  {
   "cell_type": "code",
   "execution_count": 8,
   "metadata": {},
   "outputs": [
    {
     "name": "stdout",
     "output_type": "stream",
     "text": [
      "[1, 4, 5, 12, 14, 29, 33]\n"
     ]
    },
    {
     "data": {
      "text/plain": [
       "[1, 4, 5, 12, 14, 29]"
      ]
     },
     "execution_count": 8,
     "metadata": {},
     "output_type": "execute_result"
    }
   ],
   "source": [
    "import numpy as np\n",
    "\n",
    "origin_set = list(range(1,46))\n",
    "\n",
    "base_set = [2,3,6,7,8,9,10,\n",
    "            11,13,15,16,17,18,19,20,\n",
    "            21,22,23,24,25,26,27,28,30, \n",
    "            31,32,34,35,36,37,38,39,40, \n",
    "            41,42,43,44,45]\n",
    "c_set = set(origin_set) - set(base_set)\n",
    "\n",
    "print (sorted(c_set))\n",
    "result_list = np.random.choice(list(c_set),6, replace=False)\n",
    "\n",
    "sorted(result_list)"
   ]
  },
  {
   "cell_type": "markdown",
   "metadata": {},
   "source": [
    "# Merge Sort "
   ]
  },
  {
   "cell_type": "markdown",
   "metadata": {},
   "source": [
    "### Not Using Library"
   ]
  },
  {
   "cell_type": "code",
   "execution_count": 9,
   "metadata": {},
   "outputs": [
    {
     "name": "stdout",
     "output_type": "stream",
     "text": [
      "[50 52 55 78 70 14 26 14]\n",
      "[14 14 26 50 52 55 70 78]\n"
     ]
    }
   ],
   "source": [
    "import math\n",
    "def merge(ilist):\n",
    "    length = len(ilist)\n",
    "    mididx = int(length/2)\n",
    "    b = [0]*length; i = 0; k = 0;\n",
    "    j = mididx;\n",
    "    while (i < mididx) and (j < length):\n",
    "        if (ilist[i] < ilist[j]):\n",
    "            b[k] = ilist[i]\n",
    "            k += 1\n",
    "            i += 1\n",
    "        else:\n",
    "            b[k] = ilist[j]\n",
    "            k += 1\n",
    "            j += 1\n",
    "\n",
    "    if (i < mididx):\n",
    "        for t in range(i,mididx):\n",
    "            b[k] = ilist[t]\n",
    "            k += 1\n",
    "    elif (j<length):\n",
    "        for t in range(j,length):\n",
    "            b[k] = ilist[t]\n",
    "            k += 1\n",
    "    ilist[:] = b[:]\n",
    "    return ilist\n",
    "\n",
    "        \n",
    "def mymsort(ilist):\n",
    "    length = len(ilist)\n",
    "    if ( length > 3):\n",
    "        mididx = int(length/2)\n",
    "        mymsort(ilist[:mididx])\n",
    "        mymsort(ilist[mididx:])\n",
    "        ilist = merge(ilist)\n",
    "    else:\n",
    "        if (ilist[0] > ilist[1]):\n",
    "            ilist[0], ilist[1] = ilist[1], ilist[0]\n",
    "    \n",
    "    return\n",
    "    \n",
    "\n",
    "ilist = np.random.randint(1,100, 8)\n",
    "print (ilist)\n",
    "mymsort(ilist)\n",
    "print (ilist)\n"
   ]
  },
  {
   "cell_type": "code",
   "execution_count": 119,
   "metadata": {},
   "outputs": [
    {
     "name": "stdout",
     "output_type": "stream",
     "text": [
      "rec [1, 2]\n",
      "[1, 2, 3, 4, 5]\n"
     ]
    }
   ],
   "source": [
    "l1 = [1,2,3,4,5]\n",
    "def sublt(l):\n",
    "    print \"rec\", l\n",
    "    for i in range(len(l)):\n",
    "        l[i] = 0;\n",
    "    return\n",
    "sublt(l1[0:2])\n",
    "print l1\n",
    "#print newl"
   ]
  },
  {
   "cell_type": "code",
   "execution_count": 126,
   "metadata": {},
   "outputs": [
    {
     "name": "stdout",
     "output_type": "stream",
     "text": [
      "[1, 2, 3, 4, 5, 7, 8, 9] [7, 8, 9]\n"
     ]
    }
   ],
   "source": [
    "l1 = [1,2,3,4,5]\n",
    "l2 = [7,8,9]\n",
    "\n",
    "l1.extend(l2)\n",
    "print l1, l2"
   ]
  },
  {
   "cell_type": "code",
   "execution_count": 147,
   "metadata": {},
   "outputs": [
    {
     "name": "stdout",
     "output_type": "stream",
     "text": [
      "O list [65, 13, 75, 52, 5, 93, 84, 48, 62, 42]\n",
      "[5, 13, 42, 48, 52, 62, 65, 75, 84, 93]\n"
     ]
    }
   ],
   "source": [
    "l = list(np.random.randint(0,100,10))\n",
    "print \"O list\",l\n",
    "\n",
    "def merge(left, right):\n",
    "    l = []\n",
    "    while ( len(left)>0 and len(right)> 0):\n",
    "        if (left[0] < right[0]):\n",
    "            l.append(left.pop(0))\n",
    "        else:\n",
    "            l.append(right.pop(0))\n",
    "            \n",
    "    if ( len(left)>0):\n",
    "        l.extend(left)\n",
    "    elif ( len(right)>0):\n",
    "        l.extend(right)\n",
    "    return l\n",
    "\n",
    "def msort(l):\n",
    "    if (len(l) > 1):\n",
    "        left =  msort(l[:(len(l)/2)])\n",
    "        right = msort(l[(len(l)/2):])\n",
    "        res = merge(left, right)\n",
    "        return res\n",
    "    else:\n",
    "        return l\n",
    "    \n",
    "result = msort(l)\n",
    "print result"
   ]
  },
  {
   "cell_type": "code",
   "execution_count": null,
   "metadata": {},
   "outputs": [],
   "source": []
  },
  {
   "cell_type": "markdown",
   "metadata": {},
   "source": [
    "# Quick Sort"
   ]
  },
  {
   "cell_type": "code",
   "execution_count": 3,
   "metadata": {
    "scrolled": false
   },
   "outputs": [
    {
     "name": "stdout",
     "output_type": "stream",
     "text": [
      "Unsorted list [25, 15, 10, 20, 30, 40, 24]\n",
      "swapped ilist [24, 15, 10, 20, 25, 40, 30] Pivot : 25\n",
      "swapped ilist [20, 15, 10, 24, 25, 40, 30] Pivot : 24\n",
      "swapped ilist [10, 15, 20, 24, 25, 40, 30] Pivot : 20\n",
      "swapped ilist [15, 10, 20, 24, 25, 40, 30] Pivot : 10\n",
      "swapped ilist [15, 10, 20, 24, 25, 30, 40] Pivot : 40\n",
      "Sorted list [15, 10, 20, 24, 25, 30, 40]\n"
     ]
    }
   ],
   "source": [
    "import numpy as np \n",
    "\n",
    "def qpartition(ilist, left, right):\n",
    "    pivot = left\n",
    "    l = pivot + 1\n",
    "    h = right\n",
    "   \n",
    "    while (l < h):\n",
    "        while ( l <= right and ilist[pivot] >= ilist[l] ):\n",
    "            l += 1\n",
    "\n",
    "        while ( h > left and ilist[pivot] <= ilist[h] ):\n",
    "            h -= 1\n",
    "\n",
    "        if (l < h):\n",
    "            ilist[l], ilist[h] = ilist[h], ilist[l]\n",
    " \n",
    "\n",
    "    ilist[left], ilist[h] = ilist[h], ilist[left]\n",
    "    print ('swapped ilist', ilist, 'Pivot : %d' % (ilist[h]))\n",
    "    return h\n",
    "\n",
    "\n",
    "def qsort(ilist, left, right):\n",
    "    \n",
    "    if (left < right):\n",
    "        q = qpartition(ilist, left, right)\n",
    "        qsort(ilist, left, q-1)\n",
    "        qsort(ilist, q+1, right)\n",
    "    return ilist\n",
    "\n",
    "\n",
    "ilist = np.random.randint(0,100,10)\n",
    "#ilist = [76, 42, 38, 70, 5, 4, 99,20]\n",
    "#ilist = [70, 38, 42]\n",
    "ilist = [25, 15, 10, 20, 30, 40, 24]\n",
    "print ('Unsorted list', ilist)\n",
    "sortedlist = qsort(ilist, 0, len(ilist)-1)\n",
    "print ('Sorted list', sortedlist)\n"
   ]
  },
  {
   "cell_type": "code",
   "execution_count": 231,
   "metadata": {
    "scrolled": false
   },
   "outputs": [
    {
     "name": "stdout",
     "output_type": "stream",
     "text": [
      "[38, 4, 23, 58, 39, 0, 38, 78, 73, 26]\n",
      "[38, 4, 23, 58, 39, 0, 38, 78, 73, 26]\n",
      "[4, 23, 0, 26]\n",
      "[0]\n",
      "[23, 26]\n",
      "[]\n",
      "[26]\n",
      "[58, 39, 78, 73]\n",
      "[39]\n",
      "[78, 73]\n",
      "[73]\n",
      "[]\n",
      "[0, 4, 23, 26, 38, 39, 58, 73, 78]\n"
     ]
    }
   ],
   "source": [
    "l = list(np.random.randint(0,100,10))\n",
    "print l\n",
    "\n",
    "def qst(l):\n",
    "    print l;\n",
    "    if (len(l) > 1):\n",
    "        pivot = l[0]\n",
    "        left = [x for x in l if x < pivot ]\n",
    "        left = qst(left)\n",
    "        right = [x for x in l if x > pivot ]\n",
    "        right = qst(right)\n",
    "\n",
    "        left.append(pivot)\n",
    "        left.extend(right)\n",
    "        return  left\n",
    "    else:\n",
    "        return l\n",
    "\n",
    "res = qst(l)\n",
    "print res\n",
    "       "
   ]
  },
  {
   "cell_type": "markdown",
   "metadata": {},
   "source": [
    "# Linked List with Python"
   ]
  },
  {
   "cell_type": "code",
   "execution_count": 56,
   "metadata": {},
   "outputs": [
    {
     "name": "stdout",
     "output_type": "stream",
     "text": [
      "10\n",
      "15\n",
      "20\n",
      "10\n",
      "20\n",
      "10\n",
      "10\n"
     ]
    }
   ],
   "source": [
    "class Node:\n",
    "    def __init__(self, data):\n",
    "        self.data = data\n",
    "        self.next = None\n",
    "    \n",
    "class LL:\n",
    "    def __init__(self):\n",
    "        self.head = None\n",
    "        self.tail = None\n",
    "        self.size = 0\n",
    "    \n",
    "    def __iter__(self):\n",
    "        self.index = 0\n",
    "        return self\n",
    "    \n",
    "    def next(self):\n",
    "        p = self.head        \n",
    "        if ( self.index >= self.size):\n",
    "            raise StopIteration\n",
    "        else:\n",
    "            self.index += 1\n",
    "            return p\n",
    "        \n",
    "    def append(self, data):\n",
    "        newnode = Node(data)\n",
    "        if self.head == None:\n",
    "            self.head = newnode\n",
    "        \n",
    "        if self.tail == None:\n",
    "            self.tail = newnode\n",
    "        else:\n",
    "            self.tail.next = newnode\n",
    "            self.tail = newnode\n",
    "        self.size += 1\n",
    "    def traverse(self):\n",
    "        p = self.head\n",
    "        while ( p != None):\n",
    "            print p.data\n",
    "            p = p.next\n",
    "        \n",
    "    def delete(self, data):\n",
    "        p = self.head\n",
    "        before = self.head\n",
    "        while ( p != None):\n",
    "            if ( p.data == data):\n",
    "                before.next = p.next\n",
    "                del(p)\n",
    "                self.size -= 1\n",
    "                p = None\n",
    "            else:\n",
    "                before = p\n",
    "                p = p.next \n",
    "    \n",
    "    \n",
    "LL1 = LL()\n",
    "LL1.append(10)\n",
    "LL1.append(15)\n",
    "LL1.append(20)\n",
    "\n",
    "\n",
    "LL1.traverse()\n",
    "LL1.delete(15)\n",
    "LL1.traverse()\n",
    "\n",
    "for i in LL1:\n",
    "    print i.data"
   ]
  },
  {
   "cell_type": "code",
   "execution_count": 277,
   "metadata": {},
   "outputs": [
    {
     "name": "stdout",
     "output_type": "stream",
     "text": [
      " 0 1 2 3 4"
     ]
    },
    {
     "data": {
      "text/plain": [
       "True"
      ]
     },
     "execution_count": 277,
     "metadata": {},
     "output_type": "execute_result"
    },
    {
     "name": "stdout",
     "output_type": "stream",
     "text": [
      "\n"
     ]
    }
   ],
   "source": [
    "ld = ['a', 'b', 'c', 'd', 'e']\n",
    "d1= { x:v for x,v in enumerate(ld)}\n",
    "\n",
    "for d in d1:\n",
    "    print d,\n",
    "\n",
    "msch = lambda x: [k for k,v in d1.items() if v == x]\n",
    "isvind = lambda k,v  : v in d1[k]\n",
    "\n",
    "msch('b')\n",
    "isvind(0, 'a')"
   ]
  },
  {
   "cell_type": "code",
   "execution_count": 108,
   "metadata": {
    "scrolled": true
   },
   "outputs": [
    {
     "name": "stdout",
     "output_type": "stream",
     "text": [
      "k1 [1, 2, 3]\n",
      "k2 [4, 5, 6]\n",
      "k3 [7, 8, 9]\n",
      "key: k1 value:  [1, 2, 3]\n",
      "key: k2 value:  [4, 5, 6]\n",
      "key: k3 value:  [7, 8, 9]\n",
      "True\n",
      "key: k1 value:  [1, 2, 3]\n",
      "key: k2 value:  [4, 5, 6]\n",
      "key: k3 value:  [7, 8, 9]\n",
      "key: k4 value:  [9, 8, 7]\n"
     ]
    }
   ],
   "source": [
    "dict1 = {'k1':[1,2,3], 'k2':[4,5,6], 'k3':[7,8,9]}\n",
    "\n",
    "dict1['k1']\n",
    "dict1['k2']\n",
    "dict1['k3']\n",
    "\n",
    "for k, v in dict1.items():\n",
    "    print (k,v)\n",
    "    \n",
    "for k in dict1:\n",
    "    print ('key: %s' %k, 'value: ', dict1[k])\n",
    "    \n",
    "searchdict = lambda k, v: v in dict1[k]\n",
    "\n",
    "print (searchdict('k1', 3))\n",
    "\n",
    "dict1['k4'] = [9,8,7]\n",
    "\n",
    "for k in dict1:\n",
    "    print ('key: %s' %k, 'value: ', dict1[k])\n",
    "\n"
   ]
  },
  {
   "cell_type": "markdown",
   "metadata": {},
   "source": [
    "# Heap"
   ]
  },
  {
   "cell_type": "markdown",
   "metadata": {},
   "source": [
    "## Heapify"
   ]
  },
  {
   "cell_type": "code",
   "execution_count": 85,
   "metadata": {},
   "outputs": [],
   "source": [
    "def heapify(hlist, index, hsize):\n",
    "    largest_idx = index\n",
    "    left = (index+1) * 2 - 1\n",
    "    right = left + 1\n",
    "    print ('i l r %d %d %d'%(index, left, right))\n",
    "    if (right < hsize):\n",
    "        print ('id lgst lval rval %d %d %d %d'%(index, hlist[largest_idx], hlist[left], hlist[right]))\n",
    "    if ( left < hsize and hlist[largest_idx] < hlist[left]):\n",
    "        largest_idx = left    \n",
    "    if ( right < hsize and hlist[largest_idx] < hlist[right]):\n",
    "        largest_idx = right    \n",
    "    print ('heapify index-1:%d lgrest %d'% (index-1, largest_idx))\n",
    "    if ( index != largest_idx ):\n",
    "        hlist[largest_idx], hlist[index] = hlist[index], hlist[largest_idx]\n",
    "        heapify(hlist, largest_idx, hsize)\n",
    "    return\n",
    "\n"
   ]
  },
  {
   "cell_type": "code",
   "execution_count": 87,
   "metadata": {
    "scrolled": false
   },
   "outputs": [
    {
     "name": "stdout",
     "output_type": "stream",
     "text": [
      "i l r 2 5 6\n",
      "heapify index-1:1 lgrest 2\n",
      "i l r 1 3 4\n",
      "id lgst lval rval 1 76 33 60\n",
      "heapify index-1:0 lgrest 1\n",
      "i l r 0 1 2\n",
      "id lgst lval rval 0 40 76 65\n",
      "heapify index-1:-1 lgrest 1\n",
      "i l r 1 3 4\n",
      "id lgst lval rval 1 40 33 60\n",
      "heapify index-1:0 lgrest 4\n",
      "i l r 4 9 10\n",
      "heapify index-1:3 lgrest 4\n",
      "[76, 60, 65, 33, 40, 5]\n"
     ]
    }
   ],
   "source": [
    "hlist = np.random.randint(0,100,6)\n",
    "#        0.   1.  2.  3.  4.  5\n",
    "#        1.   2.  3.  4.  5.  6. \n",
    "hlist = [40, 76, 65, 33, 60,  5]\n",
    "\n",
    "for i in range(int(len(hlist)/2)-1, -1, -1):\n",
    "    heapify(hlist, i, len(hlist))\n",
    "\n",
    "\n",
    "print (hlist)"
   ]
  },
  {
   "cell_type": "markdown",
   "metadata": {},
   "source": [
    "# How do you find the duplicate number on a given integer array? "
   ]
  },
  {
   "cell_type": "code",
   "execution_count": 96,
   "metadata": {},
   "outputs": [
    {
     "name": "stdout",
     "output_type": "stream",
     "text": [
      "[1 2 9 8 3 4 8 2 3 6]\n"
     ]
    }
   ],
   "source": [
    "given = np.random.randint(0,10,10)\n",
    "print (given)"
   ]
  },
  {
   "cell_type": "code",
   "execution_count": 281,
   "metadata": {},
   "outputs": [
    {
     "name": "stdout",
     "output_type": "stream",
     "text": [
      " dup 8\n",
      "dup 9\n",
      "dup 4\n",
      "[2 6 8 8 9 9 4 4]\n"
     ]
    }
   ],
   "source": [
    "# 09/25/2019\n",
    "gl = np.random.randint(0,10,8)\n",
    "for i in range(len(gl)):\n",
    "    for j in range(i+1, len(gl)):\n",
    "        if ( gl[i] == gl[j]):\n",
    "            print \"dup\", gl[i];\n",
    "print gl"
   ]
  },
  {
   "cell_type": "code",
   "execution_count": 93,
   "metadata": {},
   "outputs": [
    {
     "name": "stdout",
     "output_type": "stream",
     "text": [
      "[0, 1, 2, 5, 6, 7, 8]\n"
     ]
    }
   ],
   "source": [
    "gset = list(set(given))\n",
    "print (gset)"
   ]
  },
  {
   "cell_type": "code",
   "execution_count": 102,
   "metadata": {
    "scrolled": true
   },
   "outputs": [
    {
     "name": "stdout",
     "output_type": "stream",
     "text": [
      "dup id val : 1 7 2\n",
      "dup id val : 3 6 8\n",
      "dup id val : 4 8 3\n"
     ]
    }
   ],
   "source": [
    "for i in range(len(given)):\n",
    "    for j in range(i+1, len(given)):\n",
    "        if ( i != j):\n",
    "            if (given[i] == given[j]):\n",
    "                print ('dup id val : %d %d %d'%(i,j, given[i]))"
   ]
  },
  {
   "cell_type": "markdown",
   "metadata": {},
   "source": [
    "# How are duplicate characters found in a string?"
   ]
  },
  {
   "cell_type": "code",
   "execution_count": 125,
   "metadata": {},
   "outputs": [
    {
     "name": "stdout",
     "output_type": "stream",
     "text": [
      "['P' 'H' 'H' 'M' 'F' 'G' 'Z' 'Q' 'B' 'B' 'O' 'M' 'W' 'G' 'E' 'I' 'K' 'D'\n",
      " 'V' 'I']\n",
      "dup val H\n",
      "dup val B\n",
      "dup val M\n",
      "dup val G\n",
      "dup val I\n",
      "k,v P 1\n",
      "k,v H 1\n",
      "k,v M 1\n",
      "k,v F 1\n",
      "k,v G 1\n",
      "k,v Z 1\n",
      "k,v Q 1\n",
      "k,v B 1\n",
      "k,v O 1\n",
      "k,v W 1\n",
      "k,v E 1\n",
      "k,v I 1\n",
      "k,v K 1\n",
      "k,v D 1\n",
      "k,v V 1\n"
     ]
    }
   ],
   "source": [
    "import string\n",
    "\n",
    "charpool = list(string.ascii_uppercase)\n",
    "\n",
    "rstring = np.random.choice(charpool,20)\n",
    "print (rstring)\n",
    "\n",
    "\n",
    "chkbool = {}\n",
    "for i in range(len(rstring)):\n",
    "    if (rstring[i] in chkbool):\n",
    "        print ('dup val', rstring[i])\n",
    "    else:\n",
    "        chkbool[rstring[i]] = 1\n",
    "\n",
    "for k,v in chkbool.items():\n",
    "    print ('k,v %s %s'% (k, v))\n",
    "    \n"
   ]
  },
  {
   "cell_type": "code",
   "execution_count": 296,
   "metadata": {},
   "outputs": [
    {
     "data": {
      "text/plain": [
       "False"
      ]
     },
     "execution_count": 296,
     "metadata": {},
     "output_type": "execute_result"
    }
   ],
   "source": [
    "dic1 = {'a':1, 'b':2, 'c':3}\n",
    "'d' in dic1.keys()"
   ]
  },
  {
   "cell_type": "code",
   "execution_count": 309,
   "metadata": {},
   "outputs": [
    {
     "name": "stdout",
     "output_type": "stream",
     "text": [
      "['b', 'b', 'u', 'a', 'q', 'c', 'j', '_', 'k', 'y', 'y', 'i', 'n', 'i', 'e', 'm', 'q', 'f', 'b', '`']\n",
      "dup b\n",
      "dup y\n",
      "dup i\n",
      "dup q\n",
      "dup b\n",
      "{'a': 1, '`': 1, 'c': 1, 'b': 1, 'e': 1, 'f': 1, 'i': 1, 'k': 1, 'j': 1, 'm': 1, 'n': 1, 'q': 1, 'u': 1, 'y': 1, '_': 1}\n"
     ]
    }
   ],
   "source": [
    "seen = dict()\n",
    "\n",
    "charndarray = np.random.randint(95, 96+26, 20)\n",
    "charlist = list(map(lambda x: chr(x), charndarray))\n",
    "print charlist\n",
    "\n",
    "for v in charlist:\n",
    "    if not ( v in seen.keys()):\n",
    "        seen[v] = 1\n",
    "    else:\n",
    "        print \"dup\", v\n",
    "print seen"
   ]
  },
  {
   "cell_type": "markdown",
   "metadata": {},
   "source": [
    "# How do you count the occurrence of a given character in a string? "
   ]
  },
  {
   "cell_type": "code",
   "execution_count": 137,
   "metadata": {},
   "outputs": [
    {
     "name": "stdout",
     "output_type": "stream",
     "text": [
      "['R' 'U' 'U' 'K' 'W' 'C' 'L' 'A' 'D' 'P' 'E' 'L' 'H' 'E' 'A' 'H' 'Q' 'H'\n",
      " 'R' 'G' 'P' 'S' 'P' 'O' 'R' 'N' 'V' 'E' 'H' 'R']\n",
      "A 2\n",
      "B 0\n",
      "C 1\n",
      "D 1\n",
      "E 3\n",
      "F 0\n",
      "G 1\n",
      "H 4\n",
      "I 0\n",
      "J 0\n",
      "K 1\n",
      "L 2\n",
      "M 0\n",
      "N 1\n",
      "O 1\n",
      "P 3\n",
      "Q 1\n",
      "R 4\n",
      "S 1\n",
      "T 0\n",
      "U 2\n",
      "V 1\n",
      "W 1\n",
      "X 0\n",
      "Y 0\n",
      "Z 0\n"
     ]
    }
   ],
   "source": [
    "import string\n",
    "charpool = string.ascii_uppercase\n",
    "\n",
    "rstring = np.random.choice(list(charpool),30)\n",
    "print (rstring)\n",
    "\n",
    "cntdict = {}\n",
    "for i in charpool:\n",
    "    cntdict[i] = 0\n",
    "    \n",
    "for i in range(len(rstring)):\n",
    "    cntdict[rstring[i]] += 1\n",
    "    \n",
    "for k,v in cntdict.items():\n",
    "    print (k,v)"
   ]
  },
  {
   "cell_type": "markdown",
   "metadata": {},
   "source": [
    "# Dict Exercise "
   ]
  },
  {
   "cell_type": "markdown",
   "metadata": {},
   "source": [
    "### In a function call"
   ]
  },
  {
   "cell_type": "code",
   "execution_count": 1,
   "metadata": {},
   "outputs": [
    {
     "data": {
      "text/plain": [
       "{'a': 1, 'b': 2, 'c': 3}"
      ]
     },
     "execution_count": 1,
     "metadata": {},
     "output_type": "execute_result"
    }
   ],
   "source": [
    "d1 = { 'a':1, 'b':2, 'c':3}\n",
    "d1"
   ]
  },
  {
   "cell_type": "code",
   "execution_count": 28,
   "metadata": {},
   "outputs": [
    {
     "name": "stdout",
     "output_type": "stream",
     "text": [
      "a b c\n"
     ]
    }
   ],
   "source": [
    "def myfunc(x,y,z):\n",
    "    print (x,y,z)\n",
    "    \n",
    "myfunc(*d1)"
   ]
  },
  {
   "cell_type": "markdown",
   "metadata": {},
   "source": [
    "### Parameter has the same name as the dictionary key values when you use unpacking the dictionary."
   ]
  },
  {
   "cell_type": "code",
   "execution_count": 33,
   "metadata": {},
   "outputs": [
    {
     "name": "stdout",
     "output_type": "stream",
     "text": [
      "1 2 3\n"
     ]
    }
   ],
   "source": [
    "def mf3(a,b,c): # Parameter has the same name as the dictionary key values\n",
    "    print (a,b,c)\n",
    "mf3(**d1)"
   ]
  },
  {
   "cell_type": "code",
   "execution_count": 27,
   "metadata": {},
   "outputs": [
    {
     "data": {
      "text/plain": [
       "5"
      ]
     },
     "execution_count": 27,
     "metadata": {},
     "output_type": "execute_result"
    }
   ],
   "source": [
    "def dsum(a=0, b=0):\n",
    "    return a+b\n",
    "\n",
    "d2 = {'a':2, 'b':3}\n",
    "dsum(**d2)"
   ]
  },
  {
   "cell_type": "markdown",
   "metadata": {},
   "source": [
    "### function signature"
   ]
  },
  {
   "cell_type": "code",
   "execution_count": 14,
   "metadata": {},
   "outputs": [
    {
     "name": "stdout",
     "output_type": "stream",
     "text": [
      "('a', 'b', 'c')\n"
     ]
    }
   ],
   "source": [
    "def mf2(*l):\n",
    "    print(l)\n",
    "\n",
    "mf2('a','b','c')"
   ]
  }
 ],
 "metadata": {
  "kernelspec": {
   "display_name": "Python 2",
   "language": "python",
   "name": "python2"
  },
  "language_info": {
   "codemirror_mode": {
    "name": "ipython",
    "version": 2
   },
   "file_extension": ".py",
   "mimetype": "text/x-python",
   "name": "python",
   "nbconvert_exporter": "python",
   "pygments_lexer": "ipython2",
   "version": "2.7.15"
  }
 },
 "nbformat": 4,
 "nbformat_minor": 2
}
