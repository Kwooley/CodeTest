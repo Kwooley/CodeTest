{
 "cells": [
  {
   "cell_type": "markdown",
   "metadata": {},
   "source": [
    "# Find K Max"
   ]
  },
  {
   "cell_type": "markdown",
   "metadata": {},
   "source": [
    "### Make a list with random 10 integers"
   ]
  },
  {
   "cell_type": "code",
   "execution_count": 2,
   "metadata": {},
   "outputs": [
    {
     "data": {
      "text/plain": [
       "array([ 9, 15, 64, 28, 89, 93, 29,  8, 73,  0])"
      ]
     },
     "execution_count": 2,
     "metadata": {},
     "output_type": "execute_result"
    }
   ],
   "source": [
    "import numpy as np\n",
    "\n",
    "np.random.seed(10)\n",
    "l1 = np.random.randint(0,100, size=10)\n",
    "l1"
   ]
  },
  {
   "cell_type": "markdown",
   "metadata": {},
   "source": [
    "### Bubble : Find Max Function"
   ]
  },
  {
   "cell_type": "code",
   "execution_count": 3,
   "metadata": {},
   "outputs": [],
   "source": [
    "def FindMax(L):\n",
    "    M = L[0]; Mi = 0\n",
    "    for i, v in enumerate(L):\n",
    "        if M < v:\n",
    "            M = v\n",
    "            Mi = i\n",
    "    return M, Mi\n"
   ]
  },
  {
   "cell_type": "code",
   "execution_count": 11,
   "metadata": {},
   "outputs": [
    {
     "data": {
      "text/plain": [
       "(93, 5)"
      ]
     },
     "execution_count": 11,
     "metadata": {},
     "output_type": "execute_result"
    }
   ],
   "source": [
    "v = FindMax(l1)\n",
    "v"
   ]
  },
  {
   "cell_type": "markdown",
   "metadata": {},
   "source": [
    "# Bit Patterns with Wild Card"
   ]
  },
  {
   "cell_type": "markdown",
   "metadata": {},
   "source": [
    "### Make Bit Patterns with Wild Card"
   ]
  },
  {
   "cell_type": "code",
   "execution_count": 7,
   "metadata": {},
   "outputs": [
    {
     "data": {
      "text/plain": [
       "['?', '1', '1', '1', '?', '1', '?', '?']"
      ]
     },
     "execution_count": 7,
     "metadata": {},
     "output_type": "execute_result"
    }
   ],
   "source": [
    "Lenbpt = 8\n",
    "charpool = ['1', '0', '?']\n",
    "bpt = []\n",
    "\n",
    "for i in range(Lenbpt):\n",
    "    bpt.append(np.random.choice(charpool))\n",
    "\n",
    "\n",
    "bpt\n",
    "    "
   ]
  },
  {
   "cell_type": "code",
   "execution_count": 16,
   "metadata": {},
   "outputs": [
    {
     "name": "stdout",
     "output_type": "stream",
     "text": [
      "['0', '1']\n",
      "None\n"
     ]
    },
    {
     "data": {
      "text/plain": [
       "(None, None)"
      ]
     },
     "execution_count": 16,
     "metadata": {},
     "output_type": "execute_result"
    }
   ],
   "source": [
    "wildidx = []\n",
    "for i, v in enumerate(bpt):\n",
    "    if v == '?':\n",
    "        wildidx.append(i)\n",
    "wildidx\n",
    "\n",
    "\n",
    "def get01(L):\n",
    "    L1 = []; L2 = []\n",
    "    L.append('0'); L1\n",
    "    L2 = L.append('1')\n",
    "    print (L)\n",
    "    print (L2)\n",
    "    return L1, L2\n",
    "\n",
    "L = []\n",
    "LL = get01(L)\n",
    "\n",
    "LL"
   ]
  }
 ],
 "metadata": {
  "kernelspec": {
   "display_name": "Python 3",
   "language": "python",
   "name": "python3"
  },
  "language_info": {
   "codemirror_mode": {
    "name": "ipython",
    "version": 3
   },
   "file_extension": ".py",
   "mimetype": "text/x-python",
   "name": "python",
   "nbconvert_exporter": "python",
   "pygments_lexer": "ipython3",
   "version": "3.7.0"
  }
 },
 "nbformat": 4,
 "nbformat_minor": 2
}
