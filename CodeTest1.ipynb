{
 "cells": [
  {
   "cell_type": "markdown",
   "metadata": {},
   "source": [
    "# Find K Max"
   ]
  },
  {
   "cell_type": "markdown",
   "metadata": {},
   "source": [
    "### Make a list with random 10 integers"
   ]
  },
  {
   "cell_type": "code",
   "execution_count": 1,
   "metadata": {},
   "outputs": [
    {
     "data": {
      "text/plain": [
       "array([ 9, 15, 64, 28, 89, 93, 29,  8, 73,  0])"
      ]
     },
     "execution_count": 1,
     "metadata": {},
     "output_type": "execute_result"
    }
   ],
   "source": [
    "import numpy as np\n",
    "\n",
    "np.random.seed(10)\n",
    "l1 = np.random.randint(0,100, size=10)\n",
    "l1"
   ]
  },
  {
   "cell_type": "markdown",
   "metadata": {},
   "source": [
    "### Bubble : Find Max Function"
   ]
  },
  {
   "cell_type": "code",
   "execution_count": 2,
   "metadata": {},
   "outputs": [],
   "source": [
    "def FindMax(L):\n",
    "    M = L[0]; Mi = 0\n",
    "    for i, v in enumerate(L):\n",
    "        if M < v:\n",
    "            M = v\n",
    "            Mi = i\n",
    "    return M, Mi\n"
   ]
  },
  {
   "cell_type": "code",
   "execution_count": 3,
   "metadata": {},
   "outputs": [
    {
     "data": {
      "text/plain": [
       "(93, 5)"
      ]
     },
     "execution_count": 3,
     "metadata": {},
     "output_type": "execute_result"
    }
   ],
   "source": [
    "v = FindMax(l1)\n",
    "v"
   ]
  },
  {
   "cell_type": "markdown",
   "metadata": {},
   "source": [
    "# Bit Patterns with Wild Card"
   ]
  },
  {
   "cell_type": "markdown",
   "metadata": {},
   "source": [
    "### Make Bit Patterns with Wild Card"
   ]
  },
  {
   "cell_type": "code",
   "execution_count": 4,
   "metadata": {},
   "outputs": [
    {
     "data": {
      "text/plain": [
       "['?', '1', '?', '1', '1', '1', '?', '1']"
      ]
     },
     "execution_count": 4,
     "metadata": {},
     "output_type": "execute_result"
    }
   ],
   "source": [
    "Lenbpt = 8\n",
    "charpool = ['1', '0', '?']\n",
    "bpt = []\n",
    "\n",
    "for i in range(Lenbpt):\n",
    "    bpt.append(np.random.choice(charpool))\n",
    "\n",
    "\n",
    "bpt\n",
    "    "
   ]
  },
  {
   "cell_type": "code",
   "execution_count": 5,
   "metadata": {},
   "outputs": [
    {
     "data": {
      "text/plain": [
       "['000', '001', '010', '011', '100', '101', '110', '111']"
      ]
     },
     "execution_count": 5,
     "metadata": {},
     "output_type": "execute_result"
    }
   ],
   "source": [
    "def bitstrlist(M, n):\n",
    "    bstrlist = []\n",
    "    for i in range(M):\n",
    "        intstr = (bin(i))[2:]\n",
    "        intstr = '0'*(n-len(intstr))+intstr\n",
    "        #print intstr\n",
    "        bstrlist.append(intstr)\n",
    "    return bstrlist\n",
    "\n",
    "\n",
    "bitstrlist(8,3)"
   ]
  },
  {
   "cell_type": "code",
   "execution_count": 6,
   "metadata": {},
   "outputs": [
    {
     "name": "stdout",
     "output_type": "stream",
     "text": [
      "Wild char idx: [0, 2, 6]\n",
      "bstrlist : ['000', '001', '010', '011', '100', '101', '110', '111']\n",
      "['0', '1', '0', '1', '1', '1', '0', '1']\n",
      "['0', '1', '0', '1', '1', '1', '1', '1']\n",
      "['0', '1', '1', '1', '1', '1', '0', '1']\n",
      "['0', '1', '1', '1', '1', '1', '1', '1']\n",
      "['1', '1', '0', '1', '1', '1', '0', '1']\n",
      "['1', '1', '0', '1', '1', '1', '1', '1']\n",
      "['1', '1', '1', '1', '1', '1', '0', '1']\n",
      "['1', '1', '1', '1', '1', '1', '1', '1']\n"
     ]
    }
   ],
   "source": [
    "wildidx = []\n",
    "for i, v in enumerate(bpt):\n",
    "    if v == '?':\n",
    "        wildidx.append(i)\n",
    "print (\"Wild char idx: %s\"% wildidx)\n",
    "\n",
    "Max = 2**len(wildidx)\n",
    "\n",
    "bstrlist = bitstrlist(Max, len(wildidx))\n",
    "print \"bstrlist : %s\"% bstrlist\n",
    "\n",
    "resultlist = []\n",
    "\n",
    "for ridx, bstr in enumerate(bstrlist):\n",
    "    idx = 0\n",
    "    for i in wildidx:\n",
    "       # print \"bpt[%s] = %s : bstr[%s] = %s\" % (int(i), bpt[i], int(idx), bstr[idx])\n",
    "        bpt[i] = bstr[idx]; idx += 1\n",
    "    resultlist.append(bpt[:])\n",
    "\n",
    "    \n",
    "for lst in resultlist:\n",
    "    print lst\n"
   ]
  },
  {
   "cell_type": "code",
   "execution_count": 7,
   "metadata": {},
   "outputs": [
    {
     "data": {
      "text/plain": [
       "([9, 2, 3], [1, 2, 3])"
      ]
     },
     "execution_count": 7,
     "metadata": {},
     "output_type": "execute_result"
    }
   ],
   "source": [
    "l1 = [1,2,3]\n",
    "l2 = l1[:]\n",
    "\n",
    "l1[0] = 9\n",
    "l2\n",
    "\n",
    "l1,l2"
   ]
  },
  {
   "cell_type": "markdown",
   "metadata": {},
   "source": [
    "## Random Number from Complementary Set"
   ]
  },
  {
   "cell_type": "code",
   "execution_count": 8,
   "metadata": {},
   "outputs": [
    {
     "name": "stdout",
     "output_type": "stream",
     "text": [
      "[1, 4, 5, 12, 14, 29, 33]\n"
     ]
    },
    {
     "data": {
      "text/plain": [
       "[1, 4, 5, 12, 14, 29]"
      ]
     },
     "execution_count": 8,
     "metadata": {},
     "output_type": "execute_result"
    }
   ],
   "source": [
    "import numpy as np\n",
    "\n",
    "origin_set = list(range(1,46))\n",
    "\n",
    "base_set = [2,3,6,7,8,9,10,\n",
    "            11,13,15,16,17,18,19,20,\n",
    "            21,22,23,24,25,26,27,28,30, \n",
    "            31,32,34,35,36,37,38,39,40, \n",
    "            41,42,43,44,45]\n",
    "c_set = set(origin_set) - set(base_set)\n",
    "\n",
    "print (sorted(c_set))\n",
    "result_list = np.random.choice(list(c_set),6, replace=False)\n",
    "\n",
    "sorted(result_list)"
   ]
  },
  {
   "cell_type": "markdown",
   "metadata": {},
   "source": [
    "# Merge Sort "
   ]
  },
  {
   "cell_type": "markdown",
   "metadata": {},
   "source": [
    "### Not Using Library"
   ]
  },
  {
   "cell_type": "code",
   "execution_count": 9,
   "metadata": {},
   "outputs": [
    {
     "name": "stdout",
     "output_type": "stream",
     "text": [
      "[50 52 55 78 70 14 26 14]\n",
      "[14 14 26 50 52 55 70 78]\n"
     ]
    }
   ],
   "source": [
    "import math\n",
    "def merge(ilist):\n",
    "    length = len(ilist)\n",
    "    mididx = int(length/2)\n",
    "    b = [0]*length; i = 0; k = 0;\n",
    "    j = mididx;\n",
    "    while (i < mididx) and (j < length):\n",
    "        if (ilist[i] < ilist[j]):\n",
    "            b[k] = ilist[i]\n",
    "            k += 1\n",
    "            i += 1\n",
    "        else:\n",
    "            b[k] = ilist[j]\n",
    "            k += 1\n",
    "            j += 1\n",
    "\n",
    "    if (i < mididx):\n",
    "        for t in range(i,mididx):\n",
    "            b[k] = ilist[t]\n",
    "            k += 1\n",
    "    elif (j<length):\n",
    "        for t in range(j,length):\n",
    "            b[k] = ilist[t]\n",
    "            k += 1\n",
    "    ilist[:] = b[:]\n",
    "    return ilist\n",
    "\n",
    "        \n",
    "def mymsort(ilist):\n",
    "    length = len(ilist)\n",
    "    if ( length > 3):\n",
    "        mididx = int(length/2)\n",
    "        mymsort(ilist[:mididx])\n",
    "        mymsort(ilist[mididx:])\n",
    "        ilist = merge(ilist)\n",
    "    else:\n",
    "        if (ilist[0] > ilist[1]):\n",
    "            ilist[0], ilist[1] = ilist[1], ilist[0]\n",
    "    \n",
    "    return\n",
    "    \n",
    "\n",
    "ilist = np.random.randint(1,100, 8)\n",
    "print (ilist)\n",
    "mymsort(ilist)\n",
    "print (ilist)\n"
   ]
  },
  {
   "cell_type": "markdown",
   "metadata": {},
   "source": [
    "# Quick Sort"
   ]
  },
  {
   "cell_type": "code",
   "execution_count": 13,
   "metadata": {
    "scrolled": false
   },
   "outputs": [
    {
     "name": "stdout",
     "output_type": "stream",
     "text": [
      "('Unsorted list', array([37, 37, 91, 78, 71, 81, 69, 76, 95, 67]))\n",
      "swapped ilist [37 37 91 78 71 81 69 76 95 67] Pivot : 37\n",
      "swapped ilist [37 37 91 78 71 81 69 76 95 67] Pivot : 37\n",
      "swapped ilist [37 37 67 78 71 81 69 76 91 95] Pivot : 91\n",
      "swapped ilist [37 37 67 78 71 81 69 76 91 95] Pivot : 67\n",
      "swapped ilist [37 37 67 69 71 76 78 81 91 95] Pivot : 78\n",
      "swapped ilist [37 37 67 69 71 76 78 81 91 95] Pivot : 69\n",
      "swapped ilist [37 37 67 69 76 71 78 81 91 95] Pivot : 71\n",
      "('Sorted list', array([37, 37, 67, 69, 76, 71, 78, 81, 91, 95]))\n"
     ]
    }
   ],
   "source": [
    "import numpy as np \n",
    "\n",
    "def qpartition(ilist, left, right):\n",
    "    pivot = left\n",
    "    l = pivot + 1\n",
    "    h = right\n",
    "   \n",
    "    while (l < h):\n",
    "        while ( l <= right and ilist[pivot] >= ilist[l] ):\n",
    "            l += 1\n",
    "\n",
    "        while ( h > left and ilist[pivot] <= ilist[h] ):\n",
    "            h -= 1\n",
    "\n",
    "        if (l < h):\n",
    "            ilist[l], ilist[h] = ilist[h], ilist[l]\n",
    " \n",
    "    if (l>=h):\n",
    "        ilist[left], ilist[h] = ilist[h], ilist[left]\n",
    "    print 'swapped ilist', ilist, 'Pivot : %d' % (ilist[h])\n",
    "    return h\n",
    "\n",
    "\n",
    "def qsort(ilist, left, right):\n",
    "    \n",
    "    if (left < right):\n",
    "        q = qpartition(ilist, left, right)\n",
    "        qsort(ilist, left, q-1)\n",
    "        qsort(ilist, q+1, right)\n",
    "    return ilist\n",
    "\n",
    "\n",
    "ilist = np.random.randint(0,100,10)\n",
    "#ilist = [76, 42, 38, 70, 5, 4, 99,20]\n",
    "#ilist = [70, 38, 42]\n",
    "\n",
    "print ('Unsorted list', ilist)\n",
    "sortedlist = qsort(ilist, 0, len(ilist)-1)\n",
    "print ('Sorted list', sortedlist)\n"
   ]
  },
  {
   "cell_type": "markdown",
   "metadata": {},
   "source": [
    "# Linked List with Python"
   ]
  },
  {
   "cell_type": "code",
   "execution_count": 56,
   "metadata": {},
   "outputs": [
    {
     "name": "stdout",
     "output_type": "stream",
     "text": [
      "10\n",
      "15\n",
      "20\n",
      "10\n",
      "20\n",
      "10\n",
      "10\n"
     ]
    }
   ],
   "source": [
    "class Node:\n",
    "    def __init__(self, data):\n",
    "        self.data = data\n",
    "        self.next = None\n",
    "    \n",
    "class LL:\n",
    "    def __init__(self):\n",
    "        self.head = None\n",
    "        self.tail = None\n",
    "        self.size = 0\n",
    "    \n",
    "    def __iter__(self):\n",
    "        self.index = 0\n",
    "        return self\n",
    "    \n",
    "    def next(self):\n",
    "        p = self.head        \n",
    "        if ( self.index >= self.size):\n",
    "            raise StopIteration\n",
    "        else:\n",
    "            self.index += 1\n",
    "            return p\n",
    "        \n",
    "    def append(self, data):\n",
    "        newnode = Node(data)\n",
    "        if self.head == None:\n",
    "            self.head = newnode\n",
    "        \n",
    "        if self.tail == None:\n",
    "            self.tail = newnode\n",
    "        else:\n",
    "            self.tail.next = newnode\n",
    "            self.tail = newnode\n",
    "        self.size += 1\n",
    "    def traverse(self):\n",
    "        p = self.head\n",
    "        while ( p != None):\n",
    "            print p.data\n",
    "            p = p.next\n",
    "        \n",
    "    def delete(self, data):\n",
    "        p = self.head\n",
    "        before = self.head\n",
    "        while ( p != None):\n",
    "            if ( p.data == data):\n",
    "                before.next = p.next\n",
    "                del(p)\n",
    "                self.size -= 1\n",
    "                p = None\n",
    "            else:\n",
    "                before = p\n",
    "                p = p.next \n",
    "    \n",
    "    \n",
    "LL1 = LL()\n",
    "LL1.append(10)\n",
    "LL1.append(15)\n",
    "LL1.append(20)\n",
    "\n",
    "\n",
    "LL1.traverse()\n",
    "LL1.delete(15)\n",
    "LL1.traverse()\n",
    "\n",
    "for i in LL1:\n",
    "    print i.data"
   ]
  },
  {
   "cell_type": "code",
   "execution_count": 69,
   "metadata": {},
   "outputs": [
    {
     "name": "stdout",
     "output_type": "stream",
     "text": [
      "k3 [7, 8, 9]\n",
      "k2 [4, 5, 6]\n",
      "k1 [1, 2, 3]\n",
      "key: k3 value:  [7, 8, 9]\n",
      "key: k2 value:  [4, 5, 6]\n",
      "key: k1 value:  [1, 2, 3]\n",
      "True\n"
     ]
    }
   ],
   "source": [
    "dict1 = {'k1':[1,2,3], 'k2':[4,5,6], 'k3':[7,8,9]}\n",
    "\n",
    "dict1['k1']\n",
    "dict1['k2']\n",
    "dict1['k3']\n",
    "\n",
    "for k, v in dict1.items():\n",
    "    print k,v\n",
    "    \n",
    "for k in dict1:\n",
    "    print 'key: %s' %k, 'value: ', dict1[k]\n",
    "    \n",
    "searchdict = lambda k, v: v in dict1[k]\n",
    "\n",
    "print searchdict('k1', 3)\n",
    "\n",
    "\n"
   ]
  }
 ],
 "metadata": {
  "kernelspec": {
   "display_name": "Python 2",
   "language": "python",
   "name": "python2"
  },
  "language_info": {
   "codemirror_mode": {
    "name": "ipython",
    "version": 2
   },
   "file_extension": ".py",
   "mimetype": "text/x-python",
   "name": "python",
   "nbconvert_exporter": "python",
   "pygments_lexer": "ipython2",
   "version": "2.7.14"
  }
 },
 "nbformat": 4,
 "nbformat_minor": 2
}
