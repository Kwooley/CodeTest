{
 "cells": [
  {
   "cell_type": "markdown",
   "metadata": {},
   "source": [
    "# Warm-up"
   ]
  },
  {
   "cell_type": "markdown",
   "metadata": {},
   "source": [
    "## Sock Match"
   ]
  },
  {
   "cell_type": "code",
   "execution_count": 24,
   "metadata": {},
   "outputs": [
    {
     "name": "stdout",
     "output_type": "stream",
     "text": [
      "[1, 1, 1, 2, 2, 3, 2, 3, 1, 1]\n",
      "4\n"
     ]
    }
   ],
   "source": [
    "# input : N\n",
    "# input : (n1, n2, n3, ... , nn)\n",
    "\n",
    "def sockMerchant(N, n):  \n",
    "    unique = list(set(n))\n",
    "    pairs = 0 \n",
    "    for u in unique:\n",
    "        num = n.count(u)\n",
    "        pairs += num // 2\n",
    "     \n",
    "    return pairs\n",
    "\n",
    "\n",
    "if __name__ == '__main__':\n",
    "    N = 10\n",
    "    n = [1, 1, 1, 2, 2, 3, 2, 3, 1, 1]\n",
    "#    N = raw_input()\n",
    "#    n = map(int, raw_input().rstrip().split())\n",
    "    print n\n",
    "\n",
    "    res = sockMerchant(N, n)\n",
    "    \n",
    "    print res\n",
    "\n",
    "    \n",
    "\n"
   ]
  },
  {
   "cell_type": "markdown",
   "metadata": {},
   "source": [
    "## Count Valley"
   ]
  },
  {
   "cell_type": "code",
   "execution_count": 5,
   "metadata": {},
   "outputs": [
    {
     "name": "stdout",
     "output_type": "stream",
     "text": [
      "2\n"
     ]
    }
   ],
   "source": [
    "#!/bin/python\n",
    "\n",
    "import math\n",
    "import os\n",
    "import random\n",
    "import re\n",
    "import sys\n",
    "\n",
    "# Complete the countingValleys function below.\n",
    "def countingValleys(n, s):\n",
    "    steps = map(str, s)\n",
    "    cntval = 0\n",
    "    level = 0\n",
    "    upsea = True\n",
    "    for i in range(n):\n",
    "        if ( steps[i] == 'D'):\n",
    "            level -= 1\n",
    "            if ( upsea == True and level < 0):\n",
    "                cntval += 1\n",
    "                upsea = False\n",
    "        elif ( steps[i] == 'U'):\n",
    "            level += 1\n",
    "            if ( upsea == False and level >= 0):\n",
    "                upsea = True\n",
    "    return cntval\n",
    "\n",
    "if __name__ == '__main__':\n",
    "#    n = int(raw_input())\n",
    "#    s = raw_input()\n",
    "    n = 12\n",
    "    s = 'DDUUDDUU'\n",
    "    s = 'DDUUDDUDUUUD'\n",
    "    result = countingValleys(n, s)\n",
    "\n",
    "    print result\n",
    "    \n",
    "    "
   ]
  },
  {
   "cell_type": "code",
   "execution_count": 28,
   "metadata": {},
   "outputs": [
    {
     "name": "stdout",
     "output_type": "stream",
     "text": [
      "['D', 'D', 'U', 'U', 'D', 'D', 'U', 'U']\n"
     ]
    }
   ],
   "source": [
    "s = 'DDUUDDUU'\n",
    "steps = map(str, s)\n",
    "print steps"
   ]
  },
  {
   "cell_type": "markdown",
   "metadata": {},
   "source": [
    "## Repeat String"
   ]
  },
  {
   "cell_type": "code",
   "execution_count": 22,
   "metadata": {},
   "outputs": [
    {
     "name": "stdout",
     "output_type": "stream",
     "text": [
      "4\n"
     ]
    }
   ],
   "source": [
    "def repeatedString(s, n):\n",
    "    rpt = n // len(s)\n",
    "    remainder = n - (rpt*(len(s)))\n",
    "    \n",
    "    cnt = s.count('a')\n",
    "    cnt_addition = s[:remainder].count('a')\n",
    "    \n",
    "    res = cnt * rpt\n",
    "    res += cnt_addition\n",
    "    \n",
    "    return res\n",
    "\n",
    "\n",
    "if __name__ == '__main__':\n",
    "\n",
    "#    s = raw_input()\n",
    "#    n = int(raw_input())\n",
    "    s = 'abc'\n",
    "    n = 10\n",
    "\n",
    "    result = repeatedString(s, n)\n",
    "\n",
    "    print result"
   ]
  },
  {
   "cell_type": "code",
   "execution_count": 21,
   "metadata": {},
   "outputs": [
    {
     "name": "stdout",
     "output_type": "stream",
     "text": [
      "2\n",
      "abcdeabcde\n",
      "ab\n",
      "abcdeabcdeab\n",
      "1\n"
     ]
    }
   ],
   "source": [
    "n = 12\n",
    "s = 'abcde'\n",
    "rpt = n // len(s)\n",
    "remainder = n - (rpt*(len(s)))\n",
    "print remainder\n",
    "    \n",
    "tarstr = s*rpt\n",
    "print tarstr\n",
    "print s[:remainder]\n",
    "tarstr += (s[:remainder])\n",
    "print tarstr\n",
    "print s[:remainder].count('a')\n"
   ]
  },
  {
   "cell_type": "markdown",
   "metadata": {},
   "source": [
    "## Jumping on the Clouds"
   ]
  },
  {
   "cell_type": "code",
   "execution_count": 12,
   "metadata": {},
   "outputs": [
    {
     "name": "stdout",
     "output_type": "stream",
     "text": [
      "[0, 0, 1, 0, 0, 1, 0]\n",
      "current 0 hops 0\n",
      "+1 current 1 hops 1\n",
      "current 1 hops 1\n",
      "+2 current 3 hops 2\n",
      "current 3 hops 2\n",
      "+1 current 4 hops 3\n",
      "current 4 hops 3\n",
      "+2 current 6 hops 4\n",
      "current 6 hops 4\n",
      "4\n"
     ]
    }
   ],
   "source": [
    "def jumpingOnClouds(c):\n",
    "    print c\n",
    "    hops = 0\n",
    "    current = 0\n",
    "    while ( current < len(c) ):\n",
    "        print 'current', current, 'hops', hops\n",
    "        if ( current+2 < len(c) and c[current+2] == 0 ):\n",
    "            current += 2\n",
    "            hops += 1\n",
    "            print '+2 current', current, 'hops', hops\n",
    "        elif (current+1< len(c) and  c[current+1] == 0):\n",
    "            current += 1\n",
    "            hops += 1\n",
    "            print '+1 current', current, 'hops', hops\n",
    "        elif (current+2 < len(c)):\n",
    "            if ( c[current+1] == 0):\n",
    "                hops += 1\n",
    "                current += 1\n",
    "            else:\n",
    "                print 'no route'\n",
    "        elif ( current+1 <= len(c)):\n",
    "            current += 1\n",
    "            return hops\n",
    "               \n",
    "    return hops\n",
    "\n",
    "\n",
    "if __name__ == '__main__':\n",
    "\n",
    "\n",
    "#    n = int(raw_input())\n",
    "\n",
    "#    c = map(int, raw_input().rstrip().split())\n",
    "\n",
    "    n = 7\n",
    "    c= [0, 0, 1, 0, 0, 1, 0]\n",
    "    result = jumpingOnClouds(c)\n",
    "    print result\n",
    "\n"
   ]
  },
  {
   "cell_type": "markdown",
   "metadata": {},
   "source": [
    "## Bsort"
   ]
  },
  {
   "cell_type": "code",
   "execution_count": 14,
   "metadata": {},
   "outputs": [
    {
     "name": "stdout",
     "output_type": "stream",
     "text": [
      "Array is sorted in 3 swaps.\n"
     ]
    }
   ],
   "source": [
    "def countSwaps(a):\n",
    "    swaps = 0\n",
    "    for i in range(len(a)):\n",
    "        for j in range(len(a)-1):\n",
    "            # Swap adjacent elements if they are in decreasing order\n",
    "            if (a[j] > a[j + 1]):\n",
    "                a[j], a[j + 1] = a[j+1], a[j]\n",
    "                swaps += 1\n",
    "    print 'Array is sorted in %d swaps.'% swaps\n",
    "\n",
    "    return\n",
    "\n",
    "if __name__ == '__main__':\n",
    "#    n = int(raw_input())\n",
    "\n",
    "#    a = map(int, raw_input().rstrip().split())\n",
    "    a = [3,2,1]\n",
    "    countSwaps(a)\n"
   ]
  },
  {
   "cell_type": "markdown",
   "metadata": {},
   "source": [
    "## Mark and Toys"
   ]
  },
  {
   "cell_type": "code",
   "execution_count": 17,
   "metadata": {},
   "outputs": [
    {
     "name": "stdout",
     "output_type": "stream",
     "text": [
      "4\n"
     ]
    }
   ],
   "source": [
    "# Complete the maximumToys function below.\n",
    "def maximumToys(prices, k):\n",
    "    prices.sort()\n",
    "\n",
    "    total = 0\n",
    "    numt = 0\n",
    "    for i in range(len(prices)):\n",
    "        total += prices[i]\n",
    "        if ( total < k):\n",
    "            numt += 1    \n",
    "    print numt\n",
    "    return numt\n",
    "\n",
    "\n",
    "if __name__ == '__main__':\n",
    "\n",
    "#    nk = raw_input().split()\n",
    "\n",
    "#    n = int(nk[0])\n",
    "#    k = int(nk[1])\n",
    "#    prices = map(int, raw_input().rstrip().split())\n",
    "\n",
    "    k = 50\n",
    "    prices = [1, 12, 5, 111, 200, 1000, 10]\n",
    "    result = maximumToys(prices, k)\n"
   ]
  },
  {
   "cell_type": "markdown",
   "metadata": {},
   "source": [
    "## Sorting Comparator"
   ]
  },
  {
   "cell_type": "code",
   "execution_count": 24,
   "metadata": {},
   "outputs": [
    {
     "name": "stdout",
     "output_type": "stream",
     "text": [
      "lee 10\n"
     ]
    }
   ],
   "source": [
    "class Player:\n",
    "    def __init__(self, name, score):\n",
    "        self.name = name\n",
    "        self.score = score\n",
    "        \n",
    "    def __repr__(self):\n",
    "        self\n",
    "        \n",
    "    def comparator(a, b):\n",
    "        if a.score < b.score:\n",
    "            return -1\n",
    "        elif a.score > b.score:\n",
    "            return 1\n",
    "        else:\n",
    "            if a.name < b.name:\n",
    "                return -1\n",
    "            elif a.name > b.name:\n",
    "                return 1\n",
    "            else:\n",
    "                return 0\n",
    "    \n",
    "\n",
    "#n = int(raw_input())\n",
    "n = 5\n",
    "\n",
    "p1= Player('lee', 10)\n",
    "print p1.name, p1.score"
   ]
  },
  {
   "cell_type": "markdown",
   "metadata": {},
   "source": [
    "## Notification"
   ]
  },
  {
   "cell_type": "code",
   "execution_count": 47,
   "metadata": {},
   "outputs": [
    {
     "name": "stdout",
     "output_type": "stream",
     "text": [
      "0\n"
     ]
    }
   ],
   "source": [
    "import numpy as np\n",
    "\n",
    "\n",
    "# Complete the activityNotifications function below.\n",
    "def activityNotifications(expenditure, d):\n",
    "    noti = 0\n",
    "    for i in range(d, len(expenditure)):\n",
    "        cmed = median(expenditure[i-d:i])\n",
    "#        print expenditure[i-d:i], \n",
    "#        print cmed, expenditure[i],\n",
    "        if cmed*2 <= expenditure[i]:\n",
    "            noti += 1   \n",
    "            print 'noti', noti\n",
    "    return noti\n",
    "\n",
    "\n",
    "if __name__ == '__main__':\n",
    "#    nd = raw_input().split()\n",
    "#    n = int(nd[0])\n",
    "#    d = int(nd[1])\n",
    "\n",
    "#    expenditure = map(int, raw_input().rstrip().split())\n",
    "    n = 4\n",
    "    d = 4\n",
    "#    expenditure = [2 ,3, 4, 2, 3, 6, 8, 4, 5]\n",
    "    expenditure = [1,2,3,4,4]\n",
    "\n",
    "\n",
    "    result = activityNotifications(expenditure, d)\n",
    "    print result"
   ]
  }
 ],
 "metadata": {
  "kernelspec": {
   "display_name": "Python 2",
   "language": "python",
   "name": "python2"
  },
  "language_info": {
   "codemirror_mode": {
    "name": "ipython",
    "version": 2
   },
   "file_extension": ".py",
   "mimetype": "text/x-python",
   "name": "python",
   "nbconvert_exporter": "python",
   "pygments_lexer": "ipython2",
   "version": "2.7.14"
  }
 },
 "nbformat": 4,
 "nbformat_minor": 2
}
