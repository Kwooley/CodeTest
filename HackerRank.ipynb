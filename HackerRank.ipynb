{
 "cells": [
  {
   "cell_type": "markdown",
   "metadata": {},
   "source": [
    "# Warm-up"
   ]
  },
  {
   "cell_type": "markdown",
   "metadata": {},
   "source": [
    "## Sock Match"
   ]
  },
  {
   "cell_type": "code",
   "execution_count": 24,
   "metadata": {},
   "outputs": [
    {
     "name": "stdout",
     "output_type": "stream",
     "text": [
      "[1, 1, 1, 2, 2, 3, 2, 3, 1, 1]\n",
      "4\n"
     ]
    }
   ],
   "source": [
    "# input : N\n",
    "# input : (n1, n2, n3, ... , nn)\n",
    "\n",
    "def sockMerchant(N, n):  \n",
    "    unique = list(set(n))\n",
    "    pairs = 0 \n",
    "    for u in unique:\n",
    "        num = n.count(u)\n",
    "        pairs += num // 2\n",
    "     \n",
    "    return pairs\n",
    "\n",
    "\n",
    "if __name__ == '__main__':\n",
    "    N = 10\n",
    "    n = [1, 1, 1, 2, 2, 3, 2, 3, 1, 1]\n",
    "#    N = raw_input()\n",
    "#    n = map(int, raw_input().rstrip().split())\n",
    "    print n\n",
    "\n",
    "    res = sockMerchant(N, n)\n",
    "    \n",
    "    print res\n",
    "\n",
    "    \n",
    "\n"
   ]
  },
  {
   "cell_type": "markdown",
   "metadata": {},
   "source": [
    "## Count Valley"
   ]
  },
  {
   "cell_type": "code",
   "execution_count": 5,
   "metadata": {},
   "outputs": [
    {
     "name": "stdout",
     "output_type": "stream",
     "text": [
      "2\n"
     ]
    }
   ],
   "source": [
    "#!/bin/python\n",
    "\n",
    "import math\n",
    "import os\n",
    "import random\n",
    "import re\n",
    "import sys\n",
    "\n",
    "# Complete the countingValleys function below.\n",
    "def countingValleys(n, s):\n",
    "    steps = map(str, s)\n",
    "    cntval = 0\n",
    "    level = 0\n",
    "    upsea = True\n",
    "    for i in range(n):\n",
    "        if ( steps[i] == 'D'):\n",
    "            level -= 1\n",
    "            if ( upsea == True and level < 0):\n",
    "                cntval += 1\n",
    "                upsea = False\n",
    "        elif ( steps[i] == 'U'):\n",
    "            level += 1\n",
    "            if ( upsea == False and level >= 0):\n",
    "                upsea = True\n",
    "    return cntval\n",
    "\n",
    "if __name__ == '__main__':\n",
    "#    n = int(raw_input())\n",
    "#    s = raw_input()\n",
    "    n = 12\n",
    "    s = 'DDUUDDUU'\n",
    "    s = 'DDUUDDUDUUUD'\n",
    "    result = countingValleys(n, s)\n",
    "\n",
    "    print result\n",
    "    \n",
    "    "
   ]
  },
  {
   "cell_type": "code",
   "execution_count": 28,
   "metadata": {},
   "outputs": [
    {
     "name": "stdout",
     "output_type": "stream",
     "text": [
      "['D', 'D', 'U', 'U', 'D', 'D', 'U', 'U']\n"
     ]
    }
   ],
   "source": [
    "s = 'DDUUDDUU'\n",
    "steps = map(str, s)\n",
    "print steps"
   ]
  },
  {
   "cell_type": "markdown",
   "metadata": {},
   "source": [
    "## Repeat String"
   ]
  },
  {
   "cell_type": "code",
   "execution_count": 22,
   "metadata": {},
   "outputs": [
    {
     "name": "stdout",
     "output_type": "stream",
     "text": [
      "4\n"
     ]
    }
   ],
   "source": [
    "def repeatedString(s, n):\n",
    "    rpt = n // len(s)\n",
    "    remainder = n - (rpt*(len(s)))\n",
    "    \n",
    "    cnt = s.count('a')\n",
    "    cnt_addition = s[:remainder].count('a')\n",
    "    \n",
    "    res = cnt * rpt\n",
    "    res += cnt_addition\n",
    "    \n",
    "    return res\n",
    "\n",
    "\n",
    "if __name__ == '__main__':\n",
    "\n",
    "#    s = raw_input()\n",
    "#    n = int(raw_input())\n",
    "    s = 'abc'\n",
    "    n = 10\n",
    "\n",
    "    result = repeatedString(s, n)\n",
    "\n",
    "    print result"
   ]
  },
  {
   "cell_type": "code",
   "execution_count": 21,
   "metadata": {},
   "outputs": [
    {
     "name": "stdout",
     "output_type": "stream",
     "text": [
      "2\n",
      "abcdeabcde\n",
      "ab\n",
      "abcdeabcdeab\n",
      "1\n"
     ]
    }
   ],
   "source": [
    "n = 12\n",
    "s = 'abcde'\n",
    "rpt = n // len(s)\n",
    "remainder = n - (rpt*(len(s)))\n",
    "print remainder\n",
    "    \n",
    "tarstr = s*rpt\n",
    "print tarstr\n",
    "print s[:remainder]\n",
    "tarstr += (s[:remainder])\n",
    "print tarstr\n",
    "print s[:remainder].count('a')\n"
   ]
  }
 ],
 "metadata": {
  "kernelspec": {
   "display_name": "Python 2",
   "language": "python",
   "name": "python2"
  },
  "language_info": {
   "codemirror_mode": {
    "name": "ipython",
    "version": 2
   },
   "file_extension": ".py",
   "mimetype": "text/x-python",
   "name": "python",
   "nbconvert_exporter": "python",
   "pygments_lexer": "ipython2",
   "version": "2.7.14"
  }
 },
 "nbformat": 4,
 "nbformat_minor": 2
}
